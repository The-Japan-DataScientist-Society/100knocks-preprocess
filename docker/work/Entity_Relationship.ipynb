{
 "cells": [
  {
   "cell_type": "markdown",
   "metadata": {},
   "source": [
    "# DB論理設計（ER図）\n",
    "- 一部、FKとなっているデータについて、マスターテーブルに存在しないデータを有することもあります\n",
    "- 例）非会員の顧客IDは顧客テーブルに含まれません\n",
    "- そのため、FKの情報は一般的なデータベースにおける外部参照制約を満たすものではありません\n",
    "- データを結合する際の参考情報として利用してください"
   ]
  },
  {
   "cell_type": "markdown",
   "metadata": {},
   "source": [
    "![ER図](data/100knocks_ER.png \"サンプル\")"
   ]
  },
  {
   "cell_type": "code",
   "execution_count": null,
   "metadata": {},
   "outputs": [],
   "source": []
  }
 ],
 "metadata": {
  "kernelspec": {
   "display_name": "Python 3 (ipykernel)",
   "language": "python",
   "name": "python3"
  },
  "language_info": {
   "codemirror_mode": {
    "name": "ipython",
    "version": 3
   },
   "file_extension": ".py",
   "mimetype": "text/x-python",
   "name": "python",
   "nbconvert_exporter": "python",
   "pygments_lexer": "ipython3",
   "version": "3.9.6"
  }
 },
 "nbformat": 4,
 "nbformat_minor": 4
}
