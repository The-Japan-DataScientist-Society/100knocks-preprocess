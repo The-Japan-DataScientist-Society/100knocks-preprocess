{
 "cells": [
  {
   "cell_type": "markdown",
   "metadata": {},
   "source": [
    "# データサイエンス100本ノック（構造化データ加工編） - SQL"
   ]
  },
  {
   "cell_type": "markdown",
   "metadata": {},
   "source": [
    "## はじめに\n",
    "- データベースはPostgreSQL13です\n",
    "- 初めに以下のセルを実行してください\n",
    "- セルに %%sql と記載することでSQLを発行することができます\n",
    "- jupyterからはdescribeコマンドによるテーブル構造の確認ができないため、テーブル構造を確認する場合はlimitを指定したSELECTなどで代用してください\n",
    "- 使い慣れたSQLクライアントを使っても問題ありません（接続情報は以下の通り）\n",
    "  - IPアドレス：Docker Desktopの場合はlocalhost、Docker toolboxの場合は192.168.99.100\n",
    "  - Port:5432\n",
    "  - database名: dsdojo_db\n",
    "  - ユーザ名：padawan\n",
    "  - パスワード:padawan12345\n",
    "- 大量出力を行うとJupyterが固まることがあるため、出力件数は制限することを推奨します（設問にも出力件数を記載）\n",
    "    - 結果確認のために表示させる量を適切にコントロールし、作業を軽快にすすめる技術もデータ加工には求められます\n",
    "- 大量結果が出力された場合は、ファイルが重くなり以降開けなくなることもあります\n",
    "    - その場合、作業結果は消えますがファイルをGitHubから取り直してください\n",
    "    - vimエディタなどで大量出力範囲を削除することもできます\n",
    "- 名前、住所等はダミーデータであり、実在するものではありません"
   ]
  },
  {
   "cell_type": "code",
   "execution_count": 1,
   "metadata": {},
   "outputs": [
    {
     "name": "stdout",
     "output_type": "stream",
     "text": [
      "There's a new jupysql version available (0.10.12), you're running 0.7.2. To upgrade: pip install jupysql --upgrade\n",
      "Deploy FastAPI apps for free on Ploomber Cloud! Learn more: https://ploomber.io/s/signup\n"
     ]
    }
   ],
   "source": [
    "%load_ext sql\n",
    "import os\n",
    "from sqlalchemy import create_engine\n",
    "\n",
    "pgconfig = {\n",
    "    'host': 'db',\n",
    "    'port': os.environ['PG_PORT'],\n",
    "    'database': os.environ['PG_DATABASE'],\n",
    "    'user': os.environ['PG_USER'],\n",
    "    'password': os.environ['PG_PASSWORD'],\n",
    "}\n",
    "dsl = 'postgresql://{user}:{password}@{host}:{port}/{database}'.format(**pgconfig)\n",
    "conn = create_engine(dsl)\n",
    "\n",
    "# MagicコマンドでSQLを書くための設定\n",
    "%sql conn"
   ]
  },
  {
   "cell_type": "markdown",
   "metadata": {},
   "source": [
    "# 使い方\n",
    "- セルの先頭に%%sqlと記載し、２行目以降にSQLを記述することでJupyterからPostgreSQLに対しSQLを実行できます。"
   ]
  },
  {
   "cell_type": "code",
   "execution_count": 3,
   "metadata": {},
   "outputs": [
    {
     "name": "stdout",
     "output_type": "stream",
     "text": [
      "*  postgresql://padawan:***@db:5432/dsdojo_db\n",
      "1 rows affected.\n"
     ]
    },
    {
     "data": {
      "text/html": [
       "<table>\n",
       "    <thead>\n",
       "        <tr>\n",
       "            <th>sample</th>\n",
       "        </tr>\n",
       "    </thead>\n",
       "    <tbody>\n",
       "        <tr>\n",
       "            <td>このように実行できます</td>\n",
       "        </tr>\n",
       "    </tbody>\n",
       "</table>"
      ],
      "text/plain": [
       "[('このように実行できます',)]"
      ]
     },
     "execution_count": 3,
     "metadata": {},
     "output_type": "execute_result"
    }
   ],
   "source": [
    "%%sql\n",
    "SELECT 'このように実行できます' AS sample;"
   ]
  },
  {
   "cell_type": "markdown",
   "metadata": {},
   "source": [
    "# データ加工100本ノック"
   ]
  },
  {
   "cell_type": "markdown",
   "metadata": {},
   "source": [
    "---\n",
    "> S-001: レシート明細データ（receipt）から全項目の先頭10件を表示し、どのようなデータを保有しているか目視で確認せよ。"
   ]
  },
  {
   "cell_type": "code",
   "execution_count": 6,
   "metadata": {},
   "outputs": [
    {
     "name": "stdout",
     "output_type": "stream",
     "text": [
      "*  postgresql://padawan:***@db:5432/dsdojo_db\n",
      "10 rows affected.\n"
     ]
    },
    {
     "data": {
      "text/html": [
       "<table>\n",
       "    <thead>\n",
       "        <tr>\n",
       "            <th>sales_ymd</th>\n",
       "            <th>sales_epoch</th>\n",
       "            <th>store_cd</th>\n",
       "            <th>receipt_no</th>\n",
       "            <th>receipt_sub_no</th>\n",
       "            <th>customer_id</th>\n",
       "            <th>product_cd</th>\n",
       "            <th>quantity</th>\n",
       "            <th>amount</th>\n",
       "        </tr>\n",
       "    </thead>\n",
       "    <tbody>\n",
       "        <tr>\n",
       "            <td>20181103</td>\n",
       "            <td>1541203200</td>\n",
       "            <td>S14006</td>\n",
       "            <td>112</td>\n",
       "            <td>1</td>\n",
       "            <td>CS006214000001</td>\n",
       "            <td>P070305012</td>\n",
       "            <td>1</td>\n",
       "            <td>158</td>\n",
       "        </tr>\n",
       "        <tr>\n",
       "            <td>20181118</td>\n",
       "            <td>1542499200</td>\n",
       "            <td>S13008</td>\n",
       "            <td>1132</td>\n",
       "            <td>2</td>\n",
       "            <td>CS008415000097</td>\n",
       "            <td>P070701017</td>\n",
       "            <td>1</td>\n",
       "            <td>81</td>\n",
       "        </tr>\n",
       "        <tr>\n",
       "            <td>20170712</td>\n",
       "            <td>1499817600</td>\n",
       "            <td>S14028</td>\n",
       "            <td>1102</td>\n",
       "            <td>1</td>\n",
       "            <td>CS028414000014</td>\n",
       "            <td>P060101005</td>\n",
       "            <td>1</td>\n",
       "            <td>170</td>\n",
       "        </tr>\n",
       "        <tr>\n",
       "            <td>20190205</td>\n",
       "            <td>1549324800</td>\n",
       "            <td>S14042</td>\n",
       "            <td>1132</td>\n",
       "            <td>1</td>\n",
       "            <td>ZZ000000000000</td>\n",
       "            <td>P050301001</td>\n",
       "            <td>1</td>\n",
       "            <td>25</td>\n",
       "        </tr>\n",
       "        <tr>\n",
       "            <td>20180821</td>\n",
       "            <td>1534809600</td>\n",
       "            <td>S14025</td>\n",
       "            <td>1102</td>\n",
       "            <td>2</td>\n",
       "            <td>CS025415000050</td>\n",
       "            <td>P060102007</td>\n",
       "            <td>1</td>\n",
       "            <td>90</td>\n",
       "        </tr>\n",
       "        <tr>\n",
       "            <td>20190605</td>\n",
       "            <td>1559692800</td>\n",
       "            <td>S13003</td>\n",
       "            <td>1112</td>\n",
       "            <td>1</td>\n",
       "            <td>CS003515000195</td>\n",
       "            <td>P050102002</td>\n",
       "            <td>1</td>\n",
       "            <td>138</td>\n",
       "        </tr>\n",
       "        <tr>\n",
       "            <td>20181205</td>\n",
       "            <td>1543968000</td>\n",
       "            <td>S14024</td>\n",
       "            <td>1102</td>\n",
       "            <td>2</td>\n",
       "            <td>CS024514000042</td>\n",
       "            <td>P080101005</td>\n",
       "            <td>1</td>\n",
       "            <td>30</td>\n",
       "        </tr>\n",
       "        <tr>\n",
       "            <td>20190922</td>\n",
       "            <td>1569110400</td>\n",
       "            <td>S14040</td>\n",
       "            <td>1102</td>\n",
       "            <td>1</td>\n",
       "            <td>CS040415000178</td>\n",
       "            <td>P070501004</td>\n",
       "            <td>1</td>\n",
       "            <td>128</td>\n",
       "        </tr>\n",
       "        <tr>\n",
       "            <td>20170504</td>\n",
       "            <td>1493856000</td>\n",
       "            <td>S13020</td>\n",
       "            <td>1112</td>\n",
       "            <td>2</td>\n",
       "            <td>ZZ000000000000</td>\n",
       "            <td>P071302010</td>\n",
       "            <td>1</td>\n",
       "            <td>770</td>\n",
       "        </tr>\n",
       "        <tr>\n",
       "            <td>20191010</td>\n",
       "            <td>1570665600</td>\n",
       "            <td>S14027</td>\n",
       "            <td>1102</td>\n",
       "            <td>1</td>\n",
       "            <td>CS027514000015</td>\n",
       "            <td>P071101003</td>\n",
       "            <td>1</td>\n",
       "            <td>680</td>\n",
       "        </tr>\n",
       "    </tbody>\n",
       "</table>"
      ],
      "text/plain": [
       "[(20181103, 1541203200, 'S14006', 112, 1, 'CS006214000001', 'P070305012', 1, 158),\n",
       " (20181118, 1542499200, 'S13008', 1132, 2, 'CS008415000097', 'P070701017', 1, 81),\n",
       " (20170712, 1499817600, 'S14028', 1102, 1, 'CS028414000014', 'P060101005', 1, 170),\n",
       " (20190205, 1549324800, 'S14042', 1132, 1, 'ZZ000000000000', 'P050301001', 1, 25),\n",
       " (20180821, 1534809600, 'S14025', 1102, 2, 'CS025415000050', 'P060102007', 1, 90),\n",
       " (20190605, 1559692800, 'S13003', 1112, 1, 'CS003515000195', 'P050102002', 1, 138),\n",
       " (20181205, 1543968000, 'S14024', 1102, 2, 'CS024514000042', 'P080101005', 1, 30),\n",
       " (20190922, 1569110400, 'S14040', 1102, 1, 'CS040415000178', 'P070501004', 1, 128),\n",
       " (20170504, 1493856000, 'S13020', 1112, 2, 'ZZ000000000000', 'P071302010', 1, 770),\n",
       " (20191010, 1570665600, 'S14027', 1102, 1, 'CS027514000015', 'P071101003', 1, 680)]"
      ]
     },
     "execution_count": 6,
     "metadata": {},
     "output_type": "execute_result"
    }
   ],
   "source": [
    "%%sql\n",
    "SELECT *\n",
    "FROM receipt\n",
    "LIMIT 10;"
   ]
  },
  {
   "cell_type": "markdown",
   "metadata": {},
   "source": [
    "---\n",
    "> S-002: レシート明細データ（receipt）から売上年月日（sales_ymd）、顧客ID（customer_id）、商品コード（product_cd）、売上金額（amount）の順に列を指定し、10件表示せよ。"
   ]
  },
  {
   "cell_type": "code",
   "execution_count": 7,
   "metadata": {},
   "outputs": [
    {
     "name": "stdout",
     "output_type": "stream",
     "text": [
      "*  postgresql://padawan:***@db:5432/dsdojo_db\n",
      "10 rows affected.\n"
     ]
    },
    {
     "data": {
      "text/html": [
       "<table>\n",
       "    <thead>\n",
       "        <tr>\n",
       "            <th>sales_ymd</th>\n",
       "            <th>customer_id</th>\n",
       "            <th>product_cd</th>\n",
       "            <th>amount</th>\n",
       "        </tr>\n",
       "    </thead>\n",
       "    <tbody>\n",
       "        <tr>\n",
       "            <td>20181103</td>\n",
       "            <td>CS006214000001</td>\n",
       "            <td>P070305012</td>\n",
       "            <td>158</td>\n",
       "        </tr>\n",
       "        <tr>\n",
       "            <td>20181118</td>\n",
       "            <td>CS008415000097</td>\n",
       "            <td>P070701017</td>\n",
       "            <td>81</td>\n",
       "        </tr>\n",
       "        <tr>\n",
       "            <td>20170712</td>\n",
       "            <td>CS028414000014</td>\n",
       "            <td>P060101005</td>\n",
       "            <td>170</td>\n",
       "        </tr>\n",
       "        <tr>\n",
       "            <td>20190205</td>\n",
       "            <td>ZZ000000000000</td>\n",
       "            <td>P050301001</td>\n",
       "            <td>25</td>\n",
       "        </tr>\n",
       "        <tr>\n",
       "            <td>20180821</td>\n",
       "            <td>CS025415000050</td>\n",
       "            <td>P060102007</td>\n",
       "            <td>90</td>\n",
       "        </tr>\n",
       "        <tr>\n",
       "            <td>20190605</td>\n",
       "            <td>CS003515000195</td>\n",
       "            <td>P050102002</td>\n",
       "            <td>138</td>\n",
       "        </tr>\n",
       "        <tr>\n",
       "            <td>20181205</td>\n",
       "            <td>CS024514000042</td>\n",
       "            <td>P080101005</td>\n",
       "            <td>30</td>\n",
       "        </tr>\n",
       "        <tr>\n",
       "            <td>20190922</td>\n",
       "            <td>CS040415000178</td>\n",
       "            <td>P070501004</td>\n",
       "            <td>128</td>\n",
       "        </tr>\n",
       "        <tr>\n",
       "            <td>20170504</td>\n",
       "            <td>ZZ000000000000</td>\n",
       "            <td>P071302010</td>\n",
       "            <td>770</td>\n",
       "        </tr>\n",
       "        <tr>\n",
       "            <td>20191010</td>\n",
       "            <td>CS027514000015</td>\n",
       "            <td>P071101003</td>\n",
       "            <td>680</td>\n",
       "        </tr>\n",
       "    </tbody>\n",
       "</table>"
      ],
      "text/plain": [
       "[(20181103, 'CS006214000001', 'P070305012', 158),\n",
       " (20181118, 'CS008415000097', 'P070701017', 81),\n",
       " (20170712, 'CS028414000014', 'P060101005', 170),\n",
       " (20190205, 'ZZ000000000000', 'P050301001', 25),\n",
       " (20180821, 'CS025415000050', 'P060102007', 90),\n",
       " (20190605, 'CS003515000195', 'P050102002', 138),\n",
       " (20181205, 'CS024514000042', 'P080101005', 30),\n",
       " (20190922, 'CS040415000178', 'P070501004', 128),\n",
       " (20170504, 'ZZ000000000000', 'P071302010', 770),\n",
       " (20191010, 'CS027514000015', 'P071101003', 680)]"
      ]
     },
     "execution_count": 7,
     "metadata": {},
     "output_type": "execute_result"
    }
   ],
   "source": [
    "%%sql\n",
    "SELECT sales_ymd, customer_id, product_cd, amount\n",
    "FROM receipt\n",
    "LIMIT 10;"
   ]
  },
  {
   "cell_type": "markdown",
   "metadata": {},
   "source": [
    "---\n",
    "> S-003: レシート明細データ（receipt）から売上年月日（sales_ymd）、顧客ID（customer_id）、商品コード（product_cd）、売上金額（amount）の順に列を指定し、10件表示せよ。ただし、sales_ymdをsales_dateに項目名を変更しながら抽出すること。"
   ]
  },
  {
   "cell_type": "code",
   "execution_count": 8,
   "metadata": {},
   "outputs": [
    {
     "name": "stdout",
     "output_type": "stream",
     "text": [
      "*  postgresql://padawan:***@db:5432/dsdojo_db\n",
      "10 rows affected.\n"
     ]
    },
    {
     "data": {
      "text/html": [
       "<table>\n",
       "    <thead>\n",
       "        <tr>\n",
       "            <th>sales_date</th>\n",
       "            <th>customer_id</th>\n",
       "            <th>product_cd</th>\n",
       "            <th>amount</th>\n",
       "        </tr>\n",
       "    </thead>\n",
       "    <tbody>\n",
       "        <tr>\n",
       "            <td>20181103</td>\n",
       "            <td>CS006214000001</td>\n",
       "            <td>P070305012</td>\n",
       "            <td>158</td>\n",
       "        </tr>\n",
       "        <tr>\n",
       "            <td>20181118</td>\n",
       "            <td>CS008415000097</td>\n",
       "            <td>P070701017</td>\n",
       "            <td>81</td>\n",
       "        </tr>\n",
       "        <tr>\n",
       "            <td>20170712</td>\n",
       "            <td>CS028414000014</td>\n",
       "            <td>P060101005</td>\n",
       "            <td>170</td>\n",
       "        </tr>\n",
       "        <tr>\n",
       "            <td>20190205</td>\n",
       "            <td>ZZ000000000000</td>\n",
       "            <td>P050301001</td>\n",
       "            <td>25</td>\n",
       "        </tr>\n",
       "        <tr>\n",
       "            <td>20180821</td>\n",
       "            <td>CS025415000050</td>\n",
       "            <td>P060102007</td>\n",
       "            <td>90</td>\n",
       "        </tr>\n",
       "        <tr>\n",
       "            <td>20190605</td>\n",
       "            <td>CS003515000195</td>\n",
       "            <td>P050102002</td>\n",
       "            <td>138</td>\n",
       "        </tr>\n",
       "        <tr>\n",
       "            <td>20181205</td>\n",
       "            <td>CS024514000042</td>\n",
       "            <td>P080101005</td>\n",
       "            <td>30</td>\n",
       "        </tr>\n",
       "        <tr>\n",
       "            <td>20190922</td>\n",
       "            <td>CS040415000178</td>\n",
       "            <td>P070501004</td>\n",
       "            <td>128</td>\n",
       "        </tr>\n",
       "        <tr>\n",
       "            <td>20170504</td>\n",
       "            <td>ZZ000000000000</td>\n",
       "            <td>P071302010</td>\n",
       "            <td>770</td>\n",
       "        </tr>\n",
       "        <tr>\n",
       "            <td>20191010</td>\n",
       "            <td>CS027514000015</td>\n",
       "            <td>P071101003</td>\n",
       "            <td>680</td>\n",
       "        </tr>\n",
       "    </tbody>\n",
       "</table>"
      ],
      "text/plain": [
       "[(20181103, 'CS006214000001', 'P070305012', 158),\n",
       " (20181118, 'CS008415000097', 'P070701017', 81),\n",
       " (20170712, 'CS028414000014', 'P060101005', 170),\n",
       " (20190205, 'ZZ000000000000', 'P050301001', 25),\n",
       " (20180821, 'CS025415000050', 'P060102007', 90),\n",
       " (20190605, 'CS003515000195', 'P050102002', 138),\n",
       " (20181205, 'CS024514000042', 'P080101005', 30),\n",
       " (20190922, 'CS040415000178', 'P070501004', 128),\n",
       " (20170504, 'ZZ000000000000', 'P071302010', 770),\n",
       " (20191010, 'CS027514000015', 'P071101003', 680)]"
      ]
     },
     "execution_count": 8,
     "metadata": {},
     "output_type": "execute_result"
    }
   ],
   "source": [
    "%%sql\n",
    "SELECT sales_ymd AS sales_date, customer_id, product_cd, amount\n",
    "FROM receipt\n",
    "LIMIT 10;"
   ]
  },
  {
   "cell_type": "markdown",
   "metadata": {},
   "source": [
    "---\n",
    "> S-004: レシート明細データ（receipt）から売上日（sales_ymd）、顧客ID（customer_id）、商品コード（product_cd）、売上金額（amount）の順に列を指定し、以下の条件を満たすデータを抽出せよ。\n",
    "> - 顧客ID（customer_id）が\"CS018205000001\""
   ]
  },
  {
   "cell_type": "code",
   "execution_count": 10,
   "metadata": {},
   "outputs": [
    {
     "name": "stdout",
     "output_type": "stream",
     "text": [
      "*  postgresql://padawan:***@db:5432/dsdojo_db\n",
      "12 rows affected.\n"
     ]
    },
    {
     "data": {
      "text/html": [
       "<table>\n",
       "    <thead>\n",
       "        <tr>\n",
       "            <th>sales_ymd</th>\n",
       "            <th>customer_id</th>\n",
       "            <th>product_cd</th>\n",
       "            <th>amount</th>\n",
       "        </tr>\n",
       "    </thead>\n",
       "    <tbody>\n",
       "        <tr>\n",
       "            <td>20180911</td>\n",
       "            <td>CS018205000001</td>\n",
       "            <td>P071401012</td>\n",
       "            <td>2200</td>\n",
       "        </tr>\n",
       "        <tr>\n",
       "            <td>20180414</td>\n",
       "            <td>CS018205000001</td>\n",
       "            <td>P060104007</td>\n",
       "            <td>600</td>\n",
       "        </tr>\n",
       "        <tr>\n",
       "            <td>20170614</td>\n",
       "            <td>CS018205000001</td>\n",
       "            <td>P050206001</td>\n",
       "            <td>990</td>\n",
       "        </tr>\n",
       "        <tr>\n",
       "            <td>20170614</td>\n",
       "            <td>CS018205000001</td>\n",
       "            <td>P060702015</td>\n",
       "            <td>108</td>\n",
       "        </tr>\n",
       "        <tr>\n",
       "            <td>20190216</td>\n",
       "            <td>CS018205000001</td>\n",
       "            <td>P071005024</td>\n",
       "            <td>102</td>\n",
       "        </tr>\n",
       "        <tr>\n",
       "            <td>20180414</td>\n",
       "            <td>CS018205000001</td>\n",
       "            <td>P071101002</td>\n",
       "            <td>278</td>\n",
       "        </tr>\n",
       "        <tr>\n",
       "            <td>20190226</td>\n",
       "            <td>CS018205000001</td>\n",
       "            <td>P070902035</td>\n",
       "            <td>168</td>\n",
       "        </tr>\n",
       "        <tr>\n",
       "            <td>20190924</td>\n",
       "            <td>CS018205000001</td>\n",
       "            <td>P060805001</td>\n",
       "            <td>495</td>\n",
       "        </tr>\n",
       "        <tr>\n",
       "            <td>20190226</td>\n",
       "            <td>CS018205000001</td>\n",
       "            <td>P071401020</td>\n",
       "            <td>2200</td>\n",
       "        </tr>\n",
       "        <tr>\n",
       "            <td>20180911</td>\n",
       "            <td>CS018205000001</td>\n",
       "            <td>P071401005</td>\n",
       "            <td>1100</td>\n",
       "        </tr>\n",
       "        <tr>\n",
       "            <td>20190216</td>\n",
       "            <td>CS018205000001</td>\n",
       "            <td>P040101002</td>\n",
       "            <td>218</td>\n",
       "        </tr>\n",
       "        <tr>\n",
       "            <td>20190924</td>\n",
       "            <td>CS018205000001</td>\n",
       "            <td>P091503001</td>\n",
       "            <td>280</td>\n",
       "        </tr>\n",
       "    </tbody>\n",
       "</table>"
      ],
      "text/plain": [
       "[(20180911, 'CS018205000001', 'P071401012', 2200),\n",
       " (20180414, 'CS018205000001', 'P060104007', 600),\n",
       " (20170614, 'CS018205000001', 'P050206001', 990),\n",
       " (20170614, 'CS018205000001', 'P060702015', 108),\n",
       " (20190216, 'CS018205000001', 'P071005024', 102),\n",
       " (20180414, 'CS018205000001', 'P071101002', 278),\n",
       " (20190226, 'CS018205000001', 'P070902035', 168),\n",
       " (20190924, 'CS018205000001', 'P060805001', 495),\n",
       " (20190226, 'CS018205000001', 'P071401020', 2200),\n",
       " (20180911, 'CS018205000001', 'P071401005', 1100),\n",
       " (20190216, 'CS018205000001', 'P040101002', 218),\n",
       " (20190924, 'CS018205000001', 'P091503001', 280)]"
      ]
     },
     "execution_count": 10,
     "metadata": {},
     "output_type": "execute_result"
    }
   ],
   "source": [
    "%%sql\n",
    "SELECT sales_ymd, customer_id, product_cd, amount\n",
    "FROM receipt\n",
    "WHERE customer_id = 'CS018205000001';"
   ]
  },
  {
   "cell_type": "markdown",
   "metadata": {},
   "source": [
    "---\n",
    "> S-005: レシート明細データ（receipt）から売上日（sales_ymd）、顧客ID（customer_id）、商品コード（product_cd）、売上金額（amount）の順に列を指定し、以下の全ての条件を満たすデータを抽出せよ。\n",
    "> - 顧客ID（customer_id）が\"CS018205000001\"\n",
    "> - 売上金額（amount）が1,000以上"
   ]
  },
  {
   "cell_type": "code",
   "execution_count": 11,
   "metadata": {},
   "outputs": [
    {
     "name": "stdout",
     "output_type": "stream",
     "text": [
      "*  postgresql://padawan:***@db:5432/dsdojo_db\n",
      "3 rows affected.\n"
     ]
    },
    {
     "data": {
      "text/html": [
       "<table>\n",
       "    <thead>\n",
       "        <tr>\n",
       "            <th>sales_ymd</th>\n",
       "            <th>customer_id</th>\n",
       "            <th>product_cd</th>\n",
       "            <th>amount</th>\n",
       "        </tr>\n",
       "    </thead>\n",
       "    <tbody>\n",
       "        <tr>\n",
       "            <td>20180911</td>\n",
       "            <td>CS018205000001</td>\n",
       "            <td>P071401012</td>\n",
       "            <td>2200</td>\n",
       "        </tr>\n",
       "        <tr>\n",
       "            <td>20190226</td>\n",
       "            <td>CS018205000001</td>\n",
       "            <td>P071401020</td>\n",
       "            <td>2200</td>\n",
       "        </tr>\n",
       "        <tr>\n",
       "            <td>20180911</td>\n",
       "            <td>CS018205000001</td>\n",
       "            <td>P071401005</td>\n",
       "            <td>1100</td>\n",
       "        </tr>\n",
       "    </tbody>\n",
       "</table>"
      ],
      "text/plain": [
       "[(20180911, 'CS018205000001', 'P071401012', 2200),\n",
       " (20190226, 'CS018205000001', 'P071401020', 2200),\n",
       " (20180911, 'CS018205000001', 'P071401005', 1100)]"
      ]
     },
     "execution_count": 11,
     "metadata": {},
     "output_type": "execute_result"
    }
   ],
   "source": [
    "%%sql\n",
    "SELECT sales_ymd, customer_id, product_cd, amount\n",
    "FROM receipt\n",
    "WHERE customer_id = 'CS018205000001' AND amount >= 1000;"
   ]
  },
  {
   "cell_type": "markdown",
   "metadata": {},
   "source": [
    "---\n",
    "> S-006: レシート明細データ（receipt）から売上日（sales_ymd）、顧客ID（customer_id）、商品コード（product_cd）、売上数量（quantity）、売上金額（amount）の順に列を指定し、以下の全ての条件を満たすデータを抽出せよ。\n",
    "> - 顧客ID（customer_id）が\"CS018205000001\"\n",
    "> - 売上金額（amount）が1,000以上または売上数量（quantity）が5以上"
   ]
  },
  {
   "cell_type": "code",
   "execution_count": 12,
   "metadata": {},
   "outputs": [
    {
     "name": "stdout",
     "output_type": "stream",
     "text": [
      "*  postgresql://padawan:***@db:5432/dsdojo_db\n",
      "5 rows affected.\n"
     ]
    },
    {
     "data": {
      "text/html": [
       "<table>\n",
       "    <thead>\n",
       "        <tr>\n",
       "            <th>sales_ymd</th>\n",
       "            <th>customer_id</th>\n",
       "            <th>product_cd</th>\n",
       "            <th>quantity</th>\n",
       "            <th>amount</th>\n",
       "        </tr>\n",
       "    </thead>\n",
       "    <tbody>\n",
       "        <tr>\n",
       "            <td>20180911</td>\n",
       "            <td>CS018205000001</td>\n",
       "            <td>P071401012</td>\n",
       "            <td>1</td>\n",
       "            <td>2200</td>\n",
       "        </tr>\n",
       "        <tr>\n",
       "            <td>20180414</td>\n",
       "            <td>CS018205000001</td>\n",
       "            <td>P060104007</td>\n",
       "            <td>6</td>\n",
       "            <td>600</td>\n",
       "        </tr>\n",
       "        <tr>\n",
       "            <td>20170614</td>\n",
       "            <td>CS018205000001</td>\n",
       "            <td>P050206001</td>\n",
       "            <td>5</td>\n",
       "            <td>990</td>\n",
       "        </tr>\n",
       "        <tr>\n",
       "            <td>20190226</td>\n",
       "            <td>CS018205000001</td>\n",
       "            <td>P071401020</td>\n",
       "            <td>1</td>\n",
       "            <td>2200</td>\n",
       "        </tr>\n",
       "        <tr>\n",
       "            <td>20180911</td>\n",
       "            <td>CS018205000001</td>\n",
       "            <td>P071401005</td>\n",
       "            <td>1</td>\n",
       "            <td>1100</td>\n",
       "        </tr>\n",
       "    </tbody>\n",
       "</table>"
      ],
      "text/plain": [
       "[(20180911, 'CS018205000001', 'P071401012', 1, 2200),\n",
       " (20180414, 'CS018205000001', 'P060104007', 6, 600),\n",
       " (20170614, 'CS018205000001', 'P050206001', 5, 990),\n",
       " (20190226, 'CS018205000001', 'P071401020', 1, 2200),\n",
       " (20180911, 'CS018205000001', 'P071401005', 1, 1100)]"
      ]
     },
     "execution_count": 12,
     "metadata": {},
     "output_type": "execute_result"
    }
   ],
   "source": [
    "%%sql\n",
    "SELECT sales_ymd, customer_id, product_cd, quantity, amount\n",
    "FROM receipt\n",
    "WHERE customer_id = 'CS018205000001' AND (amount >= 1000 OR quantity >= 5);"
   ]
  },
  {
   "cell_type": "markdown",
   "metadata": {},
   "source": [
    "---\n",
    "> S-007: レシート明細データ（receipt）から売上日（sales_ymd）、顧客ID（customer_id）、商品コード（product_cd）、売上金額（amount）の順に列を指定し、以下の全ての条件を満たすデータを抽出せよ。\n",
    "> - 顧客ID（customer_id）が\"CS018205000001\"\n",
    "> - 売上金額（amount）が1,000以上2,000以下"
   ]
  },
  {
   "cell_type": "code",
   "execution_count": 13,
   "metadata": {},
   "outputs": [
    {
     "name": "stdout",
     "output_type": "stream",
     "text": [
      "*  postgresql://padawan:***@db:5432/dsdojo_db\n",
      "1 rows affected.\n"
     ]
    },
    {
     "data": {
      "text/html": [
       "<table>\n",
       "    <thead>\n",
       "        <tr>\n",
       "            <th>sales_ymd</th>\n",
       "            <th>customer_id</th>\n",
       "            <th>product_cd</th>\n",
       "            <th>amount</th>\n",
       "        </tr>\n",
       "    </thead>\n",
       "    <tbody>\n",
       "        <tr>\n",
       "            <td>20180911</td>\n",
       "            <td>CS018205000001</td>\n",
       "            <td>P071401005</td>\n",
       "            <td>1100</td>\n",
       "        </tr>\n",
       "    </tbody>\n",
       "</table>"
      ],
      "text/plain": [
       "[(20180911, 'CS018205000001', 'P071401005', 1100)]"
      ]
     },
     "execution_count": 13,
     "metadata": {},
     "output_type": "execute_result"
    }
   ],
   "source": [
    "%%sql\n",
    "SELECT sales_ymd, customer_id, product_cd, amount\n",
    "FROM receipt\n",
    "WHERE customer_id = 'CS018205000001' AND (amount >= 1000 AND amount <= 2000);"
   ]
  },
  {
   "cell_type": "markdown",
   "metadata": {},
   "source": [
    "---\n",
    "> S-008: レシート明細データ（receipt）から売上日（sales_ymd）、顧客ID（customer_id）、商品コード（product_cd）、売上金額（amount）の順に列を指定し、以下の全ての条件を満たすデータを抽出せよ。\n",
    "> - 顧客ID（customer_id）が\"CS018205000001\"\n",
    "> - 商品コード（product_cd）が\"P071401019\"以外"
   ]
  },
  {
   "cell_type": "code",
   "execution_count": 15,
   "metadata": {},
   "outputs": [
    {
     "name": "stdout",
     "output_type": "stream",
     "text": [
      "*  postgresql://padawan:***@db:5432/dsdojo_db\n",
      "12 rows affected.\n"
     ]
    },
    {
     "data": {
      "text/html": [
       "<table>\n",
       "    <thead>\n",
       "        <tr>\n",
       "            <th>sales_ymd</th>\n",
       "            <th>customer_id</th>\n",
       "            <th>product_cd</th>\n",
       "            <th>amount</th>\n",
       "        </tr>\n",
       "    </thead>\n",
       "    <tbody>\n",
       "        <tr>\n",
       "            <td>20180911</td>\n",
       "            <td>CS018205000001</td>\n",
       "            <td>P071401012</td>\n",
       "            <td>2200</td>\n",
       "        </tr>\n",
       "        <tr>\n",
       "            <td>20180414</td>\n",
       "            <td>CS018205000001</td>\n",
       "            <td>P060104007</td>\n",
       "            <td>600</td>\n",
       "        </tr>\n",
       "        <tr>\n",
       "            <td>20170614</td>\n",
       "            <td>CS018205000001</td>\n",
       "            <td>P050206001</td>\n",
       "            <td>990</td>\n",
       "        </tr>\n",
       "        <tr>\n",
       "            <td>20170614</td>\n",
       "            <td>CS018205000001</td>\n",
       "            <td>P060702015</td>\n",
       "            <td>108</td>\n",
       "        </tr>\n",
       "        <tr>\n",
       "            <td>20190216</td>\n",
       "            <td>CS018205000001</td>\n",
       "            <td>P071005024</td>\n",
       "            <td>102</td>\n",
       "        </tr>\n",
       "        <tr>\n",
       "            <td>20180414</td>\n",
       "            <td>CS018205000001</td>\n",
       "            <td>P071101002</td>\n",
       "            <td>278</td>\n",
       "        </tr>\n",
       "        <tr>\n",
       "            <td>20190226</td>\n",
       "            <td>CS018205000001</td>\n",
       "            <td>P070902035</td>\n",
       "            <td>168</td>\n",
       "        </tr>\n",
       "        <tr>\n",
       "            <td>20190924</td>\n",
       "            <td>CS018205000001</td>\n",
       "            <td>P060805001</td>\n",
       "            <td>495</td>\n",
       "        </tr>\n",
       "        <tr>\n",
       "            <td>20190226</td>\n",
       "            <td>CS018205000001</td>\n",
       "            <td>P071401020</td>\n",
       "            <td>2200</td>\n",
       "        </tr>\n",
       "        <tr>\n",
       "            <td>20180911</td>\n",
       "            <td>CS018205000001</td>\n",
       "            <td>P071401005</td>\n",
       "            <td>1100</td>\n",
       "        </tr>\n",
       "        <tr>\n",
       "            <td>20190216</td>\n",
       "            <td>CS018205000001</td>\n",
       "            <td>P040101002</td>\n",
       "            <td>218</td>\n",
       "        </tr>\n",
       "        <tr>\n",
       "            <td>20190924</td>\n",
       "            <td>CS018205000001</td>\n",
       "            <td>P091503001</td>\n",
       "            <td>280</td>\n",
       "        </tr>\n",
       "    </tbody>\n",
       "</table>"
      ],
      "text/plain": [
       "[(20180911, 'CS018205000001', 'P071401012', 2200),\n",
       " (20180414, 'CS018205000001', 'P060104007', 600),\n",
       " (20170614, 'CS018205000001', 'P050206001', 990),\n",
       " (20170614, 'CS018205000001', 'P060702015', 108),\n",
       " (20190216, 'CS018205000001', 'P071005024', 102),\n",
       " (20180414, 'CS018205000001', 'P071101002', 278),\n",
       " (20190226, 'CS018205000001', 'P070902035', 168),\n",
       " (20190924, 'CS018205000001', 'P060805001', 495),\n",
       " (20190226, 'CS018205000001', 'P071401020', 2200),\n",
       " (20180911, 'CS018205000001', 'P071401005', 1100),\n",
       " (20190216, 'CS018205000001', 'P040101002', 218),\n",
       " (20190924, 'CS018205000001', 'P091503001', 280)]"
      ]
     },
     "execution_count": 15,
     "metadata": {},
     "output_type": "execute_result"
    }
   ],
   "source": [
    "%%sql\n",
    "SELECT sales_ymd, customer_id, product_cd, amount\n",
    "FROM receipt\n",
    "WHERE customer_id = 'CS018205000001' AND product_cd != 'P071401019'"
   ]
  },
  {
   "cell_type": "markdown",
   "metadata": {},
   "source": [
    "---\n",
    "> S-009: 以下の処理において、出力結果を変えずにORをANDに書き換えよ。\n",
    ">\n",
    "> `SELECT * FROM store WHERE NOT (prefecture_cd = '13' OR floor_area > 900)`"
   ]
  },
  {
   "cell_type": "code",
   "execution_count": 17,
   "metadata": {},
   "outputs": [
    {
     "name": "stdout",
     "output_type": "stream",
     "text": [
      "*  postgresql://padawan:***@db:5432/dsdojo_db\n",
      "3 rows affected.\n"
     ]
    },
    {
     "data": {
      "text/html": [
       "<table>\n",
       "    <thead>\n",
       "        <tr>\n",
       "            <th>store_cd</th>\n",
       "            <th>store_name</th>\n",
       "            <th>prefecture_cd</th>\n",
       "            <th>prefecture</th>\n",
       "            <th>address</th>\n",
       "            <th>address_kana</th>\n",
       "            <th>tel_no</th>\n",
       "            <th>longitude</th>\n",
       "            <th>latitude</th>\n",
       "            <th>floor_area</th>\n",
       "        </tr>\n",
       "    </thead>\n",
       "    <tbody>\n",
       "        <tr>\n",
       "            <td>S14046</td>\n",
       "            <td>北山田店</td>\n",
       "            <td>14</td>\n",
       "            <td>神奈川県</td>\n",
       "            <td>神奈川県横浜市都筑区北山田一丁目</td>\n",
       "            <td>カナガワケンヨコハマシツヅキクキタヤマタイッチョウメ</td>\n",
       "            <td>045-123-4049</td>\n",
       "            <td>139.5916</td>\n",
       "            <td>35.56189</td>\n",
       "            <td>831.0</td>\n",
       "        </tr>\n",
       "        <tr>\n",
       "            <td>S14011</td>\n",
       "            <td>日吉本町店</td>\n",
       "            <td>14</td>\n",
       "            <td>神奈川県</td>\n",
       "            <td>神奈川県横浜市港北区日吉本町四丁目</td>\n",
       "            <td>カナガワケンヨコハマシコウホククヒヨシホンチョウヨンチョウメ</td>\n",
       "            <td>045-123-4033</td>\n",
       "            <td>139.6316</td>\n",
       "            <td>35.54655</td>\n",
       "            <td>890.0</td>\n",
       "        </tr>\n",
       "        <tr>\n",
       "            <td>S12013</td>\n",
       "            <td>習志野店</td>\n",
       "            <td>12</td>\n",
       "            <td>千葉県</td>\n",
       "            <td>千葉県習志野市芝園一丁目</td>\n",
       "            <td>チバケンナラシノシシバゾノイッチョウメ</td>\n",
       "            <td>047-123-4002</td>\n",
       "            <td>140.022</td>\n",
       "            <td>35.66122</td>\n",
       "            <td>808.0</td>\n",
       "        </tr>\n",
       "    </tbody>\n",
       "</table>"
      ],
      "text/plain": [
       "[('S14046', '北山田店', '14', '神奈川県', '神奈川県横浜市都筑区北山田一丁目', 'カナガワケンヨコハマシツヅキクキタヤマタイッチョウメ', '045-123-4049', Decimal('139.5916'), Decimal('35.56189'), Decimal('831.0')),\n",
       " ('S14011', '日吉本町店', '14', '神奈川県', '神奈川県横浜市港北区日吉本町四丁目', 'カナガワケンヨコハマシコウホククヒヨシホンチョウヨンチョウメ', '045-123-4033', Decimal('139.6316'), Decimal('35.54655'), Decimal('890.0')),\n",
       " ('S12013', '習志野店', '12', '千葉県', '千葉県習志野市芝園一丁目', 'チバケンナラシノシシバゾノイッチョウメ', '047-123-4002', Decimal('140.022'), Decimal('35.66122'), Decimal('808.0'))]"
      ]
     },
     "execution_count": 17,
     "metadata": {},
     "output_type": "execute_result"
    }
   ],
   "source": [
    "%%sql\n",
    "SELECT * FROM store WHERE prefecture_cd != '13' AND floor_area <= 900"
   ]
  },
  {
   "cell_type": "markdown",
   "metadata": {},
   "source": [
    "---\n",
    "> S-010: 店舗データ（store）から、店舗コード（store_cd）が\"S14\"で始まるものだけ全項目抽出し、10件表示せよ。"
   ]
  },
  {
   "cell_type": "code",
   "execution_count": 19,
   "metadata": {},
   "outputs": [
    {
     "name": "stdout",
     "output_type": "stream",
     "text": [
      "*  postgresql://padawan:***@db:5432/dsdojo_db\n",
      "10 rows affected.\n"
     ]
    },
    {
     "data": {
      "text/html": [
       "<table>\n",
       "    <thead>\n",
       "        <tr>\n",
       "            <th>store_cd</th>\n",
       "            <th>store_name</th>\n",
       "            <th>prefecture_cd</th>\n",
       "            <th>prefecture</th>\n",
       "            <th>address</th>\n",
       "            <th>address_kana</th>\n",
       "            <th>tel_no</th>\n",
       "            <th>longitude</th>\n",
       "            <th>latitude</th>\n",
       "            <th>floor_area</th>\n",
       "        </tr>\n",
       "    </thead>\n",
       "    <tbody>\n",
       "        <tr>\n",
       "            <td>S14010</td>\n",
       "            <td>菊名店</td>\n",
       "            <td>14</td>\n",
       "            <td>神奈川県</td>\n",
       "            <td>神奈川県横浜市港北区菊名一丁目</td>\n",
       "            <td>カナガワケンヨコハマシコウホククキクナイッチョウメ</td>\n",
       "            <td>045-123-4032</td>\n",
       "            <td>139.6326</td>\n",
       "            <td>35.50049</td>\n",
       "            <td>1732.0</td>\n",
       "        </tr>\n",
       "        <tr>\n",
       "            <td>S14033</td>\n",
       "            <td>阿久和店</td>\n",
       "            <td>14</td>\n",
       "            <td>神奈川県</td>\n",
       "            <td>神奈川県横浜市瀬谷区阿久和西一丁目</td>\n",
       "            <td>カナガワケンヨコハマシセヤクアクワニシイッチョウメ</td>\n",
       "            <td>045-123-4043</td>\n",
       "            <td>139.4961</td>\n",
       "            <td>35.45918</td>\n",
       "            <td>1495.0</td>\n",
       "        </tr>\n",
       "        <tr>\n",
       "            <td>S14036</td>\n",
       "            <td>相模原中央店</td>\n",
       "            <td>14</td>\n",
       "            <td>神奈川県</td>\n",
       "            <td>神奈川県相模原市中央二丁目</td>\n",
       "            <td>カナガワケンサガミハラシチュウオウニチョウメ</td>\n",
       "            <td>042-123-4045</td>\n",
       "            <td>139.3716</td>\n",
       "            <td>35.57327</td>\n",
       "            <td>1679.0</td>\n",
       "        </tr>\n",
       "        <tr>\n",
       "            <td>S14040</td>\n",
       "            <td>長津田店</td>\n",
       "            <td>14</td>\n",
       "            <td>神奈川県</td>\n",
       "            <td>神奈川県横浜市緑区長津田みなみ台五丁目</td>\n",
       "            <td>カナガワケンヨコハマシミドリクナガツタミナミダイゴチョウメ</td>\n",
       "            <td>045-123-4046</td>\n",
       "            <td>139.4994</td>\n",
       "            <td>35.52398</td>\n",
       "            <td>1548.0</td>\n",
       "        </tr>\n",
       "        <tr>\n",
       "            <td>S14050</td>\n",
       "            <td>阿久和西店</td>\n",
       "            <td>14</td>\n",
       "            <td>神奈川県</td>\n",
       "            <td>神奈川県横浜市瀬谷区阿久和西一丁目</td>\n",
       "            <td>カナガワケンヨコハマシセヤクアクワニシイッチョウメ</td>\n",
       "            <td>045-123-4053</td>\n",
       "            <td>139.4961</td>\n",
       "            <td>35.45918</td>\n",
       "            <td>1830.0</td>\n",
       "        </tr>\n",
       "        <tr>\n",
       "            <td>S14028</td>\n",
       "            <td>二ツ橋店</td>\n",
       "            <td>14</td>\n",
       "            <td>神奈川県</td>\n",
       "            <td>神奈川県横浜市瀬谷区二ツ橋町</td>\n",
       "            <td>カナガワケンヨコハマシセヤクフタツバシチョウ</td>\n",
       "            <td>045-123-4042</td>\n",
       "            <td>139.4963</td>\n",
       "            <td>35.46304</td>\n",
       "            <td>1574.0</td>\n",
       "        </tr>\n",
       "        <tr>\n",
       "            <td>S14012</td>\n",
       "            <td>本牧和田店</td>\n",
       "            <td>14</td>\n",
       "            <td>神奈川県</td>\n",
       "            <td>神奈川県横浜市中区本牧和田</td>\n",
       "            <td>カナガワケンヨコハマシナカクホンモクワダ</td>\n",
       "            <td>045-123-4034</td>\n",
       "            <td>139.6582</td>\n",
       "            <td>35.42156</td>\n",
       "            <td>1341.0</td>\n",
       "        </tr>\n",
       "        <tr>\n",
       "            <td>S14046</td>\n",
       "            <td>北山田店</td>\n",
       "            <td>14</td>\n",
       "            <td>神奈川県</td>\n",
       "            <td>神奈川県横浜市都筑区北山田一丁目</td>\n",
       "            <td>カナガワケンヨコハマシツヅキクキタヤマタイッチョウメ</td>\n",
       "            <td>045-123-4049</td>\n",
       "            <td>139.5916</td>\n",
       "            <td>35.56189</td>\n",
       "            <td>831.0</td>\n",
       "        </tr>\n",
       "        <tr>\n",
       "            <td>S14022</td>\n",
       "            <td>逗子店</td>\n",
       "            <td>14</td>\n",
       "            <td>神奈川県</td>\n",
       "            <td>神奈川県逗子市逗子一丁目</td>\n",
       "            <td>カナガワケンズシシズシイッチョウメ</td>\n",
       "            <td>046-123-4036</td>\n",
       "            <td>139.5789</td>\n",
       "            <td>35.29642</td>\n",
       "            <td>1838.0</td>\n",
       "        </tr>\n",
       "        <tr>\n",
       "            <td>S14011</td>\n",
       "            <td>日吉本町店</td>\n",
       "            <td>14</td>\n",
       "            <td>神奈川県</td>\n",
       "            <td>神奈川県横浜市港北区日吉本町四丁目</td>\n",
       "            <td>カナガワケンヨコハマシコウホククヒヨシホンチョウヨンチョウメ</td>\n",
       "            <td>045-123-4033</td>\n",
       "            <td>139.6316</td>\n",
       "            <td>35.54655</td>\n",
       "            <td>890.0</td>\n",
       "        </tr>\n",
       "    </tbody>\n",
       "</table>"
      ],
      "text/plain": [
       "[('S14010', '菊名店', '14', '神奈川県', '神奈川県横浜市港北区菊名一丁目', 'カナガワケンヨコハマシコウホククキクナイッチョウメ', '045-123-4032', Decimal('139.6326'), Decimal('35.50049'), Decimal('1732.0')),\n",
       " ('S14033', '阿久和店', '14', '神奈川県', '神奈川県横浜市瀬谷区阿久和西一丁目', 'カナガワケンヨコハマシセヤクアクワニシイッチョウメ', '045-123-4043', Decimal('139.4961'), Decimal('35.45918'), Decimal('1495.0')),\n",
       " ('S14036', '相模原中央店', '14', '神奈川県', '神奈川県相模原市中央二丁目', 'カナガワケンサガミハラシチュウオウニチョウメ', '042-123-4045', Decimal('139.3716'), Decimal('35.57327'), Decimal('1679.0')),\n",
       " ('S14040', '長津田店', '14', '神奈川県', '神奈川県横浜市緑区長津田みなみ台五丁目', 'カナガワケンヨコハマシミドリクナガツタミナミダイゴチョウメ', '045-123-4046', Decimal('139.4994'), Decimal('35.52398'), Decimal('1548.0')),\n",
       " ('S14050', '阿久和西店', '14', '神奈川県', '神奈川県横浜市瀬谷区阿久和西一丁目', 'カナガワケンヨコハマシセヤクアクワニシイッチョウメ', '045-123-4053', Decimal('139.4961'), Decimal('35.45918'), Decimal('1830.0')),\n",
       " ('S14028', '二ツ橋店', '14', '神奈川県', '神奈川県横浜市瀬谷区二ツ橋町', 'カナガワケンヨコハマシセヤクフタツバシチョウ', '045-123-4042', Decimal('139.4963'), Decimal('35.46304'), Decimal('1574.0')),\n",
       " ('S14012', '本牧和田店', '14', '神奈川県', '神奈川県横浜市中区本牧和田', 'カナガワケンヨコハマシナカクホンモクワダ', '045-123-4034', Decimal('139.6582'), Decimal('35.42156'), Decimal('1341.0')),\n",
       " ('S14046', '北山田店', '14', '神奈川県', '神奈川県横浜市都筑区北山田一丁目', 'カナガワケンヨコハマシツヅキクキタヤマタイッチョウメ', '045-123-4049', Decimal('139.5916'), Decimal('35.56189'), Decimal('831.0')),\n",
       " ('S14022', '逗子店', '14', '神奈川県', '神奈川県逗子市逗子一丁目', 'カナガワケンズシシズシイッチョウメ', '046-123-4036', Decimal('139.5789'), Decimal('35.29642'), Decimal('1838.0')),\n",
       " ('S14011', '日吉本町店', '14', '神奈川県', '神奈川県横浜市港北区日吉本町四丁目', 'カナガワケンヨコハマシコウホククヒヨシホンチョウヨンチョウメ', '045-123-4033', Decimal('139.6316'), Decimal('35.54655'), Decimal('890.0'))]"
      ]
     },
     "execution_count": 19,
     "metadata": {},
     "output_type": "execute_result"
    }
   ],
   "source": [
    "%%sql\n",
    "SELECT * FROM store\n",
    "WHERE store_cd LIKE 'S14%'\n",
    "LIMIT 10;"
   ]
  },
  {
   "cell_type": "markdown",
   "metadata": {},
   "source": [
    "---\n",
    "> S-011: 顧客データ（customer）から顧客ID（customer_id）の末尾が1のものだけ全項目抽出し、10件表示せよ。"
   ]
  },
  {
   "cell_type": "code",
   "execution_count": 20,
   "metadata": {},
   "outputs": [
    {
     "name": "stdout",
     "output_type": "stream",
     "text": [
      "*  postgresql://padawan:***@db:5432/dsdojo_db\n",
      "10 rows affected.\n"
     ]
    },
    {
     "data": {
      "text/html": [
       "<table>\n",
       "    <thead>\n",
       "        <tr>\n",
       "            <th>customer_id</th>\n",
       "            <th>customer_name</th>\n",
       "            <th>gender_cd</th>\n",
       "            <th>gender</th>\n",
       "            <th>birth_day</th>\n",
       "            <th>age</th>\n",
       "            <th>postal_cd</th>\n",
       "            <th>address</th>\n",
       "            <th>application_store_cd</th>\n",
       "            <th>application_date</th>\n",
       "            <th>status_cd</th>\n",
       "        </tr>\n",
       "    </thead>\n",
       "    <tbody>\n",
       "        <tr>\n",
       "            <td>CS037613000071</td>\n",
       "            <td>六角 雅彦</td>\n",
       "            <td>9</td>\n",
       "            <td>不明</td>\n",
       "            <td>1952-04-01</td>\n",
       "            <td>66</td>\n",
       "            <td>136-0076</td>\n",
       "            <td>東京都江東区南砂**********</td>\n",
       "            <td>S13037</td>\n",
       "            <td>20150414</td>\n",
       "            <td>0-00000000-0</td>\n",
       "        </tr>\n",
       "        <tr>\n",
       "            <td>CS028811000001</td>\n",
       "            <td>堀井 かおり</td>\n",
       "            <td>1</td>\n",
       "            <td>女性</td>\n",
       "            <td>1933-03-27</td>\n",
       "            <td>86</td>\n",
       "            <td>245-0016</td>\n",
       "            <td>神奈川県横浜市泉区和泉町**********</td>\n",
       "            <td>S14028</td>\n",
       "            <td>20160115</td>\n",
       "            <td>0-00000000-0</td>\n",
       "        </tr>\n",
       "        <tr>\n",
       "            <td>CS040412000191</td>\n",
       "            <td>川井 郁恵</td>\n",
       "            <td>1</td>\n",
       "            <td>女性</td>\n",
       "            <td>1977-01-05</td>\n",
       "            <td>42</td>\n",
       "            <td>226-0021</td>\n",
       "            <td>神奈川県横浜市緑区北八朔町**********</td>\n",
       "            <td>S14040</td>\n",
       "            <td>20151101</td>\n",
       "            <td>1-20091025-4</td>\n",
       "        </tr>\n",
       "        <tr>\n",
       "            <td>CS028314000011</td>\n",
       "            <td>小菅 あおい</td>\n",
       "            <td>1</td>\n",
       "            <td>女性</td>\n",
       "            <td>1983-11-26</td>\n",
       "            <td>35</td>\n",
       "            <td>246-0038</td>\n",
       "            <td>神奈川県横浜市瀬谷区宮沢**********</td>\n",
       "            <td>S14028</td>\n",
       "            <td>20151123</td>\n",
       "            <td>1-20080426-5</td>\n",
       "        </tr>\n",
       "        <tr>\n",
       "            <td>CS039212000051</td>\n",
       "            <td>藤島 恵梨香</td>\n",
       "            <td>1</td>\n",
       "            <td>女性</td>\n",
       "            <td>1997-02-03</td>\n",
       "            <td>22</td>\n",
       "            <td>166-0001</td>\n",
       "            <td>東京都杉並区阿佐谷北**********</td>\n",
       "            <td>S13039</td>\n",
       "            <td>20171121</td>\n",
       "            <td>1-20100215-4</td>\n",
       "        </tr>\n",
       "        <tr>\n",
       "            <td>CS015412000111</td>\n",
       "            <td>松居 奈月</td>\n",
       "            <td>1</td>\n",
       "            <td>女性</td>\n",
       "            <td>1972-10-04</td>\n",
       "            <td>46</td>\n",
       "            <td>136-0071</td>\n",
       "            <td>東京都江東区亀戸**********</td>\n",
       "            <td>S13015</td>\n",
       "            <td>20150629</td>\n",
       "            <td>0-00000000-0</td>\n",
       "        </tr>\n",
       "        <tr>\n",
       "            <td>CS004702000041</td>\n",
       "            <td>野島 洋</td>\n",
       "            <td>0</td>\n",
       "            <td>男性</td>\n",
       "            <td>1943-08-24</td>\n",
       "            <td>75</td>\n",
       "            <td>176-0022</td>\n",
       "            <td>東京都練馬区向山**********</td>\n",
       "            <td>S13004</td>\n",
       "            <td>20170218</td>\n",
       "            <td>0-00000000-0</td>\n",
       "        </tr>\n",
       "        <tr>\n",
       "            <td>CS041515000001</td>\n",
       "            <td>栗田 千夏</td>\n",
       "            <td>1</td>\n",
       "            <td>女性</td>\n",
       "            <td>1967-01-02</td>\n",
       "            <td>52</td>\n",
       "            <td>206-0001</td>\n",
       "            <td>東京都多摩市和田**********</td>\n",
       "            <td>S13041</td>\n",
       "            <td>20160422</td>\n",
       "            <td>E-20100803-F</td>\n",
       "        </tr>\n",
       "        <tr>\n",
       "            <td>CS029313000221</td>\n",
       "            <td>北条 ひかり</td>\n",
       "            <td>1</td>\n",
       "            <td>女性</td>\n",
       "            <td>1987-06-19</td>\n",
       "            <td>31</td>\n",
       "            <td>279-0011</td>\n",
       "            <td>千葉県浦安市美浜**********</td>\n",
       "            <td>S12029</td>\n",
       "            <td>20180810</td>\n",
       "            <td>0-00000000-0</td>\n",
       "        </tr>\n",
       "        <tr>\n",
       "            <td>CS034312000071</td>\n",
       "            <td>望月 奈央</td>\n",
       "            <td>1</td>\n",
       "            <td>女性</td>\n",
       "            <td>1980-09-20</td>\n",
       "            <td>38</td>\n",
       "            <td>213-0026</td>\n",
       "            <td>神奈川県川崎市高津区久末**********</td>\n",
       "            <td>S14034</td>\n",
       "            <td>20160106</td>\n",
       "            <td>0-00000000-0</td>\n",
       "        </tr>\n",
       "    </tbody>\n",
       "</table>"
      ],
      "text/plain": [
       "[('CS037613000071', '六角 雅彦', '9', '不明', datetime.date(1952, 4, 1), 66, '136-0076', '東京都江東区南砂**********', 'S13037', '20150414', '0-00000000-0'),\n",
       " ('CS028811000001', '堀井 かおり', '1', '女性', datetime.date(1933, 3, 27), 86, '245-0016', '神奈川県横浜市泉区和泉町**********', 'S14028', '20160115', '0-00000000-0'),\n",
       " ('CS040412000191', '川井 郁恵', '1', '女性', datetime.date(1977, 1, 5), 42, '226-0021', '神奈川県横浜市緑区北八朔町**********', 'S14040', '20151101', '1-20091025-4'),\n",
       " ('CS028314000011', '小菅 あおい', '1', '女性', datetime.date(1983, 11, 26), 35, '246-0038', '神奈川県横浜市瀬谷区宮沢**********', 'S14028', '20151123', '1-20080426-5'),\n",
       " ('CS039212000051', '藤島 恵梨香', '1', '女性', datetime.date(1997, 2, 3), 22, '166-0001', '東京都杉並区阿佐谷北**********', 'S13039', '20171121', '1-20100215-4'),\n",
       " ('CS015412000111', '松居 奈月', '1', '女性', datetime.date(1972, 10, 4), 46, '136-0071', '東京都江東区亀戸**********', 'S13015', '20150629', '0-00000000-0'),\n",
       " ('CS004702000041', '野島 洋', '0', '男性', datetime.date(1943, 8, 24), 75, '176-0022', '東京都練馬区向山**********', 'S13004', '20170218', '0-00000000-0'),\n",
       " ('CS041515000001', '栗田 千夏', '1', '女性', datetime.date(1967, 1, 2), 52, '206-0001', '東京都多摩市和田**********', 'S13041', '20160422', 'E-20100803-F'),\n",
       " ('CS029313000221', '北条 ひかり', '1', '女性', datetime.date(1987, 6, 19), 31, '279-0011', '千葉県浦安市美浜**********', 'S12029', '20180810', '0-00000000-0'),\n",
       " ('CS034312000071', '望月 奈央', '1', '女性', datetime.date(1980, 9, 20), 38, '213-0026', '神奈川県川崎市高津区久末**********', 'S14034', '20160106', '0-00000000-0')]"
      ]
     },
     "execution_count": 20,
     "metadata": {},
     "output_type": "execute_result"
    }
   ],
   "source": [
    "%%sql\n",
    "SELECT * FROM customer\n",
    "WHERE customer_id LIKE '%1'\n",
    "LIMIT 10;"
   ]
  },
  {
   "cell_type": "markdown",
   "metadata": {},
   "source": [
    "---\n",
    "> S-012: 店舗データ（store）から、住所 (address) に\"横浜市\"が含まれるものだけ全項目表示せよ。"
   ]
  },
  {
   "cell_type": "code",
   "execution_count": 21,
   "metadata": {},
   "outputs": [
    {
     "name": "stdout",
     "output_type": "stream",
     "text": [
      "*  postgresql://padawan:***@db:5432/dsdojo_db\n",
      "11 rows affected.\n"
     ]
    },
    {
     "data": {
      "text/html": [
       "<table>\n",
       "    <thead>\n",
       "        <tr>\n",
       "            <th>store_cd</th>\n",
       "            <th>store_name</th>\n",
       "            <th>prefecture_cd</th>\n",
       "            <th>prefecture</th>\n",
       "            <th>address</th>\n",
       "            <th>address_kana</th>\n",
       "            <th>tel_no</th>\n",
       "            <th>longitude</th>\n",
       "            <th>latitude</th>\n",
       "            <th>floor_area</th>\n",
       "        </tr>\n",
       "    </thead>\n",
       "    <tbody>\n",
       "        <tr>\n",
       "            <td>S14010</td>\n",
       "            <td>菊名店</td>\n",
       "            <td>14</td>\n",
       "            <td>神奈川県</td>\n",
       "            <td>神奈川県横浜市港北区菊名一丁目</td>\n",
       "            <td>カナガワケンヨコハマシコウホククキクナイッチョウメ</td>\n",
       "            <td>045-123-4032</td>\n",
       "            <td>139.6326</td>\n",
       "            <td>35.50049</td>\n",
       "            <td>1732.0</td>\n",
       "        </tr>\n",
       "        <tr>\n",
       "            <td>S14033</td>\n",
       "            <td>阿久和店</td>\n",
       "            <td>14</td>\n",
       "            <td>神奈川県</td>\n",
       "            <td>神奈川県横浜市瀬谷区阿久和西一丁目</td>\n",
       "            <td>カナガワケンヨコハマシセヤクアクワニシイッチョウメ</td>\n",
       "            <td>045-123-4043</td>\n",
       "            <td>139.4961</td>\n",
       "            <td>35.45918</td>\n",
       "            <td>1495.0</td>\n",
       "        </tr>\n",
       "        <tr>\n",
       "            <td>S14040</td>\n",
       "            <td>長津田店</td>\n",
       "            <td>14</td>\n",
       "            <td>神奈川県</td>\n",
       "            <td>神奈川県横浜市緑区長津田みなみ台五丁目</td>\n",
       "            <td>カナガワケンヨコハマシミドリクナガツタミナミダイゴチョウメ</td>\n",
       "            <td>045-123-4046</td>\n",
       "            <td>139.4994</td>\n",
       "            <td>35.52398</td>\n",
       "            <td>1548.0</td>\n",
       "        </tr>\n",
       "        <tr>\n",
       "            <td>S14050</td>\n",
       "            <td>阿久和西店</td>\n",
       "            <td>14</td>\n",
       "            <td>神奈川県</td>\n",
       "            <td>神奈川県横浜市瀬谷区阿久和西一丁目</td>\n",
       "            <td>カナガワケンヨコハマシセヤクアクワニシイッチョウメ</td>\n",
       "            <td>045-123-4053</td>\n",
       "            <td>139.4961</td>\n",
       "            <td>35.45918</td>\n",
       "            <td>1830.0</td>\n",
       "        </tr>\n",
       "        <tr>\n",
       "            <td>S14028</td>\n",
       "            <td>二ツ橋店</td>\n",
       "            <td>14</td>\n",
       "            <td>神奈川県</td>\n",
       "            <td>神奈川県横浜市瀬谷区二ツ橋町</td>\n",
       "            <td>カナガワケンヨコハマシセヤクフタツバシチョウ</td>\n",
       "            <td>045-123-4042</td>\n",
       "            <td>139.4963</td>\n",
       "            <td>35.46304</td>\n",
       "            <td>1574.0</td>\n",
       "        </tr>\n",
       "        <tr>\n",
       "            <td>S14012</td>\n",
       "            <td>本牧和田店</td>\n",
       "            <td>14</td>\n",
       "            <td>神奈川県</td>\n",
       "            <td>神奈川県横浜市中区本牧和田</td>\n",
       "            <td>カナガワケンヨコハマシナカクホンモクワダ</td>\n",
       "            <td>045-123-4034</td>\n",
       "            <td>139.6582</td>\n",
       "            <td>35.42156</td>\n",
       "            <td>1341.0</td>\n",
       "        </tr>\n",
       "        <tr>\n",
       "            <td>S14046</td>\n",
       "            <td>北山田店</td>\n",
       "            <td>14</td>\n",
       "            <td>神奈川県</td>\n",
       "            <td>神奈川県横浜市都筑区北山田一丁目</td>\n",
       "            <td>カナガワケンヨコハマシツヅキクキタヤマタイッチョウメ</td>\n",
       "            <td>045-123-4049</td>\n",
       "            <td>139.5916</td>\n",
       "            <td>35.56189</td>\n",
       "            <td>831.0</td>\n",
       "        </tr>\n",
       "        <tr>\n",
       "            <td>S14011</td>\n",
       "            <td>日吉本町店</td>\n",
       "            <td>14</td>\n",
       "            <td>神奈川県</td>\n",
       "            <td>神奈川県横浜市港北区日吉本町四丁目</td>\n",
       "            <td>カナガワケンヨコハマシコウホククヒヨシホンチョウヨンチョウメ</td>\n",
       "            <td>045-123-4033</td>\n",
       "            <td>139.6316</td>\n",
       "            <td>35.54655</td>\n",
       "            <td>890.0</td>\n",
       "        </tr>\n",
       "        <tr>\n",
       "            <td>S14048</td>\n",
       "            <td>中川中央店</td>\n",
       "            <td>14</td>\n",
       "            <td>神奈川県</td>\n",
       "            <td>神奈川県横浜市都筑区中川中央二丁目</td>\n",
       "            <td>カナガワケンヨコハマシツヅキクナカガワチュウオウニチョウメ</td>\n",
       "            <td>045-123-4051</td>\n",
       "            <td>139.5758</td>\n",
       "            <td>35.54912</td>\n",
       "            <td>1657.0</td>\n",
       "        </tr>\n",
       "        <tr>\n",
       "            <td>S14042</td>\n",
       "            <td>新山下店</td>\n",
       "            <td>14</td>\n",
       "            <td>神奈川県</td>\n",
       "            <td>神奈川県横浜市中区新山下二丁目</td>\n",
       "            <td>カナガワケンヨコハマシナカクシンヤマシタニチョウメ</td>\n",
       "            <td>045-123-4047</td>\n",
       "            <td>139.6593</td>\n",
       "            <td>35.43894</td>\n",
       "            <td>1044.0</td>\n",
       "        </tr>\n",
       "        <tr>\n",
       "            <td>S14006</td>\n",
       "            <td>葛が谷店</td>\n",
       "            <td>14</td>\n",
       "            <td>神奈川県</td>\n",
       "            <td>神奈川県横浜市都筑区葛が谷</td>\n",
       "            <td>カナガワケンヨコハマシツヅキククズガヤ</td>\n",
       "            <td>045-123-4031</td>\n",
       "            <td>139.5633</td>\n",
       "            <td>35.53573</td>\n",
       "            <td>1886.0</td>\n",
       "        </tr>\n",
       "    </tbody>\n",
       "</table>"
      ],
      "text/plain": [
       "[('S14010', '菊名店', '14', '神奈川県', '神奈川県横浜市港北区菊名一丁目', 'カナガワケンヨコハマシコウホククキクナイッチョウメ', '045-123-4032', Decimal('139.6326'), Decimal('35.50049'), Decimal('1732.0')),\n",
       " ('S14033', '阿久和店', '14', '神奈川県', '神奈川県横浜市瀬谷区阿久和西一丁目', 'カナガワケンヨコハマシセヤクアクワニシイッチョウメ', '045-123-4043', Decimal('139.4961'), Decimal('35.45918'), Decimal('1495.0')),\n",
       " ('S14040', '長津田店', '14', '神奈川県', '神奈川県横浜市緑区長津田みなみ台五丁目', 'カナガワケンヨコハマシミドリクナガツタミナミダイゴチョウメ', '045-123-4046', Decimal('139.4994'), Decimal('35.52398'), Decimal('1548.0')),\n",
       " ('S14050', '阿久和西店', '14', '神奈川県', '神奈川県横浜市瀬谷区阿久和西一丁目', 'カナガワケンヨコハマシセヤクアクワニシイッチョウメ', '045-123-4053', Decimal('139.4961'), Decimal('35.45918'), Decimal('1830.0')),\n",
       " ('S14028', '二ツ橋店', '14', '神奈川県', '神奈川県横浜市瀬谷区二ツ橋町', 'カナガワケンヨコハマシセヤクフタツバシチョウ', '045-123-4042', Decimal('139.4963'), Decimal('35.46304'), Decimal('1574.0')),\n",
       " ('S14012', '本牧和田店', '14', '神奈川県', '神奈川県横浜市中区本牧和田', 'カナガワケンヨコハマシナカクホンモクワダ', '045-123-4034', Decimal('139.6582'), Decimal('35.42156'), Decimal('1341.0')),\n",
       " ('S14046', '北山田店', '14', '神奈川県', '神奈川県横浜市都筑区北山田一丁目', 'カナガワケンヨコハマシツヅキクキタヤマタイッチョウメ', '045-123-4049', Decimal('139.5916'), Decimal('35.56189'), Decimal('831.0')),\n",
       " ('S14011', '日吉本町店', '14', '神奈川県', '神奈川県横浜市港北区日吉本町四丁目', 'カナガワケンヨコハマシコウホククヒヨシホンチョウヨンチョウメ', '045-123-4033', Decimal('139.6316'), Decimal('35.54655'), Decimal('890.0')),\n",
       " ('S14048', '中川中央店', '14', '神奈川県', '神奈川県横浜市都筑区中川中央二丁目', 'カナガワケンヨコハマシツヅキクナカガワチュウオウニチョウメ', '045-123-4051', Decimal('139.5758'), Decimal('35.54912'), Decimal('1657.0')),\n",
       " ('S14042', '新山下店', '14', '神奈川県', '神奈川県横浜市中区新山下二丁目', 'カナガワケンヨコハマシナカクシンヤマシタニチョウメ', '045-123-4047', Decimal('139.6593'), Decimal('35.43894'), Decimal('1044.0')),\n",
       " ('S14006', '葛が谷店', '14', '神奈川県', '神奈川県横浜市都筑区葛が谷', 'カナガワケンヨコハマシツヅキククズガヤ', '045-123-4031', Decimal('139.5633'), Decimal('35.53573'), Decimal('1886.0'))]"
      ]
     },
     "execution_count": 21,
     "metadata": {},
     "output_type": "execute_result"
    }
   ],
   "source": [
    "%%sql\n",
    "SELECT * FROM store\n",
    "WHERE address LIKE '%横浜市%';"
   ]
  },
  {
   "cell_type": "markdown",
   "metadata": {},
   "source": [
    "---\n",
    "> S-013: 顧客データ（customer）から、ステータスコード（status_cd）の先頭がアルファベットのA〜Fで始まるデータを全項目抽出し、10件表示せよ。"
   ]
  },
  {
   "cell_type": "code",
   "execution_count": 25,
   "metadata": {},
   "outputs": [
    {
     "name": "stdout",
     "output_type": "stream",
     "text": [
      "*  postgresql://padawan:***@db:5432/dsdojo_db\n",
      "10 rows affected.\n"
     ]
    },
    {
     "data": {
      "text/html": [
       "<table>\n",
       "    <thead>\n",
       "        <tr>\n",
       "            <th>customer_id</th>\n",
       "            <th>customer_name</th>\n",
       "            <th>gender_cd</th>\n",
       "            <th>gender</th>\n",
       "            <th>birth_day</th>\n",
       "            <th>age</th>\n",
       "            <th>postal_cd</th>\n",
       "            <th>address</th>\n",
       "            <th>application_store_cd</th>\n",
       "            <th>application_date</th>\n",
       "            <th>status_cd</th>\n",
       "        </tr>\n",
       "    </thead>\n",
       "    <tbody>\n",
       "        <tr>\n",
       "            <td>CS031415000172</td>\n",
       "            <td>宇多田 貴美子</td>\n",
       "            <td>1</td>\n",
       "            <td>女性</td>\n",
       "            <td>1976-10-04</td>\n",
       "            <td>42</td>\n",
       "            <td>151-0053</td>\n",
       "            <td>東京都渋谷区代々木**********</td>\n",
       "            <td>S13031</td>\n",
       "            <td>20150529</td>\n",
       "            <td>D-20100325-C</td>\n",
       "        </tr>\n",
       "        <tr>\n",
       "            <td>CS015414000103</td>\n",
       "            <td>奥野 陽子</td>\n",
       "            <td>1</td>\n",
       "            <td>女性</td>\n",
       "            <td>1977-08-09</td>\n",
       "            <td>41</td>\n",
       "            <td>136-0073</td>\n",
       "            <td>東京都江東区北砂**********</td>\n",
       "            <td>S13015</td>\n",
       "            <td>20150722</td>\n",
       "            <td>B-20100609-B</td>\n",
       "        </tr>\n",
       "        <tr>\n",
       "            <td>CS011215000048</td>\n",
       "            <td>芦田 沙耶</td>\n",
       "            <td>1</td>\n",
       "            <td>女性</td>\n",
       "            <td>1992-02-01</td>\n",
       "            <td>27</td>\n",
       "            <td>223-0062</td>\n",
       "            <td>神奈川県横浜市港北区日吉本町**********</td>\n",
       "            <td>S14011</td>\n",
       "            <td>20150228</td>\n",
       "            <td>C-20100421-9</td>\n",
       "        </tr>\n",
       "        <tr>\n",
       "            <td>CS029415000023</td>\n",
       "            <td>梅田 里穂</td>\n",
       "            <td>1</td>\n",
       "            <td>女性</td>\n",
       "            <td>1976-01-17</td>\n",
       "            <td>43</td>\n",
       "            <td>279-0043</td>\n",
       "            <td>千葉県浦安市富士見**********</td>\n",
       "            <td>S12029</td>\n",
       "            <td>20150610</td>\n",
       "            <td>D-20100918-E</td>\n",
       "        </tr>\n",
       "        <tr>\n",
       "            <td>CS035415000029</td>\n",
       "            <td>寺沢 真希</td>\n",
       "            <td>9</td>\n",
       "            <td>不明</td>\n",
       "            <td>1977-09-27</td>\n",
       "            <td>41</td>\n",
       "            <td>158-0096</td>\n",
       "            <td>東京都世田谷区玉川台**********</td>\n",
       "            <td>S13035</td>\n",
       "            <td>20141220</td>\n",
       "            <td>F-20101029-F</td>\n",
       "        </tr>\n",
       "        <tr>\n",
       "            <td>CS031415000106</td>\n",
       "            <td>宇野 由美子</td>\n",
       "            <td>1</td>\n",
       "            <td>女性</td>\n",
       "            <td>1970-02-26</td>\n",
       "            <td>49</td>\n",
       "            <td>151-0053</td>\n",
       "            <td>東京都渋谷区代々木**********</td>\n",
       "            <td>S13031</td>\n",
       "            <td>20150201</td>\n",
       "            <td>F-20100511-E</td>\n",
       "        </tr>\n",
       "        <tr>\n",
       "            <td>CS029215000025</td>\n",
       "            <td>石倉 美帆</td>\n",
       "            <td>1</td>\n",
       "            <td>女性</td>\n",
       "            <td>1993-09-28</td>\n",
       "            <td>25</td>\n",
       "            <td>279-0022</td>\n",
       "            <td>千葉県浦安市今川**********</td>\n",
       "            <td>S12029</td>\n",
       "            <td>20150708</td>\n",
       "            <td>B-20100820-C</td>\n",
       "        </tr>\n",
       "        <tr>\n",
       "            <td>CS033605000005</td>\n",
       "            <td>猪股 雄太</td>\n",
       "            <td>0</td>\n",
       "            <td>男性</td>\n",
       "            <td>1955-12-05</td>\n",
       "            <td>63</td>\n",
       "            <td>246-0031</td>\n",
       "            <td>神奈川県横浜市瀬谷区瀬谷**********</td>\n",
       "            <td>S14033</td>\n",
       "            <td>20150425</td>\n",
       "            <td>F-20100917-E</td>\n",
       "        </tr>\n",
       "        <tr>\n",
       "            <td>CS033415000229</td>\n",
       "            <td>板垣 菜々美</td>\n",
       "            <td>1</td>\n",
       "            <td>女性</td>\n",
       "            <td>1977-11-07</td>\n",
       "            <td>41</td>\n",
       "            <td>246-0021</td>\n",
       "            <td>神奈川県横浜市瀬谷区二ツ橋町**********</td>\n",
       "            <td>S14033</td>\n",
       "            <td>20150712</td>\n",
       "            <td>F-20100326-E</td>\n",
       "        </tr>\n",
       "        <tr>\n",
       "            <td>CS008415000145</td>\n",
       "            <td>黒谷 麻緒</td>\n",
       "            <td>1</td>\n",
       "            <td>女性</td>\n",
       "            <td>1977-06-27</td>\n",
       "            <td>41</td>\n",
       "            <td>157-0067</td>\n",
       "            <td>東京都世田谷区喜多見**********</td>\n",
       "            <td>S13008</td>\n",
       "            <td>20150829</td>\n",
       "            <td>F-20100622-F</td>\n",
       "        </tr>\n",
       "    </tbody>\n",
       "</table>"
      ],
      "text/plain": [
       "[('CS031415000172', '宇多田 貴美子', '1', '女性', datetime.date(1976, 10, 4), 42, '151-0053', '東京都渋谷区代々木**********', 'S13031', '20150529', 'D-20100325-C'),\n",
       " ('CS015414000103', '奥野 陽子', '1', '女性', datetime.date(1977, 8, 9), 41, '136-0073', '東京都江東区北砂**********', 'S13015', '20150722', 'B-20100609-B'),\n",
       " ('CS011215000048', '芦田 沙耶', '1', '女性', datetime.date(1992, 2, 1), 27, '223-0062', '神奈川県横浜市港北区日吉本町**********', 'S14011', '20150228', 'C-20100421-9'),\n",
       " ('CS029415000023', '梅田 里穂', '1', '女性', datetime.date(1976, 1, 17), 43, '279-0043', '千葉県浦安市富士見**********', 'S12029', '20150610', 'D-20100918-E'),\n",
       " ('CS035415000029', '寺沢 真希', '9', '不明', datetime.date(1977, 9, 27), 41, '158-0096', '東京都世田谷区玉川台**********', 'S13035', '20141220', 'F-20101029-F'),\n",
       " ('CS031415000106', '宇野 由美子', '1', '女性', datetime.date(1970, 2, 26), 49, '151-0053', '東京都渋谷区代々木**********', 'S13031', '20150201', 'F-20100511-E'),\n",
       " ('CS029215000025', '石倉 美帆', '1', '女性', datetime.date(1993, 9, 28), 25, '279-0022', '千葉県浦安市今川**********', 'S12029', '20150708', 'B-20100820-C'),\n",
       " ('CS033605000005', '猪股 雄太', '0', '男性', datetime.date(1955, 12, 5), 63, '246-0031', '神奈川県横浜市瀬谷区瀬谷**********', 'S14033', '20150425', 'F-20100917-E'),\n",
       " ('CS033415000229', '板垣 菜々美', '1', '女性', datetime.date(1977, 11, 7), 41, '246-0021', '神奈川県横浜市瀬谷区二ツ橋町**********', 'S14033', '20150712', 'F-20100326-E'),\n",
       " ('CS008415000145', '黒谷 麻緒', '1', '女性', datetime.date(1977, 6, 27), 41, '157-0067', '東京都世田谷区喜多見**********', 'S13008', '20150829', 'F-20100622-F')]"
      ]
     },
     "execution_count": 25,
     "metadata": {},
     "output_type": "execute_result"
    }
   ],
   "source": [
    "%%sql\n",
    "SELECT * FROM customer\n",
    "WHERE status_cd ~ '^[A-F]'\n",
    "LIMIT 10;"
   ]
  },
  {
   "cell_type": "markdown",
   "metadata": {},
   "source": [
    "---\n",
    "> S-014: 顧客データ（customer）から、ステータスコード（status_cd）の末尾が数字の1〜9で終わるデータを全項目抽出し、10件表示せよ。"
   ]
  },
  {
   "cell_type": "code",
   "execution_count": 26,
   "metadata": {},
   "outputs": [
    {
     "name": "stdout",
     "output_type": "stream",
     "text": [
      "*  postgresql://padawan:***@db:5432/dsdojo_db\n",
      "10 rows affected.\n"
     ]
    },
    {
     "data": {
      "text/html": [
       "<table>\n",
       "    <thead>\n",
       "        <tr>\n",
       "            <th>customer_id</th>\n",
       "            <th>customer_name</th>\n",
       "            <th>gender_cd</th>\n",
       "            <th>gender</th>\n",
       "            <th>birth_day</th>\n",
       "            <th>age</th>\n",
       "            <th>postal_cd</th>\n",
       "            <th>address</th>\n",
       "            <th>application_store_cd</th>\n",
       "            <th>application_date</th>\n",
       "            <th>status_cd</th>\n",
       "        </tr>\n",
       "    </thead>\n",
       "    <tbody>\n",
       "        <tr>\n",
       "            <td>CS001215000145</td>\n",
       "            <td>田崎 美紀</td>\n",
       "            <td>1</td>\n",
       "            <td>女性</td>\n",
       "            <td>1995-03-29</td>\n",
       "            <td>24</td>\n",
       "            <td>144-0055</td>\n",
       "            <td>東京都大田区仲六郷**********</td>\n",
       "            <td>S13001</td>\n",
       "            <td>20170605</td>\n",
       "            <td>6-20090929-2</td>\n",
       "        </tr>\n",
       "        <tr>\n",
       "            <td>CS033513000180</td>\n",
       "            <td>安斎 遥</td>\n",
       "            <td>1</td>\n",
       "            <td>女性</td>\n",
       "            <td>1962-07-11</td>\n",
       "            <td>56</td>\n",
       "            <td>241-0823</td>\n",
       "            <td>神奈川県横浜市旭区善部町**********</td>\n",
       "            <td>S14033</td>\n",
       "            <td>20150728</td>\n",
       "            <td>6-20080506-5</td>\n",
       "        </tr>\n",
       "        <tr>\n",
       "            <td>CS011215000048</td>\n",
       "            <td>芦田 沙耶</td>\n",
       "            <td>1</td>\n",
       "            <td>女性</td>\n",
       "            <td>1992-02-01</td>\n",
       "            <td>27</td>\n",
       "            <td>223-0062</td>\n",
       "            <td>神奈川県横浜市港北区日吉本町**********</td>\n",
       "            <td>S14011</td>\n",
       "            <td>20150228</td>\n",
       "            <td>C-20100421-9</td>\n",
       "        </tr>\n",
       "        <tr>\n",
       "            <td>CS040412000191</td>\n",
       "            <td>川井 郁恵</td>\n",
       "            <td>1</td>\n",
       "            <td>女性</td>\n",
       "            <td>1977-01-05</td>\n",
       "            <td>42</td>\n",
       "            <td>226-0021</td>\n",
       "            <td>神奈川県横浜市緑区北八朔町**********</td>\n",
       "            <td>S14040</td>\n",
       "            <td>20151101</td>\n",
       "            <td>1-20091025-4</td>\n",
       "        </tr>\n",
       "        <tr>\n",
       "            <td>CS009315000023</td>\n",
       "            <td>皆川 文世</td>\n",
       "            <td>1</td>\n",
       "            <td>女性</td>\n",
       "            <td>1980-04-15</td>\n",
       "            <td>38</td>\n",
       "            <td>154-0012</td>\n",
       "            <td>東京都世田谷区駒沢**********</td>\n",
       "            <td>S13009</td>\n",
       "            <td>20150319</td>\n",
       "            <td>5-20080322-1</td>\n",
       "        </tr>\n",
       "        <tr>\n",
       "            <td>CS015315000033</td>\n",
       "            <td>福士 璃奈子</td>\n",
       "            <td>1</td>\n",
       "            <td>女性</td>\n",
       "            <td>1983-03-17</td>\n",
       "            <td>36</td>\n",
       "            <td>135-0043</td>\n",
       "            <td>東京都江東区塩浜**********</td>\n",
       "            <td>S13015</td>\n",
       "            <td>20141024</td>\n",
       "            <td>4-20080219-3</td>\n",
       "        </tr>\n",
       "        <tr>\n",
       "            <td>CS023513000066</td>\n",
       "            <td>神戸 そら</td>\n",
       "            <td>1</td>\n",
       "            <td>女性</td>\n",
       "            <td>1961-12-17</td>\n",
       "            <td>57</td>\n",
       "            <td>210-0005</td>\n",
       "            <td>神奈川県川崎市川崎区東田町**********</td>\n",
       "            <td>S14023</td>\n",
       "            <td>20150915</td>\n",
       "            <td>5-20100524-9</td>\n",
       "        </tr>\n",
       "        <tr>\n",
       "            <td>CS035513000134</td>\n",
       "            <td>市川 美帆</td>\n",
       "            <td>1</td>\n",
       "            <td>女性</td>\n",
       "            <td>1960-03-27</td>\n",
       "            <td>59</td>\n",
       "            <td>156-0053</td>\n",
       "            <td>東京都世田谷区桜**********</td>\n",
       "            <td>S13035</td>\n",
       "            <td>20150227</td>\n",
       "            <td>8-20100711-9</td>\n",
       "        </tr>\n",
       "        <tr>\n",
       "            <td>CS001515000263</td>\n",
       "            <td>高松 夏空</td>\n",
       "            <td>1</td>\n",
       "            <td>女性</td>\n",
       "            <td>1962-11-09</td>\n",
       "            <td>56</td>\n",
       "            <td>144-0051</td>\n",
       "            <td>東京都大田区西蒲田**********</td>\n",
       "            <td>S13001</td>\n",
       "            <td>20160812</td>\n",
       "            <td>1-20100804-1</td>\n",
       "        </tr>\n",
       "        <tr>\n",
       "            <td>CS040314000027</td>\n",
       "            <td>鶴田 きみまろ</td>\n",
       "            <td>9</td>\n",
       "            <td>不明</td>\n",
       "            <td>1986-03-26</td>\n",
       "            <td>33</td>\n",
       "            <td>226-0027</td>\n",
       "            <td>神奈川県横浜市緑区長津田**********</td>\n",
       "            <td>S14040</td>\n",
       "            <td>20150122</td>\n",
       "            <td>2-20080426-4</td>\n",
       "        </tr>\n",
       "    </tbody>\n",
       "</table>"
      ],
      "text/plain": [
       "[('CS001215000145', '田崎 美紀', '1', '女性', datetime.date(1995, 3, 29), 24, '144-0055', '東京都大田区仲六郷**********', 'S13001', '20170605', '6-20090929-2'),\n",
       " ('CS033513000180', '安斎 遥', '1', '女性', datetime.date(1962, 7, 11), 56, '241-0823', '神奈川県横浜市旭区善部町**********', 'S14033', '20150728', '6-20080506-5'),\n",
       " ('CS011215000048', '芦田 沙耶', '1', '女性', datetime.date(1992, 2, 1), 27, '223-0062', '神奈川県横浜市港北区日吉本町**********', 'S14011', '20150228', 'C-20100421-9'),\n",
       " ('CS040412000191', '川井 郁恵', '1', '女性', datetime.date(1977, 1, 5), 42, '226-0021', '神奈川県横浜市緑区北八朔町**********', 'S14040', '20151101', '1-20091025-4'),\n",
       " ('CS009315000023', '皆川 文世', '1', '女性', datetime.date(1980, 4, 15), 38, '154-0012', '東京都世田谷区駒沢**********', 'S13009', '20150319', '5-20080322-1'),\n",
       " ('CS015315000033', '福士 璃奈子', '1', '女性', datetime.date(1983, 3, 17), 36, '135-0043', '東京都江東区塩浜**********', 'S13015', '20141024', '4-20080219-3'),\n",
       " ('CS023513000066', '神戸 そら', '1', '女性', datetime.date(1961, 12, 17), 57, '210-0005', '神奈川県川崎市川崎区東田町**********', 'S14023', '20150915', '5-20100524-9'),\n",
       " ('CS035513000134', '市川 美帆', '1', '女性', datetime.date(1960, 3, 27), 59, '156-0053', '東京都世田谷区桜**********', 'S13035', '20150227', '8-20100711-9'),\n",
       " ('CS001515000263', '高松 夏空', '1', '女性', datetime.date(1962, 11, 9), 56, '144-0051', '東京都大田区西蒲田**********', 'S13001', '20160812', '1-20100804-1'),\n",
       " ('CS040314000027', '鶴田 きみまろ', '9', '不明', datetime.date(1986, 3, 26), 33, '226-0027', '神奈川県横浜市緑区長津田**********', 'S14040', '20150122', '2-20080426-4')]"
      ]
     },
     "execution_count": 26,
     "metadata": {},
     "output_type": "execute_result"
    }
   ],
   "source": [
    "%%sql\n",
    "SELECT * FROM customer\n",
    "WHERE status_cd ~ '[1-9]$'\n",
    "LIMIT 10;"
   ]
  },
  {
   "cell_type": "markdown",
   "metadata": {},
   "source": [
    "---\n",
    "> S-015: 顧客データ（customer）から、ステータスコード（status_cd）の先頭がアルファベットのA〜Fで始まり、末尾が数字の1〜9で終わるデータを全項目抽出し、10件表示せよ。"
   ]
  },
  {
   "cell_type": "code",
   "execution_count": 27,
   "metadata": {},
   "outputs": [
    {
     "name": "stdout",
     "output_type": "stream",
     "text": [
      "*  postgresql://padawan:***@db:5432/dsdojo_db\n",
      "10 rows affected.\n"
     ]
    },
    {
     "data": {
      "text/html": [
       "<table>\n",
       "    <thead>\n",
       "        <tr>\n",
       "            <th>customer_id</th>\n",
       "            <th>customer_name</th>\n",
       "            <th>gender_cd</th>\n",
       "            <th>gender</th>\n",
       "            <th>birth_day</th>\n",
       "            <th>age</th>\n",
       "            <th>postal_cd</th>\n",
       "            <th>address</th>\n",
       "            <th>application_store_cd</th>\n",
       "            <th>application_date</th>\n",
       "            <th>status_cd</th>\n",
       "        </tr>\n",
       "    </thead>\n",
       "    <tbody>\n",
       "        <tr>\n",
       "            <td>CS011215000048</td>\n",
       "            <td>芦田 沙耶</td>\n",
       "            <td>1</td>\n",
       "            <td>女性</td>\n",
       "            <td>1992-02-01</td>\n",
       "            <td>27</td>\n",
       "            <td>223-0062</td>\n",
       "            <td>神奈川県横浜市港北区日吉本町**********</td>\n",
       "            <td>S14011</td>\n",
       "            <td>20150228</td>\n",
       "            <td>C-20100421-9</td>\n",
       "        </tr>\n",
       "        <tr>\n",
       "            <td>CS022513000105</td>\n",
       "            <td>島村 貴美子</td>\n",
       "            <td>1</td>\n",
       "            <td>女性</td>\n",
       "            <td>1962-03-12</td>\n",
       "            <td>57</td>\n",
       "            <td>249-0002</td>\n",
       "            <td>神奈川県逗子市山の根**********</td>\n",
       "            <td>S14022</td>\n",
       "            <td>20150320</td>\n",
       "            <td>A-20091115-7</td>\n",
       "        </tr>\n",
       "        <tr>\n",
       "            <td>CS001515000096</td>\n",
       "            <td>水野 陽子</td>\n",
       "            <td>9</td>\n",
       "            <td>不明</td>\n",
       "            <td>1960-11-29</td>\n",
       "            <td>58</td>\n",
       "            <td>144-0053</td>\n",
       "            <td>東京都大田区蒲田本町**********</td>\n",
       "            <td>S13001</td>\n",
       "            <td>20150614</td>\n",
       "            <td>A-20100724-7</td>\n",
       "        </tr>\n",
       "        <tr>\n",
       "            <td>CS013615000053</td>\n",
       "            <td>西脇 季衣</td>\n",
       "            <td>1</td>\n",
       "            <td>女性</td>\n",
       "            <td>1953-10-18</td>\n",
       "            <td>65</td>\n",
       "            <td>261-0026</td>\n",
       "            <td>千葉県千葉市美浜区幕張西**********</td>\n",
       "            <td>S12013</td>\n",
       "            <td>20150128</td>\n",
       "            <td>B-20100329-6</td>\n",
       "        </tr>\n",
       "        <tr>\n",
       "            <td>CS020412000161</td>\n",
       "            <td>小宮 薫</td>\n",
       "            <td>1</td>\n",
       "            <td>女性</td>\n",
       "            <td>1974-05-21</td>\n",
       "            <td>44</td>\n",
       "            <td>174-0042</td>\n",
       "            <td>東京都板橋区東坂下**********</td>\n",
       "            <td>S13020</td>\n",
       "            <td>20150822</td>\n",
       "            <td>B-20081021-3</td>\n",
       "        </tr>\n",
       "        <tr>\n",
       "            <td>CS001215000097</td>\n",
       "            <td>竹中 あさみ</td>\n",
       "            <td>1</td>\n",
       "            <td>女性</td>\n",
       "            <td>1990-07-25</td>\n",
       "            <td>28</td>\n",
       "            <td>146-0095</td>\n",
       "            <td>東京都大田区多摩川**********</td>\n",
       "            <td>S13001</td>\n",
       "            <td>20170315</td>\n",
       "            <td>A-20100211-2</td>\n",
       "        </tr>\n",
       "        <tr>\n",
       "            <td>CS035212000007</td>\n",
       "            <td>内村 恵梨香</td>\n",
       "            <td>1</td>\n",
       "            <td>女性</td>\n",
       "            <td>1990-12-04</td>\n",
       "            <td>28</td>\n",
       "            <td>152-0023</td>\n",
       "            <td>東京都目黒区八雲**********</td>\n",
       "            <td>S13035</td>\n",
       "            <td>20151013</td>\n",
       "            <td>B-20101018-6</td>\n",
       "        </tr>\n",
       "        <tr>\n",
       "            <td>CS002515000386</td>\n",
       "            <td>野田 コウ</td>\n",
       "            <td>1</td>\n",
       "            <td>女性</td>\n",
       "            <td>1963-05-30</td>\n",
       "            <td>55</td>\n",
       "            <td>185-0013</td>\n",
       "            <td>東京都国分寺市西恋ケ窪**********</td>\n",
       "            <td>S13002</td>\n",
       "            <td>20160410</td>\n",
       "            <td>C-20100127-8</td>\n",
       "        </tr>\n",
       "        <tr>\n",
       "            <td>CS001615000372</td>\n",
       "            <td>稲垣 寿々花</td>\n",
       "            <td>1</td>\n",
       "            <td>女性</td>\n",
       "            <td>1956-10-29</td>\n",
       "            <td>62</td>\n",
       "            <td>144-0035</td>\n",
       "            <td>東京都大田区南蒲田**********</td>\n",
       "            <td>S13001</td>\n",
       "            <td>20170403</td>\n",
       "            <td>A-20100104-1</td>\n",
       "        </tr>\n",
       "        <tr>\n",
       "            <td>CS032512000121</td>\n",
       "            <td>松井 知世</td>\n",
       "            <td>1</td>\n",
       "            <td>女性</td>\n",
       "            <td>1962-09-04</td>\n",
       "            <td>56</td>\n",
       "            <td>210-0011</td>\n",
       "            <td>神奈川県川崎市川崎区富士見**********</td>\n",
       "            <td>S13032</td>\n",
       "            <td>20150727</td>\n",
       "            <td>A-20100103-5</td>\n",
       "        </tr>\n",
       "    </tbody>\n",
       "</table>"
      ],
      "text/plain": [
       "[('CS011215000048', '芦田 沙耶', '1', '女性', datetime.date(1992, 2, 1), 27, '223-0062', '神奈川県横浜市港北区日吉本町**********', 'S14011', '20150228', 'C-20100421-9'),\n",
       " ('CS022513000105', '島村 貴美子', '1', '女性', datetime.date(1962, 3, 12), 57, '249-0002', '神奈川県逗子市山の根**********', 'S14022', '20150320', 'A-20091115-7'),\n",
       " ('CS001515000096', '水野 陽子', '9', '不明', datetime.date(1960, 11, 29), 58, '144-0053', '東京都大田区蒲田本町**********', 'S13001', '20150614', 'A-20100724-7'),\n",
       " ('CS013615000053', '西脇 季衣', '1', '女性', datetime.date(1953, 10, 18), 65, '261-0026', '千葉県千葉市美浜区幕張西**********', 'S12013', '20150128', 'B-20100329-6'),\n",
       " ('CS020412000161', '小宮 薫', '1', '女性', datetime.date(1974, 5, 21), 44, '174-0042', '東京都板橋区東坂下**********', 'S13020', '20150822', 'B-20081021-3'),\n",
       " ('CS001215000097', '竹中 あさみ', '1', '女性', datetime.date(1990, 7, 25), 28, '146-0095', '東京都大田区多摩川**********', 'S13001', '20170315', 'A-20100211-2'),\n",
       " ('CS035212000007', '内村 恵梨香', '1', '女性', datetime.date(1990, 12, 4), 28, '152-0023', '東京都目黒区八雲**********', 'S13035', '20151013', 'B-20101018-6'),\n",
       " ('CS002515000386', '野田 コウ', '1', '女性', datetime.date(1963, 5, 30), 55, '185-0013', '東京都国分寺市西恋ケ窪**********', 'S13002', '20160410', 'C-20100127-8'),\n",
       " ('CS001615000372', '稲垣 寿々花', '1', '女性', datetime.date(1956, 10, 29), 62, '144-0035', '東京都大田区南蒲田**********', 'S13001', '20170403', 'A-20100104-1'),\n",
       " ('CS032512000121', '松井 知世', '1', '女性', datetime.date(1962, 9, 4), 56, '210-0011', '神奈川県川崎市川崎区富士見**********', 'S13032', '20150727', 'A-20100103-5')]"
      ]
     },
     "execution_count": 27,
     "metadata": {},
     "output_type": "execute_result"
    }
   ],
   "source": [
    "%%sql\n",
    "SELECT * FROM customer\n",
    "WHERE status_cd ~ '^[A-F].*[1-9]$'\n",
    "LIMIT 10;"
   ]
  },
  {
   "cell_type": "markdown",
   "metadata": {},
   "source": [
    "---\n",
    "> S-016: 店舗データ（store）から、電話番号（tel_no）が3桁-3桁-4桁のデータを全項目表示せよ。"
   ]
  },
  {
   "cell_type": "code",
   "execution_count": 28,
   "metadata": {},
   "outputs": [
    {
     "name": "stdout",
     "output_type": "stream",
     "text": [
      "*  postgresql://padawan:***@db:5432/dsdojo_db\n",
      "34 rows affected.\n"
     ]
    },
    {
     "data": {
      "text/html": [
       "<table>\n",
       "    <thead>\n",
       "        <tr>\n",
       "            <th>store_cd</th>\n",
       "            <th>store_name</th>\n",
       "            <th>prefecture_cd</th>\n",
       "            <th>prefecture</th>\n",
       "            <th>address</th>\n",
       "            <th>address_kana</th>\n",
       "            <th>tel_no</th>\n",
       "            <th>longitude</th>\n",
       "            <th>latitude</th>\n",
       "            <th>floor_area</th>\n",
       "        </tr>\n",
       "    </thead>\n",
       "    <tbody>\n",
       "        <tr>\n",
       "            <td>S12014</td>\n",
       "            <td>千草台店</td>\n",
       "            <td>12</td>\n",
       "            <td>千葉県</td>\n",
       "            <td>千葉県千葉市稲毛区千草台一丁目</td>\n",
       "            <td>チバケンチバシイナゲクチグサダイイッチョウメ</td>\n",
       "            <td>043-123-4003</td>\n",
       "            <td>140.118</td>\n",
       "            <td>35.63559</td>\n",
       "            <td>1698.0</td>\n",
       "        </tr>\n",
       "        <tr>\n",
       "            <td>S13002</td>\n",
       "            <td>国分寺店</td>\n",
       "            <td>13</td>\n",
       "            <td>東京都</td>\n",
       "            <td>東京都国分寺市本多二丁目</td>\n",
       "            <td>トウキョウトコクブンジシホンダニチョウメ</td>\n",
       "            <td>042-123-4008</td>\n",
       "            <td>139.4802</td>\n",
       "            <td>35.70566</td>\n",
       "            <td>1735.0</td>\n",
       "        </tr>\n",
       "        <tr>\n",
       "            <td>S14010</td>\n",
       "            <td>菊名店</td>\n",
       "            <td>14</td>\n",
       "            <td>神奈川県</td>\n",
       "            <td>神奈川県横浜市港北区菊名一丁目</td>\n",
       "            <td>カナガワケンヨコハマシコウホククキクナイッチョウメ</td>\n",
       "            <td>045-123-4032</td>\n",
       "            <td>139.6326</td>\n",
       "            <td>35.50049</td>\n",
       "            <td>1732.0</td>\n",
       "        </tr>\n",
       "        <tr>\n",
       "            <td>S14033</td>\n",
       "            <td>阿久和店</td>\n",
       "            <td>14</td>\n",
       "            <td>神奈川県</td>\n",
       "            <td>神奈川県横浜市瀬谷区阿久和西一丁目</td>\n",
       "            <td>カナガワケンヨコハマシセヤクアクワニシイッチョウメ</td>\n",
       "            <td>045-123-4043</td>\n",
       "            <td>139.4961</td>\n",
       "            <td>35.45918</td>\n",
       "            <td>1495.0</td>\n",
       "        </tr>\n",
       "        <tr>\n",
       "            <td>S14036</td>\n",
       "            <td>相模原中央店</td>\n",
       "            <td>14</td>\n",
       "            <td>神奈川県</td>\n",
       "            <td>神奈川県相模原市中央二丁目</td>\n",
       "            <td>カナガワケンサガミハラシチュウオウニチョウメ</td>\n",
       "            <td>042-123-4045</td>\n",
       "            <td>139.3716</td>\n",
       "            <td>35.57327</td>\n",
       "            <td>1679.0</td>\n",
       "        </tr>\n",
       "        <tr>\n",
       "            <td>S14040</td>\n",
       "            <td>長津田店</td>\n",
       "            <td>14</td>\n",
       "            <td>神奈川県</td>\n",
       "            <td>神奈川県横浜市緑区長津田みなみ台五丁目</td>\n",
       "            <td>カナガワケンヨコハマシミドリクナガツタミナミダイゴチョウメ</td>\n",
       "            <td>045-123-4046</td>\n",
       "            <td>139.4994</td>\n",
       "            <td>35.52398</td>\n",
       "            <td>1548.0</td>\n",
       "        </tr>\n",
       "        <tr>\n",
       "            <td>S14050</td>\n",
       "            <td>阿久和西店</td>\n",
       "            <td>14</td>\n",
       "            <td>神奈川県</td>\n",
       "            <td>神奈川県横浜市瀬谷区阿久和西一丁目</td>\n",
       "            <td>カナガワケンヨコハマシセヤクアクワニシイッチョウメ</td>\n",
       "            <td>045-123-4053</td>\n",
       "            <td>139.4961</td>\n",
       "            <td>35.45918</td>\n",
       "            <td>1830.0</td>\n",
       "        </tr>\n",
       "        <tr>\n",
       "            <td>S13052</td>\n",
       "            <td>森野店</td>\n",
       "            <td>13</td>\n",
       "            <td>東京都</td>\n",
       "            <td>東京都町田市森野三丁目</td>\n",
       "            <td>トウキョウトマチダシモリノサンチョウメ</td>\n",
       "            <td>042-123-4030</td>\n",
       "            <td>139.4383</td>\n",
       "            <td>35.55293</td>\n",
       "            <td>1087.0</td>\n",
       "        </tr>\n",
       "        <tr>\n",
       "            <td>S14028</td>\n",
       "            <td>二ツ橋店</td>\n",
       "            <td>14</td>\n",
       "            <td>神奈川県</td>\n",
       "            <td>神奈川県横浜市瀬谷区二ツ橋町</td>\n",
       "            <td>カナガワケンヨコハマシセヤクフタツバシチョウ</td>\n",
       "            <td>045-123-4042</td>\n",
       "            <td>139.4963</td>\n",
       "            <td>35.46304</td>\n",
       "            <td>1574.0</td>\n",
       "        </tr>\n",
       "        <tr>\n",
       "            <td>S14012</td>\n",
       "            <td>本牧和田店</td>\n",
       "            <td>14</td>\n",
       "            <td>神奈川県</td>\n",
       "            <td>神奈川県横浜市中区本牧和田</td>\n",
       "            <td>カナガワケンヨコハマシナカクホンモクワダ</td>\n",
       "            <td>045-123-4034</td>\n",
       "            <td>139.6582</td>\n",
       "            <td>35.42156</td>\n",
       "            <td>1341.0</td>\n",
       "        </tr>\n",
       "        <tr>\n",
       "            <td>S14046</td>\n",
       "            <td>北山田店</td>\n",
       "            <td>14</td>\n",
       "            <td>神奈川県</td>\n",
       "            <td>神奈川県横浜市都筑区北山田一丁目</td>\n",
       "            <td>カナガワケンヨコハマシツヅキクキタヤマタイッチョウメ</td>\n",
       "            <td>045-123-4049</td>\n",
       "            <td>139.5916</td>\n",
       "            <td>35.56189</td>\n",
       "            <td>831.0</td>\n",
       "        </tr>\n",
       "        <tr>\n",
       "            <td>S14022</td>\n",
       "            <td>逗子店</td>\n",
       "            <td>14</td>\n",
       "            <td>神奈川県</td>\n",
       "            <td>神奈川県逗子市逗子一丁目</td>\n",
       "            <td>カナガワケンズシシズシイッチョウメ</td>\n",
       "            <td>046-123-4036</td>\n",
       "            <td>139.5789</td>\n",
       "            <td>35.29642</td>\n",
       "            <td>1838.0</td>\n",
       "        </tr>\n",
       "        <tr>\n",
       "            <td>S14011</td>\n",
       "            <td>日吉本町店</td>\n",
       "            <td>14</td>\n",
       "            <td>神奈川県</td>\n",
       "            <td>神奈川県横浜市港北区日吉本町四丁目</td>\n",
       "            <td>カナガワケンヨコハマシコウホククヒヨシホンチョウヨンチョウメ</td>\n",
       "            <td>045-123-4033</td>\n",
       "            <td>139.6316</td>\n",
       "            <td>35.54655</td>\n",
       "            <td>890.0</td>\n",
       "        </tr>\n",
       "        <tr>\n",
       "            <td>S13016</td>\n",
       "            <td>小金井店</td>\n",
       "            <td>13</td>\n",
       "            <td>東京都</td>\n",
       "            <td>東京都小金井市本町一丁目</td>\n",
       "            <td>トウキョウトコガネイシホンチョウイッチョウメ</td>\n",
       "            <td>042-123-4015</td>\n",
       "            <td>139.5094</td>\n",
       "            <td>35.70018</td>\n",
       "            <td>1399.0</td>\n",
       "        </tr>\n",
       "        <tr>\n",
       "            <td>S14034</td>\n",
       "            <td>川崎野川店</td>\n",
       "            <td>14</td>\n",
       "            <td>神奈川県</td>\n",
       "            <td>神奈川県川崎市宮前区野川</td>\n",
       "            <td>カナガワケンカワサキシミヤマエクノガワ</td>\n",
       "            <td>044-123-4044</td>\n",
       "            <td>139.5998</td>\n",
       "            <td>35.57693</td>\n",
       "            <td>1318.0</td>\n",
       "        </tr>\n",
       "        <tr>\n",
       "            <td>S14048</td>\n",
       "            <td>中川中央店</td>\n",
       "            <td>14</td>\n",
       "            <td>神奈川県</td>\n",
       "            <td>神奈川県横浜市都筑区中川中央二丁目</td>\n",
       "            <td>カナガワケンヨコハマシツヅキクナカガワチュウオウニチョウメ</td>\n",
       "            <td>045-123-4051</td>\n",
       "            <td>139.5758</td>\n",
       "            <td>35.54912</td>\n",
       "            <td>1657.0</td>\n",
       "        </tr>\n",
       "        <tr>\n",
       "            <td>S12007</td>\n",
       "            <td>佐倉店</td>\n",
       "            <td>12</td>\n",
       "            <td>千葉県</td>\n",
       "            <td>千葉県佐倉市上志津</td>\n",
       "            <td>チバケンサクラシカミシヅ</td>\n",
       "            <td>043-123-4001</td>\n",
       "            <td>140.1452</td>\n",
       "            <td>35.71872</td>\n",
       "            <td>1895.0</td>\n",
       "        </tr>\n",
       "        <tr>\n",
       "            <td>S14026</td>\n",
       "            <td>辻堂西海岸店</td>\n",
       "            <td>14</td>\n",
       "            <td>神奈川県</td>\n",
       "            <td>神奈川県藤沢市辻堂西海岸二丁目</td>\n",
       "            <td>カナガワケンフジサワシツジドウニシカイガンニチョウメ</td>\n",
       "            <td>046-123-4040</td>\n",
       "            <td>139.4466</td>\n",
       "            <td>35.32464</td>\n",
       "            <td>1732.0</td>\n",
       "        </tr>\n",
       "        <tr>\n",
       "            <td>S13041</td>\n",
       "            <td>八王子店</td>\n",
       "            <td>13</td>\n",
       "            <td>東京都</td>\n",
       "            <td>東京都八王子市大塚</td>\n",
       "            <td>トウキョウトハチオウジシオオツカ</td>\n",
       "            <td>042-123-4026</td>\n",
       "            <td>139.4235</td>\n",
       "            <td>35.63787</td>\n",
       "            <td>810.0</td>\n",
       "        </tr>\n",
       "        <tr>\n",
       "            <td>S14049</td>\n",
       "            <td>川崎大師店</td>\n",
       "            <td>14</td>\n",
       "            <td>神奈川県</td>\n",
       "            <td>神奈川県川崎市川崎区中瀬三丁目</td>\n",
       "            <td>カナガワケンカワサキシカワサキクナカゼサンチョウメ</td>\n",
       "            <td>044-123-4052</td>\n",
       "            <td>139.7327</td>\n",
       "            <td>35.53759</td>\n",
       "            <td>962.0</td>\n",
       "        </tr>\n",
       "        <tr>\n",
       "            <td>S14023</td>\n",
       "            <td>川崎店</td>\n",
       "            <td>14</td>\n",
       "            <td>神奈川県</td>\n",
       "            <td>神奈川県川崎市川崎区本町二丁目</td>\n",
       "            <td>カナガワケンカワサキシカワサキクホンチョウニチョウメ</td>\n",
       "            <td>044-123-4037</td>\n",
       "            <td>139.7028</td>\n",
       "            <td>35.53599</td>\n",
       "            <td>1804.0</td>\n",
       "        </tr>\n",
       "        <tr>\n",
       "            <td>S13018</td>\n",
       "            <td>清瀬店</td>\n",
       "            <td>13</td>\n",
       "            <td>東京都</td>\n",
       "            <td>東京都清瀬市松山一丁目</td>\n",
       "            <td>トウキョウトキヨセシマツヤマイッチョウメ</td>\n",
       "            <td>042-123-4017</td>\n",
       "            <td>139.5178</td>\n",
       "            <td>35.76885</td>\n",
       "            <td>1220.0</td>\n",
       "        </tr>\n",
       "        <tr>\n",
       "            <td>S14027</td>\n",
       "            <td>南藤沢店</td>\n",
       "            <td>14</td>\n",
       "            <td>神奈川県</td>\n",
       "            <td>神奈川県藤沢市南藤沢</td>\n",
       "            <td>カナガワケンフジサワシミナミフジサワ</td>\n",
       "            <td>046-123-4041</td>\n",
       "            <td>139.4896</td>\n",
       "            <td>35.33762</td>\n",
       "            <td>1521.0</td>\n",
       "        </tr>\n",
       "        <tr>\n",
       "            <td>S14021</td>\n",
       "            <td>伊勢原店</td>\n",
       "            <td>14</td>\n",
       "            <td>神奈川県</td>\n",
       "            <td>神奈川県伊勢原市伊勢原四丁目</td>\n",
       "            <td>カナガワケンイセハラシイセハラヨンチョウメ</td>\n",
       "            <td>046-123-4035</td>\n",
       "            <td>139.3129</td>\n",
       "            <td>35.40169</td>\n",
       "            <td>962.0</td>\n",
       "        </tr>\n",
       "        <tr>\n",
       "            <td>S14047</td>\n",
       "            <td>相模原店</td>\n",
       "            <td>14</td>\n",
       "            <td>神奈川県</td>\n",
       "            <td>神奈川県相模原市千代田六丁目</td>\n",
       "            <td>カナガワケンサガミハラシチヨダロクチョウメ</td>\n",
       "            <td>042-123-4050</td>\n",
       "            <td>139.3748</td>\n",
       "            <td>35.55959</td>\n",
       "            <td>1047.0</td>\n",
       "        </tr>\n",
       "        <tr>\n",
       "            <td>S12013</td>\n",
       "            <td>習志野店</td>\n",
       "            <td>12</td>\n",
       "            <td>千葉県</td>\n",
       "            <td>千葉県習志野市芝園一丁目</td>\n",
       "            <td>チバケンナラシノシシバゾノイッチョウメ</td>\n",
       "            <td>047-123-4002</td>\n",
       "            <td>140.022</td>\n",
       "            <td>35.66122</td>\n",
       "            <td>808.0</td>\n",
       "        </tr>\n",
       "        <tr>\n",
       "            <td>S14042</td>\n",
       "            <td>新山下店</td>\n",
       "            <td>14</td>\n",
       "            <td>神奈川県</td>\n",
       "            <td>神奈川県横浜市中区新山下二丁目</td>\n",
       "            <td>カナガワケンヨコハマシナカクシンヤマシタニチョウメ</td>\n",
       "            <td>045-123-4047</td>\n",
       "            <td>139.6593</td>\n",
       "            <td>35.43894</td>\n",
       "            <td>1044.0</td>\n",
       "        </tr>\n",
       "        <tr>\n",
       "            <td>S12030</td>\n",
       "            <td>八幡店</td>\n",
       "            <td>12</td>\n",
       "            <td>千葉県</td>\n",
       "            <td>千葉県市川市八幡三丁目</td>\n",
       "            <td>チバケンイチカワシヤワタサンチョウメ</td>\n",
       "            <td>047-123-4005</td>\n",
       "            <td>139.924</td>\n",
       "            <td>35.72318</td>\n",
       "            <td>1162.0</td>\n",
       "        </tr>\n",
       "        <tr>\n",
       "            <td>S14025</td>\n",
       "            <td>大和店</td>\n",
       "            <td>14</td>\n",
       "            <td>神奈川県</td>\n",
       "            <td>神奈川県大和市下和田</td>\n",
       "            <td>カナガワケンヤマトシシモワダ</td>\n",
       "            <td>046-123-4039</td>\n",
       "            <td>139.468</td>\n",
       "            <td>35.43414</td>\n",
       "            <td>1011.0</td>\n",
       "        </tr>\n",
       "        <tr>\n",
       "            <td>S14045</td>\n",
       "            <td>厚木店</td>\n",
       "            <td>14</td>\n",
       "            <td>神奈川県</td>\n",
       "            <td>神奈川県厚木市中町二丁目</td>\n",
       "            <td>カナガワケンアツギシナカチョウニチョウメ</td>\n",
       "            <td>046-123-4048</td>\n",
       "            <td>139.3651</td>\n",
       "            <td>35.44182</td>\n",
       "            <td>980.0</td>\n",
       "        </tr>\n",
       "        <tr>\n",
       "            <td>S12029</td>\n",
       "            <td>東野店</td>\n",
       "            <td>12</td>\n",
       "            <td>千葉県</td>\n",
       "            <td>千葉県浦安市東野一丁目</td>\n",
       "            <td>チバケンウラヤスシヒガシノイッチョウメ</td>\n",
       "            <td>047-123-4004</td>\n",
       "            <td>139.8968</td>\n",
       "            <td>35.65086</td>\n",
       "            <td>1101.0</td>\n",
       "        </tr>\n",
       "        <tr>\n",
       "            <td>S12053</td>\n",
       "            <td>高洲店</td>\n",
       "            <td>12</td>\n",
       "            <td>千葉県</td>\n",
       "            <td>千葉県浦安市高洲五丁目</td>\n",
       "            <td>チバケンウラヤスシタカスゴチョウメ</td>\n",
       "            <td>047-123-4006</td>\n",
       "            <td>139.9176</td>\n",
       "            <td>35.63755</td>\n",
       "            <td>1555.0</td>\n",
       "        </tr>\n",
       "        <tr>\n",
       "            <td>S14024</td>\n",
       "            <td>三田店</td>\n",
       "            <td>14</td>\n",
       "            <td>神奈川県</td>\n",
       "            <td>神奈川県川崎市多摩区三田四丁目</td>\n",
       "            <td>カナガワケンカワサキシタマクミタヨンチョウメ</td>\n",
       "            <td>044-123-4038</td>\n",
       "            <td>139.5424</td>\n",
       "            <td>35.6077</td>\n",
       "            <td>972.0</td>\n",
       "        </tr>\n",
       "        <tr>\n",
       "            <td>S14006</td>\n",
       "            <td>葛が谷店</td>\n",
       "            <td>14</td>\n",
       "            <td>神奈川県</td>\n",
       "            <td>神奈川県横浜市都筑区葛が谷</td>\n",
       "            <td>カナガワケンヨコハマシツヅキククズガヤ</td>\n",
       "            <td>045-123-4031</td>\n",
       "            <td>139.5633</td>\n",
       "            <td>35.53573</td>\n",
       "            <td>1886.0</td>\n",
       "        </tr>\n",
       "    </tbody>\n",
       "</table>"
      ],
      "text/plain": [
       "[('S12014', '千草台店', '12', '千葉県', '千葉県千葉市稲毛区千草台一丁目', 'チバケンチバシイナゲクチグサダイイッチョウメ', '043-123-4003', Decimal('140.118'), Decimal('35.63559'), Decimal('1698.0')),\n",
       " ('S13002', '国分寺店', '13', '東京都', '東京都国分寺市本多二丁目', 'トウキョウトコクブンジシホンダニチョウメ', '042-123-4008', Decimal('139.4802'), Decimal('35.70566'), Decimal('1735.0')),\n",
       " ('S14010', '菊名店', '14', '神奈川県', '神奈川県横浜市港北区菊名一丁目', 'カナガワケンヨコハマシコウホククキクナイッチョウメ', '045-123-4032', Decimal('139.6326'), Decimal('35.50049'), Decimal('1732.0')),\n",
       " ('S14033', '阿久和店', '14', '神奈川県', '神奈川県横浜市瀬谷区阿久和西一丁目', 'カナガワケンヨコハマシセヤクアクワニシイッチョウメ', '045-123-4043', Decimal('139.4961'), Decimal('35.45918'), Decimal('1495.0')),\n",
       " ('S14036', '相模原中央店', '14', '神奈川県', '神奈川県相模原市中央二丁目', 'カナガワケンサガミハラシチュウオウニチョウメ', '042-123-4045', Decimal('139.3716'), Decimal('35.57327'), Decimal('1679.0')),\n",
       " ('S14040', '長津田店', '14', '神奈川県', '神奈川県横浜市緑区長津田みなみ台五丁目', 'カナガワケンヨコハマシミドリクナガツタミナミダイゴチョウメ', '045-123-4046', Decimal('139.4994'), Decimal('35.52398'), Decimal('1548.0')),\n",
       " ('S14050', '阿久和西店', '14', '神奈川県', '神奈川県横浜市瀬谷区阿久和西一丁目', 'カナガワケンヨコハマシセヤクアクワニシイッチョウメ', '045-123-4053', Decimal('139.4961'), Decimal('35.45918'), Decimal('1830.0')),\n",
       " ('S13052', '森野店', '13', '東京都', '東京都町田市森野三丁目', 'トウキョウトマチダシモリノサンチョウメ', '042-123-4030', Decimal('139.4383'), Decimal('35.55293'), Decimal('1087.0')),\n",
       " ('S14028', '二ツ橋店', '14', '神奈川県', '神奈川県横浜市瀬谷区二ツ橋町', 'カナガワケンヨコハマシセヤクフタツバシチョウ', '045-123-4042', Decimal('139.4963'), Decimal('35.46304'), Decimal('1574.0')),\n",
       " ('S14012', '本牧和田店', '14', '神奈川県', '神奈川県横浜市中区本牧和田', 'カナガワケンヨコハマシナカクホンモクワダ', '045-123-4034', Decimal('139.6582'), Decimal('35.42156'), Decimal('1341.0')),\n",
       " ('S14046', '北山田店', '14', '神奈川県', '神奈川県横浜市都筑区北山田一丁目', 'カナガワケンヨコハマシツヅキクキタヤマタイッチョウメ', '045-123-4049', Decimal('139.5916'), Decimal('35.56189'), Decimal('831.0')),\n",
       " ('S14022', '逗子店', '14', '神奈川県', '神奈川県逗子市逗子一丁目', 'カナガワケンズシシズシイッチョウメ', '046-123-4036', Decimal('139.5789'), Decimal('35.29642'), Decimal('1838.0')),\n",
       " ('S14011', '日吉本町店', '14', '神奈川県', '神奈川県横浜市港北区日吉本町四丁目', 'カナガワケンヨコハマシコウホククヒヨシホンチョウヨンチョウメ', '045-123-4033', Decimal('139.6316'), Decimal('35.54655'), Decimal('890.0')),\n",
       " ('S13016', '小金井店', '13', '東京都', '東京都小金井市本町一丁目', 'トウキョウトコガネイシホンチョウイッチョウメ', '042-123-4015', Decimal('139.5094'), Decimal('35.70018'), Decimal('1399.0')),\n",
       " ('S14034', '川崎野川店', '14', '神奈川県', '神奈川県川崎市宮前区野川', 'カナガワケンカワサキシミヤマエクノガワ', '044-123-4044', Decimal('139.5998'), Decimal('35.57693'), Decimal('1318.0')),\n",
       " ('S14048', '中川中央店', '14', '神奈川県', '神奈川県横浜市都筑区中川中央二丁目', 'カナガワケンヨコハマシツヅキクナカガワチュウオウニチョウメ', '045-123-4051', Decimal('139.5758'), Decimal('35.54912'), Decimal('1657.0')),\n",
       " ('S12007', '佐倉店', '12', '千葉県', '千葉県佐倉市上志津', 'チバケンサクラシカミシヅ', '043-123-4001', Decimal('140.1452'), Decimal('35.71872'), Decimal('1895.0')),\n",
       " ('S14026', '辻堂西海岸店', '14', '神奈川県', '神奈川県藤沢市辻堂西海岸二丁目', 'カナガワケンフジサワシツジドウニシカイガンニチョウメ', '046-123-4040', Decimal('139.4466'), Decimal('35.32464'), Decimal('1732.0')),\n",
       " ('S13041', '八王子店', '13', '東京都', '東京都八王子市大塚', 'トウキョウトハチオウジシオオツカ', '042-123-4026', Decimal('139.4235'), Decimal('35.63787'), Decimal('810.0')),\n",
       " ('S14049', '川崎大師店', '14', '神奈川県', '神奈川県川崎市川崎区中瀬三丁目', 'カナガワケンカワサキシカワサキクナカゼサンチョウメ', '044-123-4052', Decimal('139.7327'), Decimal('35.53759'), Decimal('962.0')),\n",
       " ('S14023', '川崎店', '14', '神奈川県', '神奈川県川崎市川崎区本町二丁目', 'カナガワケンカワサキシカワサキクホンチョウニチョウメ', '044-123-4037', Decimal('139.7028'), Decimal('35.53599'), Decimal('1804.0')),\n",
       " ('S13018', '清瀬店', '13', '東京都', '東京都清瀬市松山一丁目', 'トウキョウトキヨセシマツヤマイッチョウメ', '042-123-4017', Decimal('139.5178'), Decimal('35.76885'), Decimal('1220.0')),\n",
       " ('S14027', '南藤沢店', '14', '神奈川県', '神奈川県藤沢市南藤沢', 'カナガワケンフジサワシミナミフジサワ', '046-123-4041', Decimal('139.4896'), Decimal('35.33762'), Decimal('1521.0')),\n",
       " ('S14021', '伊勢原店', '14', '神奈川県', '神奈川県伊勢原市伊勢原四丁目', 'カナガワケンイセハラシイセハラヨンチョウメ', '046-123-4035', Decimal('139.3129'), Decimal('35.40169'), Decimal('962.0')),\n",
       " ('S14047', '相模原店', '14', '神奈川県', '神奈川県相模原市千代田六丁目', 'カナガワケンサガミハラシチヨダロクチョウメ', '042-123-4050', Decimal('139.3748'), Decimal('35.55959'), Decimal('1047.0')),\n",
       " ('S12013', '習志野店', '12', '千葉県', '千葉県習志野市芝園一丁目', 'チバケンナラシノシシバゾノイッチョウメ', '047-123-4002', Decimal('140.022'), Decimal('35.66122'), Decimal('808.0')),\n",
       " ('S14042', '新山下店', '14', '神奈川県', '神奈川県横浜市中区新山下二丁目', 'カナガワケンヨコハマシナカクシンヤマシタニチョウメ', '045-123-4047', Decimal('139.6593'), Decimal('35.43894'), Decimal('1044.0')),\n",
       " ('S12030', '八幡店', '12', '千葉県', '千葉県市川市八幡三丁目', 'チバケンイチカワシヤワタサンチョウメ', '047-123-4005', Decimal('139.924'), Decimal('35.72318'), Decimal('1162.0')),\n",
       " ('S14025', '大和店', '14', '神奈川県', '神奈川県大和市下和田', 'カナガワケンヤマトシシモワダ', '046-123-4039', Decimal('139.468'), Decimal('35.43414'), Decimal('1011.0')),\n",
       " ('S14045', '厚木店', '14', '神奈川県', '神奈川県厚木市中町二丁目', 'カナガワケンアツギシナカチョウニチョウメ', '046-123-4048', Decimal('139.3651'), Decimal('35.44182'), Decimal('980.0')),\n",
       " ('S12029', '東野店', '12', '千葉県', '千葉県浦安市東野一丁目', 'チバケンウラヤスシヒガシノイッチョウメ', '047-123-4004', Decimal('139.8968'), Decimal('35.65086'), Decimal('1101.0')),\n",
       " ('S12053', '高洲店', '12', '千葉県', '千葉県浦安市高洲五丁目', 'チバケンウラヤスシタカスゴチョウメ', '047-123-4006', Decimal('139.9176'), Decimal('35.63755'), Decimal('1555.0')),\n",
       " ('S14024', '三田店', '14', '神奈川県', '神奈川県川崎市多摩区三田四丁目', 'カナガワケンカワサキシタマクミタヨンチョウメ', '044-123-4038', Decimal('139.5424'), Decimal('35.6077'), Decimal('972.0')),\n",
       " ('S14006', '葛が谷店', '14', '神奈川県', '神奈川県横浜市都筑区葛が谷', 'カナガワケンヨコハマシツヅキククズガヤ', '045-123-4031', Decimal('139.5633'), Decimal('35.53573'), Decimal('1886.0'))]"
      ]
     },
     "execution_count": 28,
     "metadata": {},
     "output_type": "execute_result"
    }
   ],
   "source": [
    "%%sql\n",
    "SELECT * FROM store\n",
    "WHERE tel_no ~ '[0-9]{3}-[0-9]{3}-[0-9]{4}'"
   ]
  },
  {
   "cell_type": "markdown",
   "metadata": {},
   "source": [
    "---\n",
    "> S-017: 顧客データ（customer）を生年月日（birth_day）で高齢順にソートし、先頭から全項目を10件表示せよ。"
   ]
  },
  {
   "cell_type": "code",
   "execution_count": 31,
   "metadata": {},
   "outputs": [
    {
     "name": "stdout",
     "output_type": "stream",
     "text": [
      "*  postgresql://padawan:***@db:5432/dsdojo_db\n",
      "10 rows affected.\n"
     ]
    },
    {
     "data": {
      "text/html": [
       "<table>\n",
       "    <thead>\n",
       "        <tr>\n",
       "            <th>customer_id</th>\n",
       "            <th>customer_name</th>\n",
       "            <th>gender_cd</th>\n",
       "            <th>gender</th>\n",
       "            <th>birth_day</th>\n",
       "            <th>age</th>\n",
       "            <th>postal_cd</th>\n",
       "            <th>address</th>\n",
       "            <th>application_store_cd</th>\n",
       "            <th>application_date</th>\n",
       "            <th>status_cd</th>\n",
       "        </tr>\n",
       "    </thead>\n",
       "    <tbody>\n",
       "        <tr>\n",
       "            <td>CS003813000014</td>\n",
       "            <td>村山 菜々美</td>\n",
       "            <td>1</td>\n",
       "            <td>女性</td>\n",
       "            <td>1928-11-26</td>\n",
       "            <td>90</td>\n",
       "            <td>182-0007</td>\n",
       "            <td>東京都調布市菊野台**********</td>\n",
       "            <td>S13003</td>\n",
       "            <td>20160214</td>\n",
       "            <td>0-00000000-0</td>\n",
       "        </tr>\n",
       "        <tr>\n",
       "            <td>CS026813000004</td>\n",
       "            <td>吉村 朝陽</td>\n",
       "            <td>1</td>\n",
       "            <td>女性</td>\n",
       "            <td>1928-12-14</td>\n",
       "            <td>90</td>\n",
       "            <td>251-0043</td>\n",
       "            <td>神奈川県藤沢市辻堂元町**********</td>\n",
       "            <td>S14026</td>\n",
       "            <td>20150723</td>\n",
       "            <td>0-00000000-0</td>\n",
       "        </tr>\n",
       "        <tr>\n",
       "            <td>CS018811000003</td>\n",
       "            <td>熊沢 美里</td>\n",
       "            <td>1</td>\n",
       "            <td>女性</td>\n",
       "            <td>1929-01-07</td>\n",
       "            <td>90</td>\n",
       "            <td>204-0004</td>\n",
       "            <td>東京都清瀬市野塩**********</td>\n",
       "            <td>S13018</td>\n",
       "            <td>20150403</td>\n",
       "            <td>0-00000000-0</td>\n",
       "        </tr>\n",
       "        <tr>\n",
       "            <td>CS027803000004</td>\n",
       "            <td>内村 拓郎</td>\n",
       "            <td>0</td>\n",
       "            <td>男性</td>\n",
       "            <td>1929-01-12</td>\n",
       "            <td>90</td>\n",
       "            <td>251-0031</td>\n",
       "            <td>神奈川県藤沢市鵠沼藤が谷**********</td>\n",
       "            <td>S14027</td>\n",
       "            <td>20151227</td>\n",
       "            <td>0-00000000-0</td>\n",
       "        </tr>\n",
       "        <tr>\n",
       "            <td>CS013801000003</td>\n",
       "            <td>天野 拓郎</td>\n",
       "            <td>0</td>\n",
       "            <td>男性</td>\n",
       "            <td>1929-01-15</td>\n",
       "            <td>90</td>\n",
       "            <td>274-0824</td>\n",
       "            <td>千葉県船橋市前原東**********</td>\n",
       "            <td>S12013</td>\n",
       "            <td>20160120</td>\n",
       "            <td>0-00000000-0</td>\n",
       "        </tr>\n",
       "        <tr>\n",
       "            <td>CS001814000022</td>\n",
       "            <td>鶴田 里穂</td>\n",
       "            <td>1</td>\n",
       "            <td>女性</td>\n",
       "            <td>1929-01-28</td>\n",
       "            <td>90</td>\n",
       "            <td>144-0045</td>\n",
       "            <td>東京都大田区南六郷**********</td>\n",
       "            <td>S13001</td>\n",
       "            <td>20161012</td>\n",
       "            <td>A-20090415-7</td>\n",
       "        </tr>\n",
       "        <tr>\n",
       "            <td>CS016815000002</td>\n",
       "            <td>山元 美紀</td>\n",
       "            <td>1</td>\n",
       "            <td>女性</td>\n",
       "            <td>1929-02-22</td>\n",
       "            <td>90</td>\n",
       "            <td>184-0005</td>\n",
       "            <td>東京都小金井市桜町**********</td>\n",
       "            <td>S13016</td>\n",
       "            <td>20150629</td>\n",
       "            <td>C-20090923-C</td>\n",
       "        </tr>\n",
       "        <tr>\n",
       "            <td>CS009815000003</td>\n",
       "            <td>中田 里穂</td>\n",
       "            <td>1</td>\n",
       "            <td>女性</td>\n",
       "            <td>1929-04-08</td>\n",
       "            <td>89</td>\n",
       "            <td>154-0014</td>\n",
       "            <td>東京都世田谷区新町**********</td>\n",
       "            <td>S13009</td>\n",
       "            <td>20150421</td>\n",
       "            <td>D-20091021-E</td>\n",
       "        </tr>\n",
       "        <tr>\n",
       "            <td>CS012813000013</td>\n",
       "            <td>宇野 南朋</td>\n",
       "            <td>1</td>\n",
       "            <td>女性</td>\n",
       "            <td>1929-04-09</td>\n",
       "            <td>89</td>\n",
       "            <td>231-0806</td>\n",
       "            <td>神奈川県横浜市中区本牧町**********</td>\n",
       "            <td>S14012</td>\n",
       "            <td>20150712</td>\n",
       "            <td>0-00000000-0</td>\n",
       "        </tr>\n",
       "        <tr>\n",
       "            <td>CS005813000015</td>\n",
       "            <td>金谷 恵梨香</td>\n",
       "            <td>1</td>\n",
       "            <td>女性</td>\n",
       "            <td>1929-04-09</td>\n",
       "            <td>89</td>\n",
       "            <td>165-0032</td>\n",
       "            <td>東京都中野区鷺宮**********</td>\n",
       "            <td>S13005</td>\n",
       "            <td>20150506</td>\n",
       "            <td>0-00000000-0</td>\n",
       "        </tr>\n",
       "    </tbody>\n",
       "</table>"
      ],
      "text/plain": [
       "[('CS003813000014', '村山 菜々美', '1', '女性', datetime.date(1928, 11, 26), 90, '182-0007', '東京都調布市菊野台**********', 'S13003', '20160214', '0-00000000-0'),\n",
       " ('CS026813000004', '吉村 朝陽', '1', '女性', datetime.date(1928, 12, 14), 90, '251-0043', '神奈川県藤沢市辻堂元町**********', 'S14026', '20150723', '0-00000000-0'),\n",
       " ('CS018811000003', '熊沢 美里', '1', '女性', datetime.date(1929, 1, 7), 90, '204-0004', '東京都清瀬市野塩**********', 'S13018', '20150403', '0-00000000-0'),\n",
       " ('CS027803000004', '内村 拓郎', '0', '男性', datetime.date(1929, 1, 12), 90, '251-0031', '神奈川県藤沢市鵠沼藤が谷**********', 'S14027', '20151227', '0-00000000-0'),\n",
       " ('CS013801000003', '天野 拓郎', '0', '男性', datetime.date(1929, 1, 15), 90, '274-0824', '千葉県船橋市前原東**********', 'S12013', '20160120', '0-00000000-0'),\n",
       " ('CS001814000022', '鶴田 里穂', '1', '女性', datetime.date(1929, 1, 28), 90, '144-0045', '東京都大田区南六郷**********', 'S13001', '20161012', 'A-20090415-7'),\n",
       " ('CS016815000002', '山元 美紀', '1', '女性', datetime.date(1929, 2, 22), 90, '184-0005', '東京都小金井市桜町**********', 'S13016', '20150629', 'C-20090923-C'),\n",
       " ('CS009815000003', '中田 里穂', '1', '女性', datetime.date(1929, 4, 8), 89, '154-0014', '東京都世田谷区新町**********', 'S13009', '20150421', 'D-20091021-E'),\n",
       " ('CS012813000013', '宇野 南朋', '1', '女性', datetime.date(1929, 4, 9), 89, '231-0806', '神奈川県横浜市中区本牧町**********', 'S14012', '20150712', '0-00000000-0'),\n",
       " ('CS005813000015', '金谷 恵梨香', '1', '女性', datetime.date(1929, 4, 9), 89, '165-0032', '東京都中野区鷺宮**********', 'S13005', '20150506', '0-00000000-0')]"
      ]
     },
     "execution_count": 31,
     "metadata": {},
     "output_type": "execute_result"
    }
   ],
   "source": [
    "%%sql\n",
    "SELECT *\n",
    "FROM customer\n",
    "ORDER BY birth_day ASC\n",
    "LIMIT 10;"
   ]
  },
  {
   "cell_type": "markdown",
   "metadata": {},
   "source": [
    "---\n",
    "> S-018: 顧客データ（customer）を生年月日（birth_day）で若い順にソートし、先頭から全項目を10件表示せよ。"
   ]
  },
  {
   "cell_type": "code",
   "execution_count": 32,
   "metadata": {},
   "outputs": [
    {
     "name": "stdout",
     "output_type": "stream",
     "text": [
      "*  postgresql://padawan:***@db:5432/dsdojo_db\n",
      "10 rows affected.\n"
     ]
    },
    {
     "data": {
      "text/html": [
       "<table>\n",
       "    <thead>\n",
       "        <tr>\n",
       "            <th>customer_id</th>\n",
       "            <th>customer_name</th>\n",
       "            <th>gender_cd</th>\n",
       "            <th>gender</th>\n",
       "            <th>birth_day</th>\n",
       "            <th>age</th>\n",
       "            <th>postal_cd</th>\n",
       "            <th>address</th>\n",
       "            <th>application_store_cd</th>\n",
       "            <th>application_date</th>\n",
       "            <th>status_cd</th>\n",
       "        </tr>\n",
       "    </thead>\n",
       "    <tbody>\n",
       "        <tr>\n",
       "            <td>CS035114000004</td>\n",
       "            <td>大村 美里</td>\n",
       "            <td>1</td>\n",
       "            <td>女性</td>\n",
       "            <td>2007-11-25</td>\n",
       "            <td>11</td>\n",
       "            <td>156-0053</td>\n",
       "            <td>東京都世田谷区桜**********</td>\n",
       "            <td>S13035</td>\n",
       "            <td>20150619</td>\n",
       "            <td>6-20091205-6</td>\n",
       "        </tr>\n",
       "        <tr>\n",
       "            <td>CS022103000002</td>\n",
       "            <td>福山 はじめ</td>\n",
       "            <td>9</td>\n",
       "            <td>不明</td>\n",
       "            <td>2007-10-02</td>\n",
       "            <td>11</td>\n",
       "            <td>249-0006</td>\n",
       "            <td>神奈川県逗子市逗子**********</td>\n",
       "            <td>S14022</td>\n",
       "            <td>20160909</td>\n",
       "            <td>0-00000000-0</td>\n",
       "        </tr>\n",
       "        <tr>\n",
       "            <td>CS002113000009</td>\n",
       "            <td>柴田 真悠子</td>\n",
       "            <td>1</td>\n",
       "            <td>女性</td>\n",
       "            <td>2007-09-17</td>\n",
       "            <td>11</td>\n",
       "            <td>184-0014</td>\n",
       "            <td>東京都小金井市貫井南町**********</td>\n",
       "            <td>S13002</td>\n",
       "            <td>20160304</td>\n",
       "            <td>0-00000000-0</td>\n",
       "        </tr>\n",
       "        <tr>\n",
       "            <td>CS004115000014</td>\n",
       "            <td>松井 京子</td>\n",
       "            <td>1</td>\n",
       "            <td>女性</td>\n",
       "            <td>2007-08-09</td>\n",
       "            <td>11</td>\n",
       "            <td>165-0031</td>\n",
       "            <td>東京都中野区上鷺宮**********</td>\n",
       "            <td>S13004</td>\n",
       "            <td>20161120</td>\n",
       "            <td>1-20081231-1</td>\n",
       "        </tr>\n",
       "        <tr>\n",
       "            <td>CS002114000010</td>\n",
       "            <td>山内 遥</td>\n",
       "            <td>1</td>\n",
       "            <td>女性</td>\n",
       "            <td>2007-06-03</td>\n",
       "            <td>11</td>\n",
       "            <td>184-0015</td>\n",
       "            <td>東京都小金井市貫井北町**********</td>\n",
       "            <td>S13002</td>\n",
       "            <td>20160920</td>\n",
       "            <td>6-20100510-1</td>\n",
       "        </tr>\n",
       "        <tr>\n",
       "            <td>CS025115000002</td>\n",
       "            <td>小柳 夏希</td>\n",
       "            <td>1</td>\n",
       "            <td>女性</td>\n",
       "            <td>2007-04-18</td>\n",
       "            <td>11</td>\n",
       "            <td>245-0018</td>\n",
       "            <td>神奈川県横浜市泉区上飯田町**********</td>\n",
       "            <td>S14025</td>\n",
       "            <td>20160116</td>\n",
       "            <td>D-20100913-D</td>\n",
       "        </tr>\n",
       "        <tr>\n",
       "            <td>CS002113000025</td>\n",
       "            <td>広末 まなみ</td>\n",
       "            <td>1</td>\n",
       "            <td>女性</td>\n",
       "            <td>2007-03-30</td>\n",
       "            <td>12</td>\n",
       "            <td>184-0015</td>\n",
       "            <td>東京都小金井市貫井北町**********</td>\n",
       "            <td>S13002</td>\n",
       "            <td>20171030</td>\n",
       "            <td>0-00000000-0</td>\n",
       "        </tr>\n",
       "        <tr>\n",
       "            <td>CS033112000003</td>\n",
       "            <td>長野 美紀</td>\n",
       "            <td>1</td>\n",
       "            <td>女性</td>\n",
       "            <td>2007-03-22</td>\n",
       "            <td>12</td>\n",
       "            <td>245-0051</td>\n",
       "            <td>神奈川県横浜市戸塚区名瀬町**********</td>\n",
       "            <td>S14033</td>\n",
       "            <td>20150606</td>\n",
       "            <td>0-00000000-0</td>\n",
       "        </tr>\n",
       "        <tr>\n",
       "            <td>CS007115000006</td>\n",
       "            <td>福岡 瞬</td>\n",
       "            <td>1</td>\n",
       "            <td>女性</td>\n",
       "            <td>2007-03-10</td>\n",
       "            <td>12</td>\n",
       "            <td>285-0845</td>\n",
       "            <td>千葉県佐倉市西志津**********</td>\n",
       "            <td>S12007</td>\n",
       "            <td>20151118</td>\n",
       "            <td>F-20101016-F</td>\n",
       "        </tr>\n",
       "        <tr>\n",
       "            <td>CS014113000008</td>\n",
       "            <td>矢口 莉緒</td>\n",
       "            <td>1</td>\n",
       "            <td>女性</td>\n",
       "            <td>2007-03-05</td>\n",
       "            <td>12</td>\n",
       "            <td>260-0041</td>\n",
       "            <td>千葉県千葉市中央区東千葉**********</td>\n",
       "            <td>S12014</td>\n",
       "            <td>20150622</td>\n",
       "            <td>3-20091108-6</td>\n",
       "        </tr>\n",
       "    </tbody>\n",
       "</table>"
      ],
      "text/plain": [
       "[('CS035114000004', '大村 美里', '1', '女性', datetime.date(2007, 11, 25), 11, '156-0053', '東京都世田谷区桜**********', 'S13035', '20150619', '6-20091205-6'),\n",
       " ('CS022103000002', '福山 はじめ', '9', '不明', datetime.date(2007, 10, 2), 11, '249-0006', '神奈川県逗子市逗子**********', 'S14022', '20160909', '0-00000000-0'),\n",
       " ('CS002113000009', '柴田 真悠子', '1', '女性', datetime.date(2007, 9, 17), 11, '184-0014', '東京都小金井市貫井南町**********', 'S13002', '20160304', '0-00000000-0'),\n",
       " ('CS004115000014', '松井 京子', '1', '女性', datetime.date(2007, 8, 9), 11, '165-0031', '東京都中野区上鷺宮**********', 'S13004', '20161120', '1-20081231-1'),\n",
       " ('CS002114000010', '山内 遥', '1', '女性', datetime.date(2007, 6, 3), 11, '184-0015', '東京都小金井市貫井北町**********', 'S13002', '20160920', '6-20100510-1'),\n",
       " ('CS025115000002', '小柳 夏希', '1', '女性', datetime.date(2007, 4, 18), 11, '245-0018', '神奈川県横浜市泉区上飯田町**********', 'S14025', '20160116', 'D-20100913-D'),\n",
       " ('CS002113000025', '広末 まなみ', '1', '女性', datetime.date(2007, 3, 30), 12, '184-0015', '東京都小金井市貫井北町**********', 'S13002', '20171030', '0-00000000-0'),\n",
       " ('CS033112000003', '長野 美紀', '1', '女性', datetime.date(2007, 3, 22), 12, '245-0051', '神奈川県横浜市戸塚区名瀬町**********', 'S14033', '20150606', '0-00000000-0'),\n",
       " ('CS007115000006', '福岡 瞬', '1', '女性', datetime.date(2007, 3, 10), 12, '285-0845', '千葉県佐倉市西志津**********', 'S12007', '20151118', 'F-20101016-F'),\n",
       " ('CS014113000008', '矢口 莉緒', '1', '女性', datetime.date(2007, 3, 5), 12, '260-0041', '千葉県千葉市中央区東千葉**********', 'S12014', '20150622', '3-20091108-6')]"
      ]
     },
     "execution_count": 32,
     "metadata": {},
     "output_type": "execute_result"
    }
   ],
   "source": [
    "%%sql\n",
    "SELECT *\n",
    "FROM customer\n",
    "ORDER BY birth_day DESC\n",
    "LIMIT 10;"
   ]
  },
  {
   "cell_type": "markdown",
   "metadata": {},
   "source": [
    "---\n",
    "> S-019: レシート明細データ（receipt）に対し、1件あたりの売上金額（amount）が高い順にランクを付与し、先頭から10件表示せよ。項目は顧客ID（customer_id）、売上金額（amount）、付与したランクを表示させること。なお、売上金額（amount）が等しい場合は同一順位を付与するものとする。"
   ]
  },
  {
   "cell_type": "code",
   "execution_count": 37,
   "metadata": {},
   "outputs": [
    {
     "name": "stdout",
     "output_type": "stream",
     "text": [
      "*  postgresql://padawan:***@db:5432/dsdojo_db\n",
      "10 rows affected.\n"
     ]
    },
    {
     "data": {
      "text/html": [
       "<table>\n",
       "    <thead>\n",
       "        <tr>\n",
       "            <th>customer_id</th>\n",
       "            <th>amount</th>\n",
       "            <th>amount_rank</th>\n",
       "        </tr>\n",
       "    </thead>\n",
       "    <tbody>\n",
       "        <tr>\n",
       "            <td>CS011415000006</td>\n",
       "            <td>10925</td>\n",
       "            <td>1</td>\n",
       "        </tr>\n",
       "        <tr>\n",
       "            <td>ZZ000000000000</td>\n",
       "            <td>6800</td>\n",
       "            <td>2</td>\n",
       "        </tr>\n",
       "        <tr>\n",
       "            <td>CS028605000002</td>\n",
       "            <td>5780</td>\n",
       "            <td>3</td>\n",
       "        </tr>\n",
       "        <tr>\n",
       "            <td>ZZ000000000000</td>\n",
       "            <td>5480</td>\n",
       "            <td>4</td>\n",
       "        </tr>\n",
       "        <tr>\n",
       "            <td>CS015515000034</td>\n",
       "            <td>5480</td>\n",
       "            <td>4</td>\n",
       "        </tr>\n",
       "        <tr>\n",
       "            <td>ZZ000000000000</td>\n",
       "            <td>5480</td>\n",
       "            <td>4</td>\n",
       "        </tr>\n",
       "        <tr>\n",
       "            <td>ZZ000000000000</td>\n",
       "            <td>5440</td>\n",
       "            <td>7</td>\n",
       "        </tr>\n",
       "        <tr>\n",
       "            <td>CS021515000089</td>\n",
       "            <td>5440</td>\n",
       "            <td>7</td>\n",
       "        </tr>\n",
       "        <tr>\n",
       "            <td>CS020414000081</td>\n",
       "            <td>5280</td>\n",
       "            <td>9</td>\n",
       "        </tr>\n",
       "        <tr>\n",
       "            <td>CS001412000160</td>\n",
       "            <td>5280</td>\n",
       "            <td>9</td>\n",
       "        </tr>\n",
       "    </tbody>\n",
       "</table>"
      ],
      "text/plain": [
       "[('CS011415000006', 10925, 1),\n",
       " ('ZZ000000000000', 6800, 2),\n",
       " ('CS028605000002', 5780, 3),\n",
       " ('ZZ000000000000', 5480, 4),\n",
       " ('CS015515000034', 5480, 4),\n",
       " ('ZZ000000000000', 5480, 4),\n",
       " ('ZZ000000000000', 5440, 7),\n",
       " ('CS021515000089', 5440, 7),\n",
       " ('CS020414000081', 5280, 9),\n",
       " ('CS001412000160', 5280, 9)]"
      ]
     },
     "execution_count": 37,
     "metadata": {},
     "output_type": "execute_result"
    }
   ],
   "source": [
    "%%sql\n",
    "SELECT customer_id, amount, RANK() OVER (\n",
    "    ORDER BY amount DESC\n",
    ") AS amount_rank\n",
    "FROM receipt\n",
    "ORDER BY amount DESC\n",
    "LIMIT 10;"
   ]
  },
  {
   "cell_type": "markdown",
   "metadata": {},
   "source": [
    "---\n",
    "> S-020: レシート明細データ（receipt）に対し、1件あたりの売上金額（amount）が高い順にランクを付与し、先頭から10件表示せよ。項目は顧客ID（customer_id）、売上金額（amount）、付与したランクを表示させること。なお、売上金額（amount）が等しい場合でも別順位を付与すること。"
   ]
  },
  {
   "cell_type": "code",
   "execution_count": 38,
   "metadata": {},
   "outputs": [
    {
     "name": "stdout",
     "output_type": "stream",
     "text": [
      "*  postgresql://padawan:***@db:5432/dsdojo_db\n",
      "10 rows affected.\n"
     ]
    },
    {
     "data": {
      "text/html": [
       "<table>\n",
       "    <thead>\n",
       "        <tr>\n",
       "            <th>customer_id</th>\n",
       "            <th>amount</th>\n",
       "            <th>amount_rank</th>\n",
       "        </tr>\n",
       "    </thead>\n",
       "    <tbody>\n",
       "        <tr>\n",
       "            <td>CS011415000006</td>\n",
       "            <td>10925</td>\n",
       "            <td>1</td>\n",
       "        </tr>\n",
       "        <tr>\n",
       "            <td>ZZ000000000000</td>\n",
       "            <td>6800</td>\n",
       "            <td>2</td>\n",
       "        </tr>\n",
       "        <tr>\n",
       "            <td>CS028605000002</td>\n",
       "            <td>5780</td>\n",
       "            <td>3</td>\n",
       "        </tr>\n",
       "        <tr>\n",
       "            <td>ZZ000000000000</td>\n",
       "            <td>5480</td>\n",
       "            <td>4</td>\n",
       "        </tr>\n",
       "        <tr>\n",
       "            <td>ZZ000000000000</td>\n",
       "            <td>5480</td>\n",
       "            <td>5</td>\n",
       "        </tr>\n",
       "        <tr>\n",
       "            <td>CS015515000034</td>\n",
       "            <td>5480</td>\n",
       "            <td>6</td>\n",
       "        </tr>\n",
       "        <tr>\n",
       "            <td>CS021515000089</td>\n",
       "            <td>5440</td>\n",
       "            <td>7</td>\n",
       "        </tr>\n",
       "        <tr>\n",
       "            <td>ZZ000000000000</td>\n",
       "            <td>5440</td>\n",
       "            <td>8</td>\n",
       "        </tr>\n",
       "        <tr>\n",
       "            <td>CS027415000133</td>\n",
       "            <td>5280</td>\n",
       "            <td>9</td>\n",
       "        </tr>\n",
       "        <tr>\n",
       "            <td>CS040415000200</td>\n",
       "            <td>5280</td>\n",
       "            <td>10</td>\n",
       "        </tr>\n",
       "    </tbody>\n",
       "</table>"
      ],
      "text/plain": [
       "[('CS011415000006', 10925, 1),\n",
       " ('ZZ000000000000', 6800, 2),\n",
       " ('CS028605000002', 5780, 3),\n",
       " ('ZZ000000000000', 5480, 4),\n",
       " ('ZZ000000000000', 5480, 5),\n",
       " ('CS015515000034', 5480, 6),\n",
       " ('CS021515000089', 5440, 7),\n",
       " ('ZZ000000000000', 5440, 8),\n",
       " ('CS027415000133', 5280, 9),\n",
       " ('CS040415000200', 5280, 10)]"
      ]
     },
     "execution_count": 38,
     "metadata": {},
     "output_type": "execute_result"
    }
   ],
   "source": [
    "%%sql\n",
    "SELECT customer_id, amount, ROW_NUMBER() OVER (\n",
    "    ORDER BY amount DESC\n",
    ") AS amount_rank\n",
    "FROM receipt\n",
    "ORDER BY amount DESC\n",
    "LIMIT 10;"
   ]
  },
  {
   "cell_type": "markdown",
   "metadata": {},
   "source": [
    "---\n",
    "> S-021: レシート明細データ（receipt）に対し、件数をカウントせよ。"
   ]
  },
  {
   "cell_type": "code",
   "execution_count": 39,
   "metadata": {},
   "outputs": [
    {
     "name": "stdout",
     "output_type": "stream",
     "text": [
      "*  postgresql://padawan:***@db:5432/dsdojo_db\n",
      "1 rows affected.\n"
     ]
    },
    {
     "data": {
      "text/html": [
       "<table>\n",
       "    <thead>\n",
       "        <tr>\n",
       "            <th>count</th>\n",
       "        </tr>\n",
       "    </thead>\n",
       "    <tbody>\n",
       "        <tr>\n",
       "            <td>104681</td>\n",
       "        </tr>\n",
       "    </tbody>\n",
       "</table>"
      ],
      "text/plain": [
       "[(104681,)]"
      ]
     },
     "execution_count": 39,
     "metadata": {},
     "output_type": "execute_result"
    }
   ],
   "source": [
    "%%sql\n",
    "SELECT count(*)\n",
    "FROM receipt;"
   ]
  },
  {
   "cell_type": "markdown",
   "metadata": {},
   "source": [
    "---\n",
    "> S-022: レシート明細データ（receipt）の顧客ID（customer_id）に対し、ユニーク件数をカウントせよ。"
   ]
  },
  {
   "cell_type": "code",
   "execution_count": 46,
   "metadata": {},
   "outputs": [
    {
     "name": "stdout",
     "output_type": "stream",
     "text": [
      "*  postgresql://padawan:***@db:5432/dsdojo_db\n",
      "1 rows affected.\n"
     ]
    },
    {
     "data": {
      "text/html": [
       "<table>\n",
       "    <thead>\n",
       "        <tr>\n",
       "            <th>count</th>\n",
       "        </tr>\n",
       "    </thead>\n",
       "    <tbody>\n",
       "        <tr>\n",
       "            <td>8307</td>\n",
       "        </tr>\n",
       "    </tbody>\n",
       "</table>"
      ],
      "text/plain": [
       "[(8307,)]"
      ]
     },
     "execution_count": 46,
     "metadata": {},
     "output_type": "execute_result"
    }
   ],
   "source": [
    "%%sql\n",
    "SELECT count(DISTINCT customer_id)\n",
    "FROM receipt;"
   ]
  },
  {
   "cell_type": "markdown",
   "metadata": {},
   "source": [
    "---\n",
    "> S-023: レシート明細データ（receipt）に対し、店舗コード（store_cd）ごとに売上金額（amount）と売上数量（quantity）を合計せよ。"
   ]
  },
  {
   "cell_type": "code",
   "execution_count": 48,
   "metadata": {},
   "outputs": [
    {
     "name": "stdout",
     "output_type": "stream",
     "text": [
      "*  postgresql://padawan:***@db:5432/dsdojo_db\n",
      "52 rows affected.\n"
     ]
    },
    {
     "data": {
      "text/html": [
       "<table>\n",
       "    <thead>\n",
       "        <tr>\n",
       "            <th>sum</th>\n",
       "            <th>sum_1</th>\n",
       "        </tr>\n",
       "    </thead>\n",
       "    <tbody>\n",
       "        <tr>\n",
       "            <td>638761</td>\n",
       "            <td>2099</td>\n",
       "        </tr>\n",
       "        <tr>\n",
       "            <td>748221</td>\n",
       "            <td>2376</td>\n",
       "        </tr>\n",
       "        <tr>\n",
       "            <td>587895</td>\n",
       "            <td>1881</td>\n",
       "        </tr>\n",
       "        <tr>\n",
       "            <td>100314</td>\n",
       "            <td>250</td>\n",
       "        </tr>\n",
       "        <tr>\n",
       "            <td>793773</td>\n",
       "            <td>2432</td>\n",
       "        </tr>\n",
       "        <tr>\n",
       "            <td>714550</td>\n",
       "            <td>2303</td>\n",
       "        </tr>\n",
       "        <tr>\n",
       "            <td>808870</td>\n",
       "            <td>2486</td>\n",
       "        </tr>\n",
       "        <tr>\n",
       "            <td>651328</td>\n",
       "            <td>2047</td>\n",
       "        </tr>\n",
       "        <tr>\n",
       "            <td>827833</td>\n",
       "            <td>2541</td>\n",
       "        </tr>\n",
       "        <tr>\n",
       "            <td>611888</td>\n",
       "            <td>1981</td>\n",
       "        </tr>\n",
       "        <tr>\n",
       "            <td>412646</td>\n",
       "            <td>1354</td>\n",
       "        </tr>\n",
       "        <tr>\n",
       "            <td>764294</td>\n",
       "            <td>2197</td>\n",
       "        </tr>\n",
       "        <tr>\n",
       "            <td>786145</td>\n",
       "            <td>2458</td>\n",
       "        </tr>\n",
       "        <tr>\n",
       "            <td>458484</td>\n",
       "            <td>1398</td>\n",
       "        </tr>\n",
       "        <tr>\n",
       "            <td>727821</td>\n",
       "            <td>2340</td>\n",
       "        </tr>\n",
       "        <tr>\n",
       "            <td>534689</td>\n",
       "            <td>1935</td>\n",
       "        </tr>\n",
       "        <tr>\n",
       "            <td>779373</td>\n",
       "            <td>2390</td>\n",
       "        </tr>\n",
       "        <tr>\n",
       "            <td>708884</td>\n",
       "            <td>2337</td>\n",
       "        </tr>\n",
       "        <tr>\n",
       "            <td>725167</td>\n",
       "            <td>2358</td>\n",
       "        </tr>\n",
       "        <tr>\n",
       "            <td>699511</td>\n",
       "            <td>2231</td>\n",
       "        </tr>\n",
       "        <tr>\n",
       "            <td>712839</td>\n",
       "            <td>2284</td>\n",
       "        </tr>\n",
       "        <tr>\n",
       "            <td>811936</td>\n",
       "            <td>2347</td>\n",
       "        </tr>\n",
       "        <tr>\n",
       "            <td>727630</td>\n",
       "            <td>2258</td>\n",
       "        </tr>\n",
       "        <tr>\n",
       "            <td>755581</td>\n",
       "            <td>2394</td>\n",
       "        </tr>\n",
       "        <tr>\n",
       "            <td>715869</td>\n",
       "            <td>2219</td>\n",
       "        </tr>\n",
       "        <tr>\n",
       "            <td>234276</td>\n",
       "            <td>769</td>\n",
       "        </tr>\n",
       "        <tr>\n",
       "            <td>720600</td>\n",
       "            <td>2412</td>\n",
       "        </tr>\n",
       "        <tr>\n",
       "            <td>736323</td>\n",
       "            <td>2417</td>\n",
       "        </tr>\n",
       "        <tr>\n",
       "            <td>728266</td>\n",
       "            <td>2233</td>\n",
       "        </tr>\n",
       "        <tr>\n",
       "            <td>824537</td>\n",
       "            <td>2503</td>\n",
       "        </tr>\n",
       "        <tr>\n",
       "            <td>790361</td>\n",
       "            <td>2290</td>\n",
       "        </tr>\n",
       "        <tr>\n",
       "            <td>780873</td>\n",
       "            <td>2248</td>\n",
       "        </tr>\n",
       "        <tr>\n",
       "            <td>809288</td>\n",
       "            <td>2491</td>\n",
       "        </tr>\n",
       "        <tr>\n",
       "            <td>230808</td>\n",
       "            <td>788</td>\n",
       "        </tr>\n",
       "        <tr>\n",
       "            <td>167090</td>\n",
       "            <td>580</td>\n",
       "        </tr>\n",
       "        <tr>\n",
       "            <td>705968</td>\n",
       "            <td>2336</td>\n",
       "        </tr>\n",
       "        <tr>\n",
       "            <td>787513</td>\n",
       "            <td>2425</td>\n",
       "        </tr>\n",
       "        <tr>\n",
       "            <td>520764</td>\n",
       "            <td>1729</td>\n",
       "        </tr>\n",
       "        <tr>\n",
       "            <td>725318</td>\n",
       "            <td>2282</td>\n",
       "        </tr>\n",
       "        <tr>\n",
       "            <td>794741</td>\n",
       "            <td>2555</td>\n",
       "        </tr>\n",
       "        <tr>\n",
       "            <td>693087</td>\n",
       "            <td>2344</td>\n",
       "        </tr>\n",
       "        <tr>\n",
       "            <td>684402</td>\n",
       "            <td>2403</td>\n",
       "        </tr>\n",
       "        <tr>\n",
       "            <td>790501</td>\n",
       "            <td>2491</td>\n",
       "        </tr>\n",
       "        <tr>\n",
       "            <td>653681</td>\n",
       "            <td>2024</td>\n",
       "        </tr>\n",
       "        <tr>\n",
       "            <td>701858</td>\n",
       "            <td>2233</td>\n",
       "        </tr>\n",
       "        <tr>\n",
       "            <td>629876</td>\n",
       "            <td>2004</td>\n",
       "        </tr>\n",
       "        <tr>\n",
       "            <td>338329</td>\n",
       "            <td>1041</td>\n",
       "        </tr>\n",
       "        <tr>\n",
       "            <td>805724</td>\n",
       "            <td>2434</td>\n",
       "        </tr>\n",
       "        <tr>\n",
       "            <td>790535</td>\n",
       "            <td>2562</td>\n",
       "        </tr>\n",
       "        <tr>\n",
       "            <td>796383</td>\n",
       "            <td>2383</td>\n",
       "        </tr>\n",
       "        <tr>\n",
       "            <td>107452</td>\n",
       "            <td>354</td>\n",
       "        </tr>\n",
       "        <tr>\n",
       "            <td>203694</td>\n",
       "            <td>635</td>\n",
       "        </tr>\n",
       "    </tbody>\n",
       "</table>"
      ],
      "text/plain": [
       "[(638761, 2099),\n",
       " (748221, 2376),\n",
       " (587895, 1881),\n",
       " (100314, 250),\n",
       " (793773, 2432),\n",
       " (714550, 2303),\n",
       " (808870, 2486),\n",
       " (651328, 2047),\n",
       " (827833, 2541),\n",
       " (611888, 1981),\n",
       " (412646, 1354),\n",
       " (764294, 2197),\n",
       " (786145, 2458),\n",
       " (458484, 1398),\n",
       " (727821, 2340),\n",
       " (534689, 1935),\n",
       " (779373, 2390),\n",
       " (708884, 2337),\n",
       " (725167, 2358),\n",
       " (699511, 2231),\n",
       " (712839, 2284),\n",
       " (811936, 2347),\n",
       " (727630, 2258),\n",
       " (755581, 2394),\n",
       " (715869, 2219),\n",
       " (234276, 769),\n",
       " (720600, 2412),\n",
       " (736323, 2417),\n",
       " (728266, 2233),\n",
       " (824537, 2503),\n",
       " (790361, 2290),\n",
       " (780873, 2248),\n",
       " (809288, 2491),\n",
       " (230808, 788),\n",
       " (167090, 580),\n",
       " (705968, 2336),\n",
       " (787513, 2425),\n",
       " (520764, 1729),\n",
       " (725318, 2282),\n",
       " (794741, 2555),\n",
       " (693087, 2344),\n",
       " (684402, 2403),\n",
       " (790501, 2491),\n",
       " (653681, 2024),\n",
       " (701858, 2233),\n",
       " (629876, 2004),\n",
       " (338329, 1041),\n",
       " (805724, 2434),\n",
       " (790535, 2562),\n",
       " (796383, 2383),\n",
       " (107452, 354),\n",
       " (203694, 635)]"
      ]
     },
     "execution_count": 48,
     "metadata": {},
     "output_type": "execute_result"
    }
   ],
   "source": [
    "%%sql\n",
    "SELECT SUM(amount), SUM(quantity)\n",
    "FROM receipt\n",
    "GROUP BY store_cd;"
   ]
  },
  {
   "cell_type": "markdown",
   "metadata": {},
   "source": [
    "---\n",
    "> S-024: レシート明細データ（receipt）に対し、顧客ID（customer_id）ごとに最も新しい売上年月日（sales_ymd）を求め、10件表示せよ。"
   ]
  },
  {
   "cell_type": "code",
   "execution_count": 50,
   "metadata": {},
   "outputs": [
    {
     "name": "stdout",
     "output_type": "stream",
     "text": [
      "*  postgresql://padawan:***@db:5432/dsdojo_db\n",
      "10 rows affected.\n"
     ]
    },
    {
     "data": {
      "text/html": [
       "<table>\n",
       "    <thead>\n",
       "        <tr>\n",
       "            <th>max</th>\n",
       "        </tr>\n",
       "    </thead>\n",
       "    <tbody>\n",
       "        <tr>\n",
       "            <td>20180211</td>\n",
       "        </tr>\n",
       "        <tr>\n",
       "            <td>20181228</td>\n",
       "        </tr>\n",
       "        <tr>\n",
       "            <td>20180106</td>\n",
       "        </tr>\n",
       "        <tr>\n",
       "            <td>20190503</td>\n",
       "        </tr>\n",
       "        <tr>\n",
       "            <td>20180621</td>\n",
       "        </tr>\n",
       "        <tr>\n",
       "            <td>20190511</td>\n",
       "        </tr>\n",
       "        <tr>\n",
       "            <td>20190708</td>\n",
       "        </tr>\n",
       "        <tr>\n",
       "            <td>20170517</td>\n",
       "        </tr>\n",
       "        <tr>\n",
       "            <td>20190720</td>\n",
       "        </tr>\n",
       "        <tr>\n",
       "            <td>20170729</td>\n",
       "        </tr>\n",
       "    </tbody>\n",
       "</table>"
      ],
      "text/plain": [
       "[(20180211,),\n",
       " (20181228,),\n",
       " (20180106,),\n",
       " (20190503,),\n",
       " (20180621,),\n",
       " (20190511,),\n",
       " (20190708,),\n",
       " (20170517,),\n",
       " (20190720,),\n",
       " (20170729,)]"
      ]
     },
     "execution_count": 50,
     "metadata": {},
     "output_type": "execute_result"
    }
   ],
   "source": [
    "%%sql\n",
    "SELECT MAX(sales_ymd)\n",
    "FROM receipt\n",
    "GROUP BY customer_id\n",
    "LIMIT 10;"
   ]
  },
  {
   "cell_type": "markdown",
   "metadata": {},
   "source": [
    "---\n",
    "> S-025: レシート明細データ（receipt）に対し、顧客ID（customer_id）ごとに最も古い売上年月日（sales_ymd）を求め、10件表示せよ。"
   ]
  },
  {
   "cell_type": "code",
   "execution_count": 51,
   "metadata": {},
   "outputs": [
    {
     "name": "stdout",
     "output_type": "stream",
     "text": [
      "*  postgresql://padawan:***@db:5432/dsdojo_db\n",
      "10 rows affected.\n"
     ]
    },
    {
     "data": {
      "text/html": [
       "<table>\n",
       "    <thead>\n",
       "        <tr>\n",
       "            <th>min</th>\n",
       "        </tr>\n",
       "    </thead>\n",
       "    <tbody>\n",
       "        <tr>\n",
       "            <td>20180211</td>\n",
       "        </tr>\n",
       "        <tr>\n",
       "            <td>20181228</td>\n",
       "        </tr>\n",
       "        <tr>\n",
       "            <td>20180106</td>\n",
       "        </tr>\n",
       "        <tr>\n",
       "            <td>20190503</td>\n",
       "        </tr>\n",
       "        <tr>\n",
       "            <td>20170318</td>\n",
       "        </tr>\n",
       "        <tr>\n",
       "            <td>20170201</td>\n",
       "        </tr>\n",
       "        <tr>\n",
       "            <td>20170527</td>\n",
       "        </tr>\n",
       "        <tr>\n",
       "            <td>20170517</td>\n",
       "        </tr>\n",
       "        <tr>\n",
       "            <td>20170718</td>\n",
       "        </tr>\n",
       "        <tr>\n",
       "            <td>20170729</td>\n",
       "        </tr>\n",
       "    </tbody>\n",
       "</table>"
      ],
      "text/plain": [
       "[(20180211,),\n",
       " (20181228,),\n",
       " (20180106,),\n",
       " (20190503,),\n",
       " (20170318,),\n",
       " (20170201,),\n",
       " (20170527,),\n",
       " (20170517,),\n",
       " (20170718,),\n",
       " (20170729,)]"
      ]
     },
     "execution_count": 51,
     "metadata": {},
     "output_type": "execute_result"
    }
   ],
   "source": [
    "%%sql\n",
    "SELECT MIN(sales_ymd)\n",
    "FROM receipt\n",
    "GROUP BY customer_id\n",
    "LIMIT 10;"
   ]
  },
  {
   "cell_type": "markdown",
   "metadata": {},
   "source": [
    "---\n",
    "> S-026: レシート明細データ（receipt）に対し、顧客ID（customer_id）ごとに最も新しい売上年月日（sales_ymd）と古い売上年月日を求め、両者が異なるデータを10件表示せよ。"
   ]
  },
  {
   "cell_type": "code",
   "execution_count": 58,
   "metadata": {},
   "outputs": [
    {
     "name": "stdout",
     "output_type": "stream",
     "text": [
      "*  postgresql://padawan:***@db:5432/dsdojo_db\n",
      "10 rows affected.\n"
     ]
    },
    {
     "data": {
      "text/html": [
       "<table>\n",
       "    <thead>\n",
       "        <tr>\n",
       "            <th>customer_id</th>\n",
       "            <th>max_sales_ymd</th>\n",
       "            <th>min_sales_ymd</th>\n",
       "        </tr>\n",
       "    </thead>\n",
       "    <tbody>\n",
       "        <tr>\n",
       "            <td>CS029212000033</td>\n",
       "            <td>20180621</td>\n",
       "            <td>20170318</td>\n",
       "        </tr>\n",
       "        <tr>\n",
       "            <td>CS007515000119</td>\n",
       "            <td>20190511</td>\n",
       "            <td>20170201</td>\n",
       "        </tr>\n",
       "        <tr>\n",
       "            <td>CS034515000123</td>\n",
       "            <td>20190708</td>\n",
       "            <td>20170527</td>\n",
       "        </tr>\n",
       "        <tr>\n",
       "            <td>CS026414000014</td>\n",
       "            <td>20190720</td>\n",
       "            <td>20170718</td>\n",
       "        </tr>\n",
       "        <tr>\n",
       "            <td>CS010515000082</td>\n",
       "            <td>20181204</td>\n",
       "            <td>20180518</td>\n",
       "        </tr>\n",
       "        <tr>\n",
       "            <td>CS019315000045</td>\n",
       "            <td>20170920</td>\n",
       "            <td>20170423</td>\n",
       "        </tr>\n",
       "        <tr>\n",
       "            <td>CS008513000099</td>\n",
       "            <td>20190308</td>\n",
       "            <td>20170722</td>\n",
       "        </tr>\n",
       "        <tr>\n",
       "            <td>CS007615000070</td>\n",
       "            <td>20191025</td>\n",
       "            <td>20170929</td>\n",
       "        </tr>\n",
       "        <tr>\n",
       "            <td>CS025415000155</td>\n",
       "            <td>20191026</td>\n",
       "            <td>20170314</td>\n",
       "        </tr>\n",
       "        <tr>\n",
       "            <td>CS016414000063</td>\n",
       "            <td>20190617</td>\n",
       "            <td>20170109</td>\n",
       "        </tr>\n",
       "    </tbody>\n",
       "</table>"
      ],
      "text/plain": [
       "[('CS029212000033', 20180621, 20170318),\n",
       " ('CS007515000119', 20190511, 20170201),\n",
       " ('CS034515000123', 20190708, 20170527),\n",
       " ('CS026414000014', 20190720, 20170718),\n",
       " ('CS010515000082', 20181204, 20180518),\n",
       " ('CS019315000045', 20170920, 20170423),\n",
       " ('CS008513000099', 20190308, 20170722),\n",
       " ('CS007615000070', 20191025, 20170929),\n",
       " ('CS025415000155', 20191026, 20170314),\n",
       " ('CS016414000063', 20190617, 20170109)]"
      ]
     },
     "execution_count": 58,
     "metadata": {},
     "output_type": "execute_result"
    }
   ],
   "source": [
    "%%sql\n",
    "WITH max_min AS (\n",
    "    SELECT customer_id, MAX(sales_ymd) AS max_sales_ymd, MIN(sales_ymd) AS min_sales_ymd\n",
    "    FROM receipt\n",
    "    GROUP BY customer_id\n",
    ")\n",
    "SELECT max_min.*\n",
    "FROM max_min\n",
    "WHERE max_sales_ymd != min_sales_ymd\n",
    "LIMIT 10;"
   ]
  },
  {
   "cell_type": "markdown",
   "metadata": {},
   "source": [
    "---\n",
    "> S-027: レシート明細データ（receipt）に対し、店舗コード（store_cd）ごとに売上金額（amount）の平均を計算し、降順でTOP5を表示せよ。"
   ]
  },
  {
   "cell_type": "code",
   "execution_count": 59,
   "metadata": {},
   "outputs": [
    {
     "name": "stdout",
     "output_type": "stream",
     "text": [
      "*  postgresql://padawan:***@db:5432/dsdojo_db\n",
      "5 rows affected.\n"
     ]
    },
    {
     "data": {
      "text/html": [
       "<table>\n",
       "    <thead>\n",
       "        <tr>\n",
       "            <th>store_cd</th>\n",
       "            <th>amount_avg</th>\n",
       "        </tr>\n",
       "    </thead>\n",
       "    <tbody>\n",
       "        <tr>\n",
       "            <td>S13052</td>\n",
       "            <td>402.8674698795180723</td>\n",
       "        </tr>\n",
       "        <tr>\n",
       "            <td>S13015</td>\n",
       "            <td>351.1119604316546763</td>\n",
       "        </tr>\n",
       "        <tr>\n",
       "            <td>S13003</td>\n",
       "            <td>350.9155188246097337</td>\n",
       "        </tr>\n",
       "        <tr>\n",
       "            <td>S14010</td>\n",
       "            <td>348.7912621359223301</td>\n",
       "        </tr>\n",
       "        <tr>\n",
       "            <td>S13001</td>\n",
       "            <td>348.4703862660944206</td>\n",
       "        </tr>\n",
       "    </tbody>\n",
       "</table>"
      ],
      "text/plain": [
       "[('S13052', Decimal('402.8674698795180723')),\n",
       " ('S13015', Decimal('351.1119604316546763')),\n",
       " ('S13003', Decimal('350.9155188246097337')),\n",
       " ('S14010', Decimal('348.7912621359223301')),\n",
       " ('S13001', Decimal('348.4703862660944206'))]"
      ]
     },
     "execution_count": 59,
     "metadata": {},
     "output_type": "execute_result"
    }
   ],
   "source": [
    "%%sql\n",
    "SELECT store_cd, avg(amount) AS amount_avg\n",
    "FROM receipt\n",
    "GROUP BY store_cd\n",
    "ORDER BY amount_avg DESC\n",
    "LIMIT 5;"
   ]
  },
  {
   "cell_type": "markdown",
   "metadata": {},
   "source": [
    "---\n",
    "> S-028: レシート明細データ（receipt）に対し、店舗コード（store_cd）ごとに売上金額（amount）の中央値を計算し、降順でTOP5を表示せよ。"
   ]
  },
  {
   "cell_type": "code",
   "execution_count": 64,
   "metadata": {},
   "outputs": [
    {
     "name": "stdout",
     "output_type": "stream",
     "text": [
      "*  postgresql://padawan:***@db:5432/dsdojo_db\n",
      "5 rows affected.\n"
     ]
    },
    {
     "data": {
      "text/html": [
       "<table>\n",
       "    <thead>\n",
       "        <tr>\n",
       "            <th>store_cd</th>\n",
       "            <th>median</th>\n",
       "        </tr>\n",
       "    </thead>\n",
       "    <tbody>\n",
       "        <tr>\n",
       "            <td>S13052</td>\n",
       "            <td>190.0</td>\n",
       "        </tr>\n",
       "        <tr>\n",
       "            <td>S14010</td>\n",
       "            <td>188.0</td>\n",
       "        </tr>\n",
       "        <tr>\n",
       "            <td>S14050</td>\n",
       "            <td>185.0</td>\n",
       "        </tr>\n",
       "        <tr>\n",
       "            <td>S13003</td>\n",
       "            <td>180.0</td>\n",
       "        </tr>\n",
       "        <tr>\n",
       "            <td>S13018</td>\n",
       "            <td>180.0</td>\n",
       "        </tr>\n",
       "    </tbody>\n",
       "</table>"
      ],
      "text/plain": [
       "[('S13052', 190.0),\n",
       " ('S14010', 188.0),\n",
       " ('S14050', 185.0),\n",
       " ('S13003', 180.0),\n",
       " ('S13018', 180.0)]"
      ]
     },
     "execution_count": 64,
     "metadata": {},
     "output_type": "execute_result"
    }
   ],
   "source": [
    "%%sql\n",
    "SELECT store_cd, PERCENTILE_CONT(0.5) WITHIN GROUP (ORDER BY amount) AS median\n",
    "FROM receipt\n",
    "GROUP BY store_cd\n",
    "ORDER BY median DESC\n",
    "LIMIT 5;"
   ]
  },
  {
   "cell_type": "markdown",
   "metadata": {},
   "source": [
    "---\n",
    "> S-029: レシート明細データ（receipt）に対し、店舗コード（store_cd）ごとに商品コード（product_cd）の最頻値を求め、10件表示させよ。"
   ]
  },
  {
   "cell_type": "code",
   "execution_count": 70,
   "metadata": {},
   "outputs": [
    {
     "name": "stdout",
     "output_type": "stream",
     "text": [
      "*  postgresql://padawan:***@db:5432/dsdojo_db\n",
      "10 rows affected.\n"
     ]
    },
    {
     "data": {
      "text/html": [
       "<table>\n",
       "    <thead>\n",
       "        <tr>\n",
       "            <th>store_cd</th>\n",
       "            <th>freq</th>\n",
       "        </tr>\n",
       "    </thead>\n",
       "    <tbody>\n",
       "        <tr>\n",
       "            <td>S13018</td>\n",
       "            <td>1257</td>\n",
       "        </tr>\n",
       "        <tr>\n",
       "            <td>S14026</td>\n",
       "            <td>1248</td>\n",
       "        </tr>\n",
       "        <tr>\n",
       "            <td>S14012</td>\n",
       "            <td>1237</td>\n",
       "        </tr>\n",
       "        <tr>\n",
       "            <td>S13032</td>\n",
       "            <td>1234</td>\n",
       "        </tr>\n",
       "        <tr>\n",
       "            <td>S13008</td>\n",
       "            <td>1230</td>\n",
       "        </tr>\n",
       "        <tr>\n",
       "            <td>S12029</td>\n",
       "            <td>1226</td>\n",
       "        </tr>\n",
       "        <tr>\n",
       "            <td>S13017</td>\n",
       "            <td>1220</td>\n",
       "        </tr>\n",
       "        <tr>\n",
       "            <td>S13016</td>\n",
       "            <td>1215</td>\n",
       "        </tr>\n",
       "        <tr>\n",
       "            <td>S14028</td>\n",
       "            <td>1214</td>\n",
       "        </tr>\n",
       "        <tr>\n",
       "            <td>S13009</td>\n",
       "            <td>1206</td>\n",
       "        </tr>\n",
       "    </tbody>\n",
       "</table>"
      ],
      "text/plain": [
       "[('S13018', 1257),\n",
       " ('S14026', 1248),\n",
       " ('S14012', 1237),\n",
       " ('S13032', 1234),\n",
       " ('S13008', 1230),\n",
       " ('S12029', 1226),\n",
       " ('S13017', 1220),\n",
       " ('S13016', 1215),\n",
       " ('S14028', 1214),\n",
       " ('S13009', 1206)]"
      ]
     },
     "execution_count": 70,
     "metadata": {},
     "output_type": "execute_result"
    }
   ],
   "source": [
    "%%sql\n",
    "SELECT store_cd, count(distinct product_cd) AS freq\n",
    "FROM receipt\n",
    "GROUP BY store_cd\n",
    "LIMIT 10;"
   ]
  },
  {
   "cell_type": "markdown",
   "metadata": {},
   "source": [
    "---\n",
    "> S-030: レシート明細データ（receipt）に対し、店舗コード（store_cd）ごとに売上金額（amount）の分散を計算し、降順で5件表示せよ。"
   ]
  },
  {
   "cell_type": "code",
   "execution_count": 73,
   "metadata": {},
   "outputs": [
    {
     "name": "stdout",
     "output_type": "stream",
     "text": [
      "*  postgresql://padawan:***@db:5432/dsdojo_db\n",
      "5 rows affected.\n"
     ]
    },
    {
     "data": {
      "text/html": [
       "<table>\n",
       "    <thead>\n",
       "        <tr>\n",
       "            <th>store_cd</th>\n",
       "            <th>variance</th>\n",
       "        </tr>\n",
       "    </thead>\n",
       "    <tbody>\n",
       "        <tr>\n",
       "            <td>S13052</td>\n",
       "            <td>441863.252526233968</td>\n",
       "        </tr>\n",
       "        <tr>\n",
       "            <td>S14011</td>\n",
       "            <td>306442.242431568709</td>\n",
       "        </tr>\n",
       "        <tr>\n",
       "            <td>S14034</td>\n",
       "            <td>297068.392740060738</td>\n",
       "        </tr>\n",
       "        <tr>\n",
       "            <td>S13001</td>\n",
       "            <td>295558.842617712478</td>\n",
       "        </tr>\n",
       "        <tr>\n",
       "            <td>S13015</td>\n",
       "            <td>295427.197085853584</td>\n",
       "        </tr>\n",
       "    </tbody>\n",
       "</table>"
      ],
      "text/plain": [
       "[('S13052', Decimal('441863.252526233968')),\n",
       " ('S14011', Decimal('306442.242431568709')),\n",
       " ('S14034', Decimal('297068.392740060738')),\n",
       " ('S13001', Decimal('295558.842617712478')),\n",
       " ('S13015', Decimal('295427.197085853584'))]"
      ]
     },
     "execution_count": 73,
     "metadata": {},
     "output_type": "execute_result"
    }
   ],
   "source": [
    "%%sql\n",
    "SELECT store_cd, VARIANCE(amount) as variance\n",
    "FROM receipt\n",
    "GROUP BY store_cd\n",
    "ORDER BY variance DESC\n",
    "LIMIT 5;"
   ]
  },
  {
   "cell_type": "markdown",
   "metadata": {},
   "source": [
    "---\n",
    "> S-031: レシート明細データ（receipt）に対し、店舗コード（store_cd）ごとに売上金額（amount）の標準偏差を計算し、降順で5件表示せよ。"
   ]
  },
  {
   "cell_type": "code",
   "execution_count": 75,
   "metadata": {},
   "outputs": [
    {
     "name": "stdout",
     "output_type": "stream",
     "text": [
      "*  postgresql://padawan:***@db:5432/dsdojo_db\n",
      "5 rows affected.\n"
     ]
    },
    {
     "data": {
      "text/html": [
       "<table>\n",
       "    <thead>\n",
       "        <tr>\n",
       "            <th>store_cd</th>\n",
       "            <th>variance</th>\n",
       "        </tr>\n",
       "    </thead>\n",
       "    <tbody>\n",
       "        <tr>\n",
       "            <td>S13052</td>\n",
       "            <td>664.727953772244</td>\n",
       "        </tr>\n",
       "        <tr>\n",
       "            <td>S14011</td>\n",
       "            <td>553.572255836190</td>\n",
       "        </tr>\n",
       "        <tr>\n",
       "            <td>S14034</td>\n",
       "            <td>545.039808399406</td>\n",
       "        </tr>\n",
       "        <tr>\n",
       "            <td>S13001</td>\n",
       "            <td>543.653237475610</td>\n",
       "        </tr>\n",
       "        <tr>\n",
       "            <td>S13015</td>\n",
       "            <td>543.532149082144</td>\n",
       "        </tr>\n",
       "    </tbody>\n",
       "</table>"
      ],
      "text/plain": [
       "[('S13052', Decimal('664.727953772244')),\n",
       " ('S14011', Decimal('553.572255836190')),\n",
       " ('S14034', Decimal('545.039808399406')),\n",
       " ('S13001', Decimal('543.653237475610')),\n",
       " ('S13015', Decimal('543.532149082144'))]"
      ]
     },
     "execution_count": 75,
     "metadata": {},
     "output_type": "execute_result"
    }
   ],
   "source": [
    "%%sql\n",
    "SELECT store_cd, STDDEV(amount) as variance\n",
    "FROM receipt\n",
    "GROUP BY store_cd\n",
    "ORDER BY variance DESC\n",
    "LIMIT 5;"
   ]
  },
  {
   "cell_type": "markdown",
   "metadata": {},
   "source": [
    "---\n",
    "> S-032: レシート明細データ（receipt）の売上金額（amount）について、25％刻みでパーセンタイル値を求めよ。"
   ]
  },
  {
   "cell_type": "code",
   "execution_count": 79,
   "metadata": {},
   "outputs": [
    {
     "name": "stdout",
     "output_type": "stream",
     "text": [
      "*  postgresql://padawan:***@db:5432/dsdojo_db\n",
      "1 rows affected.\n"
     ]
    },
    {
     "data": {
      "text/html": [
       "<table>\n",
       "    <thead>\n",
       "        <tr>\n",
       "            <th>percentile_disc</th>\n",
       "        </tr>\n",
       "    </thead>\n",
       "    <tbody>\n",
       "        <tr>\n",
       "            <td>102</td>\n",
       "        </tr>\n",
       "    </tbody>\n",
       "</table>"
      ],
      "text/plain": [
       "[(102,)]"
      ]
     },
     "execution_count": 79,
     "metadata": {},
     "output_type": "execute_result"
    }
   ],
   "source": [
    "%%sql\n",
    "SELECT PERCENTILE_DISC(0.25) WITHIN GROUP (ORDER BY amount)\n",
    "FROM receipt"
   ]
  },
  {
   "cell_type": "markdown",
   "metadata": {},
   "source": [
    "---\n",
    "> S-033: レシート明細データ（receipt）に対し、店舗コード（store_cd）ごとに売上金額（amount）の平均を計算し、330以上のものを抽出せよ。"
   ]
  },
  {
   "cell_type": "code",
   "execution_count": 16,
   "metadata": {},
   "outputs": [
    {
     "name": "stdout",
     "output_type": "stream",
     "text": [
      "*  postgresql://padawan:***@db:5432/dsdojo_db\n",
      "13 rows affected.\n"
     ]
    },
    {
     "data": {
      "text/html": [
       "<table>\n",
       "    <thead>\n",
       "        <tr>\n",
       "            <th>store_cd</th>\n",
       "            <th>avg_amount</th>\n",
       "        </tr>\n",
       "    </thead>\n",
       "    <tbody>\n",
       "        <tr>\n",
       "            <td>S13052</td>\n",
       "            <td>402.8674698795180723</td>\n",
       "        </tr>\n",
       "        <tr>\n",
       "            <td>S13019</td>\n",
       "            <td>330.2086158755484643</td>\n",
       "        </tr>\n",
       "        <tr>\n",
       "            <td>S13003</td>\n",
       "            <td>350.9155188246097337</td>\n",
       "        </tr>\n",
       "        <tr>\n",
       "            <td>S14045</td>\n",
       "            <td>330.0820734341252700</td>\n",
       "        </tr>\n",
       "        <tr>\n",
       "            <td>S13004</td>\n",
       "            <td>330.9439490445859873</td>\n",
       "        </tr>\n",
       "        <tr>\n",
       "            <td>S13001</td>\n",
       "            <td>348.4703862660944206</td>\n",
       "        </tr>\n",
       "        <tr>\n",
       "            <td>S14026</td>\n",
       "            <td>332.3405884723901653</td>\n",
       "        </tr>\n",
       "        <tr>\n",
       "            <td>S14010</td>\n",
       "            <td>348.7912621359223301</td>\n",
       "        </tr>\n",
       "        <tr>\n",
       "            <td>S13015</td>\n",
       "            <td>351.1119604316546763</td>\n",
       "        </tr>\n",
       "        <tr>\n",
       "            <td>S12013</td>\n",
       "            <td>330.1941299790356394</td>\n",
       "        </tr>\n",
       "        <tr>\n",
       "            <td>S14047</td>\n",
       "            <td>330.0770731707317073</td>\n",
       "        </tr>\n",
       "        <tr>\n",
       "            <td>S14011</td>\n",
       "            <td>335.7183333333333333</td>\n",
       "        </tr>\n",
       "        <tr>\n",
       "            <td>S13020</td>\n",
       "            <td>337.8799321170980059</td>\n",
       "        </tr>\n",
       "    </tbody>\n",
       "</table>"
      ],
      "text/plain": [
       "[('S13052', Decimal('402.8674698795180723')),\n",
       " ('S13019', Decimal('330.2086158755484643')),\n",
       " ('S13003', Decimal('350.9155188246097337')),\n",
       " ('S14045', Decimal('330.0820734341252700')),\n",
       " ('S13004', Decimal('330.9439490445859873')),\n",
       " ('S13001', Decimal('348.4703862660944206')),\n",
       " ('S14026', Decimal('332.3405884723901653')),\n",
       " ('S14010', Decimal('348.7912621359223301')),\n",
       " ('S13015', Decimal('351.1119604316546763')),\n",
       " ('S12013', Decimal('330.1941299790356394')),\n",
       " ('S14047', Decimal('330.0770731707317073')),\n",
       " ('S14011', Decimal('335.7183333333333333')),\n",
       " ('S13020', Decimal('337.8799321170980059'))]"
      ]
     },
     "execution_count": 16,
     "metadata": {},
     "output_type": "execute_result"
    }
   ],
   "source": [
    "%%sql\n",
    "WITH averaged AS (\n",
    "    SELECT store_cd, AVG(amount) AS avg_amount\n",
    "    FROM receipt\n",
    "    GROUP BY store_cd\n",
    ")\n",
    "SELECT averaged.*\n",
    "FROM averaged\n",
    "WHERE averaged.avg_amount >= 330;"
   ]
  },
  {
   "cell_type": "markdown",
   "metadata": {},
   "source": [
    "---\n",
    "> S-034: レシート明細データ（receipt）に対し、顧客ID（customer_id）ごとに売上金額（amount）を合計して全顧客の平均を求めよ。ただし、顧客IDが\"Z\"から始まるものは非会員を表すため、除外して計算すること。"
   ]
  },
  {
   "cell_type": "code",
   "execution_count": 27,
   "metadata": {},
   "outputs": [
    {
     "name": "stdout",
     "output_type": "stream",
     "text": [
      "*  postgresql://padawan:***@db:5432/dsdojo_db\n",
      "1 rows affected.\n"
     ]
    },
    {
     "data": {
      "text/html": [
       "<table>\n",
       "    <thead>\n",
       "        <tr>\n",
       "            <th>avg</th>\n",
       "        </tr>\n",
       "    </thead>\n",
       "    <tbody>\n",
       "        <tr>\n",
       "            <td>322.4465408860097470</td>\n",
       "        </tr>\n",
       "    </tbody>\n",
       "</table>"
      ],
      "text/plain": [
       "[(Decimal('322.4465408860097470'),)]"
      ]
     },
     "execution_count": 27,
     "metadata": {},
     "output_type": "execute_result"
    }
   ],
   "source": [
    "%%sql\n",
    "WITH customer_avg AS (\n",
    "    SELECT customer_id, AVG(amount)\n",
    "    FROM receipt\n",
    "    WHERE customer_id NOT LIKE 'Z%'\n",
    "    GROUP BY customer_id\n",
    ")\n",
    "SELECT AVG(customer_avg.avg)\n",
    "FROM customer_avg"
   ]
  },
  {
   "cell_type": "markdown",
   "metadata": {},
   "source": [
    "---\n",
    "> S-035: レシート明細データ（receipt）に対し、顧客ID（customer_id）ごとに売上金額（amount）を合計して全顧客の平均を求め、平均以上に買いをしている顧客を抽出し、10件表示せよ。ただし、顧客IDが\"Z\"から始まるものは非会員を表すため、除外して計算すること。"
   ]
  },
  {
   "cell_type": "code",
   "execution_count": 45,
   "metadata": {},
   "outputs": [
    {
     "name": "stdout",
     "output_type": "stream",
     "text": [
      "*  postgresql://padawan:***@db:5432/dsdojo_db\n",
      "10 rows affected.\n"
     ]
    },
    {
     "data": {
      "text/html": [
       "<table>\n",
       "    <thead>\n",
       "        <tr>\n",
       "            <th>customer_id</th>\n",
       "            <th>avg</th>\n",
       "        </tr>\n",
       "    </thead>\n",
       "    <tbody>\n",
       "        <tr>\n",
       "            <td>CS001113000004</td>\n",
       "            <td>649.0000000000000000</td>\n",
       "        </tr>\n",
       "        <tr>\n",
       "            <td>CS001115000010</td>\n",
       "            <td>507.3333333333333333</td>\n",
       "        </tr>\n",
       "        <tr>\n",
       "            <td>CS001214000009</td>\n",
       "            <td>334.6428571428571429</td>\n",
       "        </tr>\n",
       "        <tr>\n",
       "            <td>CS001214000017</td>\n",
       "            <td>344.3333333333333333</td>\n",
       "        </tr>\n",
       "        <tr>\n",
       "            <td>CS001214000052</td>\n",
       "            <td>469.9166666666666667</td>\n",
       "        </tr>\n",
       "        <tr>\n",
       "            <td>CS001215000040</td>\n",
       "            <td>349.6000000000000000</td>\n",
       "        </tr>\n",
       "        <tr>\n",
       "            <td>CS001215000097</td>\n",
       "            <td>1144.0000000000000000</td>\n",
       "        </tr>\n",
       "        <tr>\n",
       "            <td>CS001215000145</td>\n",
       "            <td>437.5000000000000000</td>\n",
       "        </tr>\n",
       "        <tr>\n",
       "            <td>CS001215000158</td>\n",
       "            <td>337.2500000000000000</td>\n",
       "        </tr>\n",
       "        <tr>\n",
       "            <td>CS001304000004</td>\n",
       "            <td>624.0000000000000000</td>\n",
       "        </tr>\n",
       "    </tbody>\n",
       "</table>"
      ],
      "text/plain": [
       "[('CS001113000004', Decimal('649.0000000000000000')),\n",
       " ('CS001115000010', Decimal('507.3333333333333333')),\n",
       " ('CS001214000009', Decimal('334.6428571428571429')),\n",
       " ('CS001214000017', Decimal('344.3333333333333333')),\n",
       " ('CS001214000052', Decimal('469.9166666666666667')),\n",
       " ('CS001215000040', Decimal('349.6000000000000000')),\n",
       " ('CS001215000097', Decimal('1144.0000000000000000')),\n",
       " ('CS001215000145', Decimal('437.5000000000000000')),\n",
       " ('CS001215000158', Decimal('337.2500000000000000')),\n",
       " ('CS001304000004', Decimal('624.0000000000000000'))]"
      ]
     },
     "execution_count": 45,
     "metadata": {},
     "output_type": "execute_result"
    }
   ],
   "source": [
    "%%sql\n",
    "WITH customer_avg AS (\n",
    "    SELECT customer_id,\n",
    "        -- AVG(amount) AS avg_by_customer,\n",
    "        AVG(amount) OVER (PARTITION BY customer_id) AS avg_by_customer,\n",
    "        AVG(amount) OVER () AS avg_of_whole_customer\n",
    "    FROM receipt\n",
    "    WHERE customer_id NOT LIKE 'Z%'\n",
    "    -- GROUP BY customer_id\n",
    ")\n",
    "SELECT customer_avg.customer_id, AVG(customer_avg.avg_by_customer) AS avg\n",
    "FROM customer_avg\n",
    "WHERE customer_avg.avg_by_customer >= customer_avg.avg_of_whole_customer\n",
    "GROUP BY customer_avg.customer_id\n",
    "LIMIT 10;"
   ]
  },
  {
   "cell_type": "markdown",
   "metadata": {},
   "source": [
    "---\n",
    "> S-036: レシート明細データ（receipt）と店舗データ（store）を内部結合し、レシート明細データの全項目と店舗データの店舗名（store_name）を10件表示せよ。"
   ]
  },
  {
   "cell_type": "code",
   "execution_count": 48,
   "metadata": {},
   "outputs": [
    {
     "name": "stdout",
     "output_type": "stream",
     "text": [
      "*  postgresql://padawan:***@db:5432/dsdojo_db\n",
      "10 rows affected.\n"
     ]
    },
    {
     "data": {
      "text/html": [
       "<table>\n",
       "    <thead>\n",
       "        <tr>\n",
       "            <th>sales_ymd</th>\n",
       "            <th>sales_epoch</th>\n",
       "            <th>store_cd</th>\n",
       "            <th>receipt_no</th>\n",
       "            <th>receipt_sub_no</th>\n",
       "            <th>customer_id</th>\n",
       "            <th>product_cd</th>\n",
       "            <th>quantity</th>\n",
       "            <th>amount</th>\n",
       "            <th>store_name</th>\n",
       "        </tr>\n",
       "    </thead>\n",
       "    <tbody>\n",
       "        <tr>\n",
       "            <td>20181103</td>\n",
       "            <td>1541203200</td>\n",
       "            <td>S14006</td>\n",
       "            <td>112</td>\n",
       "            <td>1</td>\n",
       "            <td>CS006214000001</td>\n",
       "            <td>P070305012</td>\n",
       "            <td>1</td>\n",
       "            <td>158</td>\n",
       "            <td>葛が谷店</td>\n",
       "        </tr>\n",
       "        <tr>\n",
       "            <td>20181118</td>\n",
       "            <td>1542499200</td>\n",
       "            <td>S13008</td>\n",
       "            <td>1132</td>\n",
       "            <td>2</td>\n",
       "            <td>CS008415000097</td>\n",
       "            <td>P070701017</td>\n",
       "            <td>1</td>\n",
       "            <td>81</td>\n",
       "            <td>成城店</td>\n",
       "        </tr>\n",
       "        <tr>\n",
       "            <td>20170712</td>\n",
       "            <td>1499817600</td>\n",
       "            <td>S14028</td>\n",
       "            <td>1102</td>\n",
       "            <td>1</td>\n",
       "            <td>CS028414000014</td>\n",
       "            <td>P060101005</td>\n",
       "            <td>1</td>\n",
       "            <td>170</td>\n",
       "            <td>二ツ橋店</td>\n",
       "        </tr>\n",
       "        <tr>\n",
       "            <td>20190205</td>\n",
       "            <td>1549324800</td>\n",
       "            <td>S14042</td>\n",
       "            <td>1132</td>\n",
       "            <td>1</td>\n",
       "            <td>ZZ000000000000</td>\n",
       "            <td>P050301001</td>\n",
       "            <td>1</td>\n",
       "            <td>25</td>\n",
       "            <td>新山下店</td>\n",
       "        </tr>\n",
       "        <tr>\n",
       "            <td>20180821</td>\n",
       "            <td>1534809600</td>\n",
       "            <td>S14025</td>\n",
       "            <td>1102</td>\n",
       "            <td>2</td>\n",
       "            <td>CS025415000050</td>\n",
       "            <td>P060102007</td>\n",
       "            <td>1</td>\n",
       "            <td>90</td>\n",
       "            <td>大和店</td>\n",
       "        </tr>\n",
       "        <tr>\n",
       "            <td>20190605</td>\n",
       "            <td>1559692800</td>\n",
       "            <td>S13003</td>\n",
       "            <td>1112</td>\n",
       "            <td>1</td>\n",
       "            <td>CS003515000195</td>\n",
       "            <td>P050102002</td>\n",
       "            <td>1</td>\n",
       "            <td>138</td>\n",
       "            <td>狛江店</td>\n",
       "        </tr>\n",
       "        <tr>\n",
       "            <td>20181205</td>\n",
       "            <td>1543968000</td>\n",
       "            <td>S14024</td>\n",
       "            <td>1102</td>\n",
       "            <td>2</td>\n",
       "            <td>CS024514000042</td>\n",
       "            <td>P080101005</td>\n",
       "            <td>1</td>\n",
       "            <td>30</td>\n",
       "            <td>三田店</td>\n",
       "        </tr>\n",
       "        <tr>\n",
       "            <td>20190922</td>\n",
       "            <td>1569110400</td>\n",
       "            <td>S14040</td>\n",
       "            <td>1102</td>\n",
       "            <td>1</td>\n",
       "            <td>CS040415000178</td>\n",
       "            <td>P070501004</td>\n",
       "            <td>1</td>\n",
       "            <td>128</td>\n",
       "            <td>長津田店</td>\n",
       "        </tr>\n",
       "        <tr>\n",
       "            <td>20170504</td>\n",
       "            <td>1493856000</td>\n",
       "            <td>S13020</td>\n",
       "            <td>1112</td>\n",
       "            <td>2</td>\n",
       "            <td>ZZ000000000000</td>\n",
       "            <td>P071302010</td>\n",
       "            <td>1</td>\n",
       "            <td>770</td>\n",
       "            <td>十条仲原店</td>\n",
       "        </tr>\n",
       "        <tr>\n",
       "            <td>20191010</td>\n",
       "            <td>1570665600</td>\n",
       "            <td>S14027</td>\n",
       "            <td>1102</td>\n",
       "            <td>1</td>\n",
       "            <td>CS027514000015</td>\n",
       "            <td>P071101003</td>\n",
       "            <td>1</td>\n",
       "            <td>680</td>\n",
       "            <td>南藤沢店</td>\n",
       "        </tr>\n",
       "    </tbody>\n",
       "</table>"
      ],
      "text/plain": [
       "[(20181103, 1541203200, 'S14006', 112, 1, 'CS006214000001', 'P070305012', 1, 158, '葛が谷店'),\n",
       " (20181118, 1542499200, 'S13008', 1132, 2, 'CS008415000097', 'P070701017', 1, 81, '成城店'),\n",
       " (20170712, 1499817600, 'S14028', 1102, 1, 'CS028414000014', 'P060101005', 1, 170, '二ツ橋店'),\n",
       " (20190205, 1549324800, 'S14042', 1132, 1, 'ZZ000000000000', 'P050301001', 1, 25, '新山下店'),\n",
       " (20180821, 1534809600, 'S14025', 1102, 2, 'CS025415000050', 'P060102007', 1, 90, '大和店'),\n",
       " (20190605, 1559692800, 'S13003', 1112, 1, 'CS003515000195', 'P050102002', 1, 138, '狛江店'),\n",
       " (20181205, 1543968000, 'S14024', 1102, 2, 'CS024514000042', 'P080101005', 1, 30, '三田店'),\n",
       " (20190922, 1569110400, 'S14040', 1102, 1, 'CS040415000178', 'P070501004', 1, 128, '長津田店'),\n",
       " (20170504, 1493856000, 'S13020', 1112, 2, 'ZZ000000000000', 'P071302010', 1, 770, '十条仲原店'),\n",
       " (20191010, 1570665600, 'S14027', 1102, 1, 'CS027514000015', 'P071101003', 1, 680, '南藤沢店')]"
      ]
     },
     "execution_count": 48,
     "metadata": {},
     "output_type": "execute_result"
    }
   ],
   "source": [
    "%%sql\n",
    "SELECT receipt.*, store.store_name\n",
    "FROM receipt\n",
    "INNER JOIN store\n",
    "    ON receipt.store_cd = store.store_cd\n",
    "LIMIT 10;"
   ]
  },
  {
   "cell_type": "markdown",
   "metadata": {},
   "source": [
    "---\n",
    "> S-037: 商品データ（product）とカテゴリデータ（category）を内部結合し、商品データの全項目とカテゴリデータのカテゴリ小区分名（category_small_name）を10件表示せよ。"
   ]
  },
  {
   "cell_type": "code",
   "execution_count": 53,
   "metadata": {},
   "outputs": [
    {
     "name": "stdout",
     "output_type": "stream",
     "text": [
      "*  postgresql://padawan:***@db:5432/dsdojo_db\n",
      "10 rows affected.\n"
     ]
    },
    {
     "data": {
      "text/html": [
       "<table>\n",
       "    <thead>\n",
       "        <tr>\n",
       "            <th>product_cd</th>\n",
       "            <th>category_major_cd</th>\n",
       "            <th>category_medium_cd</th>\n",
       "            <th>category_small_cd</th>\n",
       "            <th>unit_price</th>\n",
       "            <th>unit_cost</th>\n",
       "            <th>category_small_name</th>\n",
       "        </tr>\n",
       "    </thead>\n",
       "    <tbody>\n",
       "        <tr>\n",
       "            <td>P040101001</td>\n",
       "            <td>04</td>\n",
       "            <td>0401</td>\n",
       "            <td>040101</td>\n",
       "            <td>198</td>\n",
       "            <td>149</td>\n",
       "            <td>弁当類</td>\n",
       "        </tr>\n",
       "        <tr>\n",
       "            <td>P040101002</td>\n",
       "            <td>04</td>\n",
       "            <td>0401</td>\n",
       "            <td>040101</td>\n",
       "            <td>218</td>\n",
       "            <td>164</td>\n",
       "            <td>弁当類</td>\n",
       "        </tr>\n",
       "        <tr>\n",
       "            <td>P040101003</td>\n",
       "            <td>04</td>\n",
       "            <td>0401</td>\n",
       "            <td>040101</td>\n",
       "            <td>230</td>\n",
       "            <td>173</td>\n",
       "            <td>弁当類</td>\n",
       "        </tr>\n",
       "        <tr>\n",
       "            <td>P040101004</td>\n",
       "            <td>04</td>\n",
       "            <td>0401</td>\n",
       "            <td>040101</td>\n",
       "            <td>248</td>\n",
       "            <td>186</td>\n",
       "            <td>弁当類</td>\n",
       "        </tr>\n",
       "        <tr>\n",
       "            <td>P040101005</td>\n",
       "            <td>04</td>\n",
       "            <td>0401</td>\n",
       "            <td>040101</td>\n",
       "            <td>268</td>\n",
       "            <td>201</td>\n",
       "            <td>弁当類</td>\n",
       "        </tr>\n",
       "        <tr>\n",
       "            <td>P040101006</td>\n",
       "            <td>04</td>\n",
       "            <td>0401</td>\n",
       "            <td>040101</td>\n",
       "            <td>298</td>\n",
       "            <td>224</td>\n",
       "            <td>弁当類</td>\n",
       "        </tr>\n",
       "        <tr>\n",
       "            <td>P040101007</td>\n",
       "            <td>04</td>\n",
       "            <td>0401</td>\n",
       "            <td>040101</td>\n",
       "            <td>338</td>\n",
       "            <td>254</td>\n",
       "            <td>弁当類</td>\n",
       "        </tr>\n",
       "        <tr>\n",
       "            <td>P040101008</td>\n",
       "            <td>04</td>\n",
       "            <td>0401</td>\n",
       "            <td>040101</td>\n",
       "            <td>420</td>\n",
       "            <td>315</td>\n",
       "            <td>弁当類</td>\n",
       "        </tr>\n",
       "        <tr>\n",
       "            <td>P040101009</td>\n",
       "            <td>04</td>\n",
       "            <td>0401</td>\n",
       "            <td>040101</td>\n",
       "            <td>498</td>\n",
       "            <td>374</td>\n",
       "            <td>弁当類</td>\n",
       "        </tr>\n",
       "        <tr>\n",
       "            <td>P040101010</td>\n",
       "            <td>04</td>\n",
       "            <td>0401</td>\n",
       "            <td>040101</td>\n",
       "            <td>580</td>\n",
       "            <td>435</td>\n",
       "            <td>弁当類</td>\n",
       "        </tr>\n",
       "    </tbody>\n",
       "</table>"
      ],
      "text/plain": [
       "[('P040101001', '04', '0401', '040101', 198, 149, '弁当類'),\n",
       " ('P040101002', '04', '0401', '040101', 218, 164, '弁当類'),\n",
       " ('P040101003', '04', '0401', '040101', 230, 173, '弁当類'),\n",
       " ('P040101004', '04', '0401', '040101', 248, 186, '弁当類'),\n",
       " ('P040101005', '04', '0401', '040101', 268, 201, '弁当類'),\n",
       " ('P040101006', '04', '0401', '040101', 298, 224, '弁当類'),\n",
       " ('P040101007', '04', '0401', '040101', 338, 254, '弁当類'),\n",
       " ('P040101008', '04', '0401', '040101', 420, 315, '弁当類'),\n",
       " ('P040101009', '04', '0401', '040101', 498, 374, '弁当類'),\n",
       " ('P040101010', '04', '0401', '040101', 580, 435, '弁当類')]"
      ]
     },
     "execution_count": 53,
     "metadata": {},
     "output_type": "execute_result"
    }
   ],
   "source": [
    "%%sql\n",
    "SELECT product.*, category_small_name\n",
    "FROM product\n",
    "INNER JOIN category ON product.category_small_cd = category.category_small_cd\n",
    "LIMIT 10;"
   ]
  },
  {
   "cell_type": "markdown",
   "metadata": {},
   "source": [
    "---\n",
    "> S-038: 顧客データ（customer）とレシート明細データ（receipt）から、顧客ごとの売上金額合計を求め、10件表示せよ。ただし、売上実績がない顧客については売上金額を0として表示させること。また、顧客は性別コード（gender_cd）が女性（1）であるものを対象とし、非会員（顧客IDが\"Z\"から始まるもの）は除外すること。"
   ]
  },
  {
   "cell_type": "code",
   "execution_count": 60,
   "metadata": {},
   "outputs": [
    {
     "name": "stdout",
     "output_type": "stream",
     "text": [
      "*  postgresql://padawan:***@db:5432/dsdojo_db\n",
      "10 rows affected.\n"
     ]
    },
    {
     "data": {
      "text/html": [
       "<table>\n",
       "    <thead>\n",
       "        <tr>\n",
       "            <th>customer_id</th>\n",
       "            <th>avg</th>\n",
       "        </tr>\n",
       "    </thead>\n",
       "    <tbody>\n",
       "        <tr>\n",
       "            <td>CS004412000425</td>\n",
       "            <td>0</td>\n",
       "        </tr>\n",
       "        <tr>\n",
       "            <td>CS007512000199</td>\n",
       "            <td>0</td>\n",
       "        </tr>\n",
       "        <tr>\n",
       "            <td>CS002712000064</td>\n",
       "            <td>0</td>\n",
       "        </tr>\n",
       "        <tr>\n",
       "            <td>CS039515000243</td>\n",
       "            <td>0</td>\n",
       "        </tr>\n",
       "        <tr>\n",
       "            <td>CS001615000099</td>\n",
       "            <td>384.0000000000000000</td>\n",
       "        </tr>\n",
       "        <tr>\n",
       "            <td>CS010515000082</td>\n",
       "            <td>247.0000000000000000</td>\n",
       "        </tr>\n",
       "        <tr>\n",
       "            <td>CS019315000045</td>\n",
       "            <td>203.2500000000000000</td>\n",
       "        </tr>\n",
       "        <tr>\n",
       "            <td>CS008513000099</td>\n",
       "            <td>220.3333333333333333</td>\n",
       "        </tr>\n",
       "        <tr>\n",
       "            <td>CS007615000070</td>\n",
       "            <td>247.9166666666666667</td>\n",
       "        </tr>\n",
       "        <tr>\n",
       "            <td>CS029511000005</td>\n",
       "            <td>0</td>\n",
       "        </tr>\n",
       "    </tbody>\n",
       "</table>"
      ],
      "text/plain": [
       "[('CS004412000425', Decimal('0')),\n",
       " ('CS007512000199', Decimal('0')),\n",
       " ('CS002712000064', Decimal('0')),\n",
       " ('CS039515000243', Decimal('0')),\n",
       " ('CS001615000099', Decimal('384.0000000000000000')),\n",
       " ('CS010515000082', Decimal('247.0000000000000000')),\n",
       " ('CS019315000045', Decimal('203.2500000000000000')),\n",
       " ('CS008513000099', Decimal('220.3333333333333333')),\n",
       " ('CS007615000070', Decimal('247.9166666666666667')),\n",
       " ('CS029511000005', Decimal('0'))]"
      ]
     },
     "execution_count": 60,
     "metadata": {},
     "output_type": "execute_result"
    }
   ],
   "source": [
    "%%sql\n",
    "SELECT c.customer_id, GREATEST(0, AVG(r.amount)) AS avg\n",
    "FROM customer AS c\n",
    "LEFT JOIN receipt AS r\n",
    "    ON c.customer_id = r.customer_id\n",
    "WHERE c.gender_cd = '1' AND c.customer_id NOT LIKE 'Z%'\n",
    "GROUP BY c.customer_id\n",
    "LIMIT 10;"
   ]
  },
  {
   "cell_type": "markdown",
   "metadata": {},
   "source": [
    "---\n",
    "> S-039: レシート明細データ（receipt）から、売上日数の多い顧客の上位20件を抽出したデータと、売上金額合計の多い顧客の上位20件を抽出したデータをそれぞれ作成し、さらにその2つを完全外部結合せよ。ただし、非会員（顧客IDが\"Z\"から始まるもの）は除外すること。"
   ]
  },
  {
   "cell_type": "code",
   "execution_count": null,
   "metadata": {},
   "outputs": [],
   "source": [
    "%%sql\n"
   ]
  },
  {
   "cell_type": "markdown",
   "metadata": {},
   "source": [
    "---\n",
    "> S-040: 全ての店舗と全ての商品を組み合わせたデータを作成したい。店舗データ（store）と商品データ（product）を直積し、件数を計算せよ。"
   ]
  },
  {
   "cell_type": "code",
   "execution_count": null,
   "metadata": {},
   "outputs": [],
   "source": [
    "%%sql\n"
   ]
  },
  {
   "cell_type": "markdown",
   "metadata": {},
   "source": [
    "---\n",
    "> S-041: レシート明細データ（receipt）の売上金額（amount）を日付（sales_ymd）ごとに集計し、前回売上があった日からの売上金額増減を計算せよ。そして結果を10件表示せよ。"
   ]
  },
  {
   "cell_type": "code",
   "execution_count": null,
   "metadata": {},
   "outputs": [],
   "source": [
    "%%sql\n"
   ]
  },
  {
   "cell_type": "markdown",
   "metadata": {},
   "source": [
    "---\n",
    "> S-042: レシート明細データ（receipt）の売上金額（amount）を日付（sales_ymd）ごとに集計し、各日付のデータに対し、前回、前々回、3回前に売上があった日のデータを結合せよ。そして結果を10件表示せよ。"
   ]
  },
  {
   "cell_type": "code",
   "execution_count": null,
   "metadata": {},
   "outputs": [],
   "source": [
    "%%sql\n"
   ]
  },
  {
   "cell_type": "markdown",
   "metadata": {},
   "source": [
    "---\n",
    "> S-043: レシート明細データ（receipt）と顧客データ（customer）を結合し、性別コード（gender_cd）と年代（ageから計算）ごとに売上金額（amount）を合計した売上サマリデータを作成せよ。性別コードは0が男性、1が女性、9が不明を表すものとする。\n",
    ">\n",
    "> ただし、項目構成は年代、女性の売上金額、男性の売上金額、性別不明の売上金額の4項目とすること（縦に年代、横に性別のクロス集計）。また、年代は10歳ごとの階級とすること。"
   ]
  },
  {
   "cell_type": "code",
   "execution_count": null,
   "metadata": {},
   "outputs": [],
   "source": [
    "%%sql\n"
   ]
  },
  {
   "cell_type": "markdown",
   "metadata": {},
   "source": [
    "---\n",
    "> S-044: 043で作成した売上サマリデータ（sales_summary）は性別の売上を横持ちさせたものであった。このデータから性別を縦持ちさせ、年代、性別コード、売上金額の3項目に変換せよ。ただし、性別コードは男性を\"00\"、女性を\"01\"、不明を\"99\"とする。"
   ]
  },
  {
   "cell_type": "code",
   "execution_count": null,
   "metadata": {},
   "outputs": [],
   "source": [
    "%%sql\n"
   ]
  },
  {
   "cell_type": "markdown",
   "metadata": {},
   "source": [
    "---\n",
    "> S-045: 顧客データ（customer）の生年月日（birth_day）は日付型でデータを保有している。これをYYYYMMDD形式の文字列に変換し、顧客ID（customer_id）とともに10件表示せよ。"
   ]
  },
  {
   "cell_type": "code",
   "execution_count": null,
   "metadata": {},
   "outputs": [],
   "source": [
    "%%sql\n"
   ]
  },
  {
   "cell_type": "markdown",
   "metadata": {},
   "source": [
    "---\n",
    "> S-046: 顧客データ（customer）の申し込み日（application_date）はYYYYMMDD形式の文字列型でデータを保有している。これを日付型に変換し、顧客ID（customer_id）とともに10件表示せよ。"
   ]
  },
  {
   "cell_type": "code",
   "execution_count": null,
   "metadata": {},
   "outputs": [],
   "source": [
    "%%sql\n"
   ]
  },
  {
   "cell_type": "markdown",
   "metadata": {},
   "source": [
    "---\n",
    "> S-047: レシート明細データ（receipt）の売上日（sales_ymd）はYYYYMMDD形式の数値型でデータを保有している。これを日付型に変換し、レシート番号(receipt_no)、レシートサブ番号（receipt_sub_no）とともに10件表示せよ。"
   ]
  },
  {
   "cell_type": "code",
   "execution_count": null,
   "metadata": {},
   "outputs": [],
   "source": [
    "%%sql\n"
   ]
  },
  {
   "cell_type": "markdown",
   "metadata": {},
   "source": [
    "---\n",
    "> S-048: レシート明細データ（receipt）の売上エポック秒（sales_epoch）は数値型のUNIX秒でデータを保有している。これを日付型に変換し、レシート番号(receipt_no)、レシートサブ番号（receipt_sub_no）とともに10件表示せよ。"
   ]
  },
  {
   "cell_type": "code",
   "execution_count": null,
   "metadata": {},
   "outputs": [],
   "source": [
    "%%sql\n"
   ]
  },
  {
   "cell_type": "markdown",
   "metadata": {},
   "source": [
    "---\n",
    "> S-049: レシート明細データ（receipt）の売上エポック秒（sales_epoch）を日付型に変換し、「年」だけ取り出してレシート番号(receipt_no)、レシートサブ番号（receipt_sub_no）とともに10件表示せよ。"
   ]
  },
  {
   "cell_type": "code",
   "execution_count": null,
   "metadata": {},
   "outputs": [],
   "source": [
    "%%sql\n"
   ]
  },
  {
   "cell_type": "markdown",
   "metadata": {},
   "source": [
    "---\n",
    "> S-050: レシート明細データ（receipt）の売上エポック秒（sales_epoch）を日付型に変換し、「月」だけ取り出してレシート番号(receipt_no)、レシートサブ番号（receipt_sub_no）とともに10件表示せよ。なお、「月」は0埋め2桁で取り出すこと。"
   ]
  },
  {
   "cell_type": "code",
   "execution_count": null,
   "metadata": {},
   "outputs": [],
   "source": [
    "%%sql\n"
   ]
  },
  {
   "cell_type": "markdown",
   "metadata": {},
   "source": [
    "---\n",
    "> S-051: レシート明細データ（receipt）の売上エポック秒を日付型に変換し、「日」だけ取り出してレシート番号(receipt_no)、レシートサブ番号（receipt_sub_no）とともに10件表示せよ。なお、「日」は0埋め2桁で取り出すこと。"
   ]
  },
  {
   "cell_type": "code",
   "execution_count": null,
   "metadata": {},
   "outputs": [],
   "source": [
    "%%sql\n"
   ]
  },
  {
   "cell_type": "markdown",
   "metadata": {},
   "source": [
    "---\n",
    "> S-052: レシート明細データ（receipt）の売上金額（amount）を顧客ID（customer_id）ごとに合計の上、売上金額合計に対して2,000円以下を0、2,000円より大きい金額を1に二値化し、顧客ID、売上金額合計とともに10件表示せよ。ただし、顧客IDが\"Z\"から始まるのものは非会員を表すため、除外して計算すること。"
   ]
  },
  {
   "cell_type": "code",
   "execution_count": null,
   "metadata": {},
   "outputs": [],
   "source": [
    "%%sql\n"
   ]
  },
  {
   "cell_type": "markdown",
   "metadata": {},
   "source": [
    "---\n",
    "> S-053: 顧客データ（customer）の郵便番号（postal_cd）に対し、東京（先頭3桁が100〜209のもの）を1、それ以外のものを0に二値化せよ。さらにレシート明細データ（receipt）と結合し、全期間において売上実績のある顧客数を、作成した二値ごとにカウントせよ。"
   ]
  },
  {
   "cell_type": "code",
   "execution_count": null,
   "metadata": {},
   "outputs": [],
   "source": [
    "%%sql\n"
   ]
  },
  {
   "cell_type": "markdown",
   "metadata": {},
   "source": [
    "---\n",
    "> S-054: 顧客データ（customer）の住所（address）は、埼玉県、千葉県、東京都、神奈川県のいずれかとなっている。都道府県毎にコード値を作成し、顧客ID、住所とともに10件表示せよ。値は埼玉県を11、千葉県を12、東京都を13、神奈川県を14とすること。"
   ]
  },
  {
   "cell_type": "code",
   "execution_count": null,
   "metadata": {},
   "outputs": [],
   "source": [
    "%%sql\n"
   ]
  },
  {
   "cell_type": "markdown",
   "metadata": {},
   "source": [
    "---\n",
    "> S-055: レシート明細（receipt）データの売上金額（amount）を顧客ID（customer_id）ごとに合計し、その合計金額の四分位点を求めよ。その上で、顧客ごとの売上金額合計に対して以下の基準でカテゴリ値を作成し、顧客ID、売上金額合計とともに10件表示せよ。カテゴリ値は順に1〜4とする。\n",
    ">\n",
    "> - 最小値以上第1四分位未満 ・・・ 1を付与\n",
    "> - 第1四分位以上第2四分位未満 ・・・ 2を付与\n",
    "> - 第2四分位以上第3四分位未満 ・・・ 3を付与\n",
    "> - 第3四分位以上 ・・・ 4を付与"
   ]
  },
  {
   "cell_type": "code",
   "execution_count": null,
   "metadata": {},
   "outputs": [],
   "source": [
    "%%sql\n"
   ]
  },
  {
   "cell_type": "markdown",
   "metadata": {},
   "source": [
    "---\n",
    "> S-056: 顧客データ（customer）の年齢（age）をもとに10歳刻みで年代を算出し、顧客ID（customer_id）、生年月日（birth_day）とともに10件表示せよ。ただし、60歳以上は全て60歳代とすること。年代を表すカテゴリ名は任意とする。"
   ]
  },
  {
   "cell_type": "code",
   "execution_count": null,
   "metadata": {},
   "outputs": [],
   "source": [
    "%%sql\n"
   ]
  },
  {
   "cell_type": "markdown",
   "metadata": {},
   "source": [
    "---\n",
    "> S-057: 056の抽出結果と性別コード（gender_cd）により、新たに性別×年代の組み合わせを表すカテゴリデータを作成し、10件表示せよ。組み合わせを表すカテゴリの値は任意とする。"
   ]
  },
  {
   "cell_type": "code",
   "execution_count": null,
   "metadata": {},
   "outputs": [],
   "source": [
    "%%sql\n"
   ]
  },
  {
   "cell_type": "markdown",
   "metadata": {},
   "source": [
    "---\n",
    "> S-058: 顧客データ（customer）の性別コード（gender_cd）をダミー変数化し、顧客ID（customer_id）とともに10件表示せよ。"
   ]
  },
  {
   "cell_type": "code",
   "execution_count": null,
   "metadata": {},
   "outputs": [],
   "source": [
    "%%sql\n"
   ]
  },
  {
   "cell_type": "markdown",
   "metadata": {},
   "source": [
    "---\n",
    "> S-059: レシート明細データ（receipt）の売上金額（amount）を顧客ID（customer_id）ごとに合計し、売上金額合計を平均0、標準偏差1に標準化して顧客ID、売上金額合計とともに10件表示せよ。標準化に使用する標準偏差は、分散の平方根、もしくは不偏分散の平方根のどちらでも良いものとする。ただし、顧客IDが\"Z\"から始まるのものは非会員を表すため、除外して計算すること。"
   ]
  },
  {
   "cell_type": "code",
   "execution_count": null,
   "metadata": {},
   "outputs": [],
   "source": [
    "%%sql\n"
   ]
  },
  {
   "cell_type": "markdown",
   "metadata": {},
   "source": [
    "---\n",
    "> S-060: レシート明細データ（receipt）の売上金額（amount）を顧客ID（customer_id）ごとに合計し、売上金額合計を最小値0、最大値1に正規化して顧客ID、売上金額合計とともに10件表示せよ。ただし、顧客IDが\"Z\"から始まるのものは非会員を表すため、除外して計算すること。"
   ]
  },
  {
   "cell_type": "code",
   "execution_count": null,
   "metadata": {},
   "outputs": [],
   "source": [
    "%%sql\n"
   ]
  },
  {
   "cell_type": "markdown",
   "metadata": {},
   "source": [
    "---\n",
    "> S-061: レシート明細データ（receipt）の売上金額（amount）を顧客ID（customer_id）ごとに合計し、売上金額合計を常用対数化（底10）して顧客ID、売上金額合計とともに10件表示せよ。ただし、顧客IDが\"Z\"から始まるのものは非会員を表すため、除外して計算すること。"
   ]
  },
  {
   "cell_type": "code",
   "execution_count": null,
   "metadata": {},
   "outputs": [],
   "source": [
    "%%sql\n"
   ]
  },
  {
   "cell_type": "markdown",
   "metadata": {},
   "source": [
    "---\n",
    "> S-062: レシート明細データ（receipt）の売上金額（amount）を顧客ID（customer_id）ごとに合計し、売上金額合計を自然対数化（底e）して顧客ID、売上金額合計とともに10件表示せよ。ただし、顧客IDが\"Z\"から始まるのものは非会員を表すため、除外して計算すること。"
   ]
  },
  {
   "cell_type": "code",
   "execution_count": null,
   "metadata": {},
   "outputs": [],
   "source": [
    "%%sql\n"
   ]
  },
  {
   "cell_type": "markdown",
   "metadata": {},
   "source": [
    "---\n",
    "> S-063: 商品データ（product）の単価（unit_price）と原価（unit_cost）から各商品の利益額を算出し、結果を10件表示せよ。"
   ]
  },
  {
   "cell_type": "code",
   "execution_count": null,
   "metadata": {},
   "outputs": [],
   "source": [
    "%%sql\n"
   ]
  },
  {
   "cell_type": "markdown",
   "metadata": {},
   "source": [
    "---\n",
    "> S-064: 商品データ（product）の単価（unit_price）と原価（unit_cost）から、各商品の利益率の全体平均を算出せよ。ただし、単価と原価には欠損が生じていることに注意せよ。"
   ]
  },
  {
   "cell_type": "code",
   "execution_count": null,
   "metadata": {},
   "outputs": [],
   "source": [
    "%%sql\n"
   ]
  },
  {
   "cell_type": "markdown",
   "metadata": {},
   "source": [
    "---\n",
    "> S-065: 商品データ（product）の各商品について、利益率が30%となる新たな単価を求めよ。ただし、1円未満は切り捨てること。そして結果を10件表示させ、利益率がおよそ30％付近であることを確認せよ。ただし、単価（unit_price）と原価（unit_cost）には欠損が生じていることに注意せよ。"
   ]
  },
  {
   "cell_type": "code",
   "execution_count": null,
   "metadata": {},
   "outputs": [],
   "source": [
    "%%sql\n"
   ]
  },
  {
   "cell_type": "markdown",
   "metadata": {},
   "source": [
    "---\n",
    "> S-066: 商品データ（product）の各商品について、利益率が30%となる新たな単価を求めよ。今回は、1円未満を丸めること（四捨五入または偶数への丸めで良い）。そして結果を10件表示させ、利益率がおよそ30％付近であることを確認せよ。ただし、単価（unit_price）と原価（unit_cost）には欠損が生じていることに注意せよ。"
   ]
  },
  {
   "cell_type": "code",
   "execution_count": null,
   "metadata": {},
   "outputs": [],
   "source": [
    "%%sql\n"
   ]
  },
  {
   "cell_type": "markdown",
   "metadata": {},
   "source": [
    "---\n",
    "> S-067: 商品データ（product）の各商品について、利益率が30%となる新たな単価を求めよ。今回は、1円未満を切り上げること。そして結果を10件表示させ、利益率がおよそ30％付近であることを確認せよ。ただし、単価（unit_price）と原価（unit_cost）には欠損が生じていることに注意せよ。"
   ]
  },
  {
   "cell_type": "code",
   "execution_count": null,
   "metadata": {},
   "outputs": [],
   "source": [
    "%%sql\n"
   ]
  },
  {
   "cell_type": "markdown",
   "metadata": {},
   "source": [
    "---\n",
    "> S-068: 商品データ（product）の各商品について、消費税率10％の税込み金額を求めよ。1円未満の端数は切り捨てとし、結果を10件表示せよ。ただし、単価（unit_price）には欠損が生じていることに注意せよ。"
   ]
  },
  {
   "cell_type": "code",
   "execution_count": null,
   "metadata": {},
   "outputs": [],
   "source": [
    "%%sql\n"
   ]
  },
  {
   "cell_type": "markdown",
   "metadata": {},
   "source": [
    "---\n",
    "> S-069: レシート明細データ（receipt）と商品データ（product）を結合し、顧客毎に全商品の売上金額合計と、カテゴリ大区分コード（category_major_cd）が\"07\"（瓶詰缶詰）の売上金額合計を計算の上、両者の比率を求めよ。抽出対象はカテゴリ大区分コード\"07\"（瓶詰缶詰）の売上実績がある顧客のみとし、結果を10件表示せよ。"
   ]
  },
  {
   "cell_type": "code",
   "execution_count": null,
   "metadata": {},
   "outputs": [],
   "source": [
    "%%sql\n"
   ]
  },
  {
   "cell_type": "markdown",
   "metadata": {},
   "source": [
    "---\n",
    "> S-070: レシート明細データ（receipt）の売上日（sales_ymd）に対し、顧客データ（customer）の会員申込日（application_date）からの経過日数を計算し、顧客ID（customer_id）、売上日、会員申込日とともに10件表示せよ（sales_ymdは数値、application_dateは文字列でデータを保持している点に注意）。"
   ]
  },
  {
   "cell_type": "code",
   "execution_count": null,
   "metadata": {},
   "outputs": [],
   "source": [
    "%%sql\n"
   ]
  },
  {
   "cell_type": "markdown",
   "metadata": {},
   "source": [
    "---\n",
    "> S-071: レシート明細データ（receipt）の売上日（sales_ymd）に対し、顧客データ（customer）の会員申込日（application_date）からの経過月数を計算し、顧客ID（customer_id）、売上日、会員申込日とともに10件表示せよ（sales_ymdは数値、application_dateは文字列でデータを保持している点に注意）。1ヶ月未満は切り捨てること。"
   ]
  },
  {
   "cell_type": "code",
   "execution_count": null,
   "metadata": {},
   "outputs": [],
   "source": [
    "%%sql\n"
   ]
  },
  {
   "cell_type": "markdown",
   "metadata": {},
   "source": [
    "---\n",
    "> S-072: レシート明細データ（receipt）の売上日（sales_ymd）に対し、顧客データ（customer）の会員申込日（application_date）からの経過年数を計算し、顧客ID（customer_id）、売上日、会員申込日とともに10件表示せよ（sales_ymdは数値、application_dateは文字列でデータを保持している点に注意）。1年未満は切り捨てること。"
   ]
  },
  {
   "cell_type": "code",
   "execution_count": null,
   "metadata": {},
   "outputs": [],
   "source": [
    "%%sql\n"
   ]
  },
  {
   "cell_type": "markdown",
   "metadata": {},
   "source": [
    "---\n",
    "> S-073: レシート明細データ（receipt）の売上日（sales_ymd）に対し、顧客データ（customer）の会員申込日（application_date）からのエポック秒による経過時間を計算し、顧客ID（customer_id）、売上日、会員申込日とともに10件表示せよ（なお、sales_ymdは数値、application_dateは文字列でデータを保持している点に注意）。なお、時間情報は保有していないため各日付は0時0分0秒を表すものとする。"
   ]
  },
  {
   "cell_type": "code",
   "execution_count": null,
   "metadata": {},
   "outputs": [],
   "source": [
    "%%sql\n"
   ]
  },
  {
   "cell_type": "markdown",
   "metadata": {},
   "source": [
    "---\n",
    "> S-074: レシート明細データ（receipt）の売上日（sales_ymd）に対し、当該週の月曜日からの経過日数を計算し、売上日、直前の月曜日付とともに10件表示せよ（sales_ymdは数値でデータを保持している点に注意）。"
   ]
  },
  {
   "cell_type": "code",
   "execution_count": null,
   "metadata": {},
   "outputs": [],
   "source": [
    "%%sql\n"
   ]
  },
  {
   "cell_type": "markdown",
   "metadata": {},
   "source": [
    "---\n",
    "> S-075: 顧客データ（customer）からランダムに1%のデータを抽出し、先頭から10件表示せよ。"
   ]
  },
  {
   "cell_type": "code",
   "execution_count": null,
   "metadata": {},
   "outputs": [],
   "source": [
    "%%sql\n"
   ]
  },
  {
   "cell_type": "markdown",
   "metadata": {},
   "source": [
    "---\n",
    "> S-076: 顧客データ（customer）から性別コード（gender_cd）の割合に基づきランダムに10%のデータを層化抽出し、性別コードごとに件数を集計せよ。"
   ]
  },
  {
   "cell_type": "code",
   "execution_count": null,
   "metadata": {},
   "outputs": [],
   "source": [
    "%%sql\n"
   ]
  },
  {
   "cell_type": "markdown",
   "metadata": {},
   "source": [
    "---\n",
    "> S-077: レシート明細データ（receipt）の売上金額を顧客単位に合計し、合計した売上金額の外れ値を抽出せよ。なお、外れ値は売上金額合計を対数化したうえで平均と標準偏差を計算し、その平均から3σを超えて離れたものとする（自然対数と常用対数のどちらでも可）。結果は10件表示せよ。"
   ]
  },
  {
   "cell_type": "code",
   "execution_count": null,
   "metadata": {},
   "outputs": [],
   "source": [
    "%%sql\n"
   ]
  },
  {
   "cell_type": "markdown",
   "metadata": {},
   "source": [
    "---\n",
    "> S-078: レシート明細データ（receipt）の売上金額（amount）を顧客単位に合計し、合計した売上金額の外れ値を抽出せよ。ただし、顧客IDが\"Z\"から始まるのものは非会員を表すため、除外して計算すること。なお、ここでは外れ値を第1四分位と第3四分位の差であるIQRを用いて、「第1四分位数-1.5×IQR」を下回るもの、または「第3四分位数+1.5×IQR」を超えるものとする。結果は10件表示せよ。"
   ]
  },
  {
   "cell_type": "code",
   "execution_count": null,
   "metadata": {},
   "outputs": [],
   "source": [
    "%%sql\n"
   ]
  },
  {
   "cell_type": "markdown",
   "metadata": {},
   "source": [
    "---\n",
    "> S-079: 商品データ（product）の各項目に対し、欠損数を確認せよ。"
   ]
  },
  {
   "cell_type": "code",
   "execution_count": null,
   "metadata": {},
   "outputs": [],
   "source": [
    "%%sql\n"
   ]
  },
  {
   "cell_type": "markdown",
   "metadata": {},
   "source": [
    "---\n",
    "> S-080: 商品データ（product）のいずれかの項目に欠損が発生しているレコードを全て削除した新たな商品データを作成せよ。なお、削除前後の件数を表示させ、079で確認した件数だけ減少していることも確認すること。"
   ]
  },
  {
   "cell_type": "code",
   "execution_count": null,
   "metadata": {},
   "outputs": [],
   "source": [
    "%%sql\n"
   ]
  },
  {
   "cell_type": "markdown",
   "metadata": {},
   "source": [
    "---\n",
    "> S-081: 単価（unit_price）と原価（unit_cost）の欠損値について、それぞれの平均値で補完した新たな商品データを作成せよ。なお、平均値については1円未満を丸めること（四捨五入または偶数への丸めで良い）。補完実施後、各項目について欠損が生じていないことも確認すること。"
   ]
  },
  {
   "cell_type": "code",
   "execution_count": null,
   "metadata": {},
   "outputs": [],
   "source": [
    "%%sql\n"
   ]
  },
  {
   "cell_type": "markdown",
   "metadata": {},
   "source": [
    "---\n",
    "> S-082: 単価（unit_price）と原価（unit_cost）の欠損値について、それぞれの中央値で補完した新たな商品データを作成せよ。なお、中央値については1円未満を丸めること（四捨五入または偶数への丸めで良い）。補完実施後、各項目について欠損が生じていないことも確認すること。"
   ]
  },
  {
   "cell_type": "code",
   "execution_count": null,
   "metadata": {},
   "outputs": [],
   "source": [
    "%%sql\n"
   ]
  },
  {
   "cell_type": "markdown",
   "metadata": {},
   "source": [
    "---\n",
    "> S-083: 単価（unit_price）と原価（unit_cost）の欠損値について、各商品のカテゴリ小区分コード（category_small_cd）ごとに算出した中央値で補完した新たな商品データを作成せよ。なお、中央値については1円未満を丸めること（四捨五入または偶数への丸めで良い）。補完実施後、各項目について欠損が生じていないことも確認すること。"
   ]
  },
  {
   "cell_type": "code",
   "execution_count": null,
   "metadata": {},
   "outputs": [],
   "source": [
    "%%sql\n"
   ]
  },
  {
   "cell_type": "markdown",
   "metadata": {},
   "source": [
    "---\n",
    "> S-084: 顧客データ（customer）の全顧客に対して全期間の売上金額に占める2019年売上金額の割合を計算し、新たなデータを作成せよ。ただし、売上実績がない場合は0として扱うこと。そして計算した割合が0超のものを抽出し、結果を10件表示せよ。また、作成したデータに欠損が存在しないことを確認せよ。"
   ]
  },
  {
   "cell_type": "code",
   "execution_count": null,
   "metadata": {},
   "outputs": [],
   "source": [
    "%%sql\n"
   ]
  },
  {
   "cell_type": "markdown",
   "metadata": {},
   "source": [
    "---\n",
    "> S-085: 顧客データ（customer）の全顧客に対し、郵便番号（postal_cd）を用いてジオコードデータ（geocode）を紐付け、新たな顧客データを作成せよ。ただし、1つの郵便番号（postal_cd）に複数の経度（longitude）、緯度（latitude）情報が紐づく場合は、経度（longitude）、緯度（latitude）の平均値を算出して使用すること。また、作成結果を確認するために結果を10件表示せよ。"
   ]
  },
  {
   "cell_type": "code",
   "execution_count": null,
   "metadata": {},
   "outputs": [],
   "source": [
    "%%sql\n"
   ]
  },
  {
   "cell_type": "markdown",
   "metadata": {},
   "source": [
    "---\n",
    "> S-086: 085で作成した緯度経度つき顧客データに対し、会員申込店舗コード（application_store_cd）をキーに店舗データ（store）と結合せよ。そして申込み店舗の緯度（latitude）・経度情報（longitude)と顧客住所（address）の緯度・経度を用いて申込み店舗と顧客住所の距離（単位：km）を求め、顧客ID（customer_id）、顧客住所（address）、店舗住所（address）とともに表示せよ。計算式は以下の簡易式で良いものとするが、その他精度の高い方式を利用したライブラリを利用してもかまわない。結果は10件表示せよ。\n",
    "\n",
    "$$\n",
    "\\mbox{緯度（ラジアン）}：\\phi \\\\\n",
    "\\mbox{経度（ラジアン）}：\\lambda \\\\\n",
    "\\mbox{距離}L = 6371 * \\arccos(\\sin \\phi_1 * \\sin \\phi_2\n",
    "+ \\cos \\phi_1 * \\cos \\phi_2 * \\cos(\\lambda_1 − \\lambda_2))\n",
    "$$"
   ]
  },
  {
   "cell_type": "code",
   "execution_count": null,
   "metadata": {},
   "outputs": [],
   "source": [
    "%%sql\n"
   ]
  },
  {
   "cell_type": "markdown",
   "metadata": {},
   "source": [
    "---\n",
    "> S-087: 顧客データ（customer）では、異なる店舗での申込みなどにより同一顧客が複数登録されている。名前（customer_name）と郵便番号（postal_cd）が同じ顧客は同一顧客とみなして1顧客1レコードとなるように名寄せした名寄顧客データを作成し、顧客データの件数、名寄顧客データの件数、重複数を算出せよ。ただし、同一顧客に対しては売上金額合計が最も高いものを残し、売上金額合計が同一もしくは売上実績がない顧客については顧客ID（customer_id）の番号が小さいものを残すこととする。"
   ]
  },
  {
   "cell_type": "code",
   "execution_count": null,
   "metadata": {},
   "outputs": [],
   "source": [
    "%%sql\n"
   ]
  },
  {
   "cell_type": "markdown",
   "metadata": {},
   "source": [
    "---\n",
    "> S-088: 087で作成したデータを元に、顧客データに統合名寄IDを付与したデータを作成せよ。ただし、統合名寄IDは以下の仕様で付与するものとする。\n",
    ">\n",
    "> - 重複していない顧客：顧客ID（customer_id）を設定\n",
    "> - 重複している顧客：前設問で抽出したレコードの顧客IDを設定\n",
    "> \n",
    "> 顧客IDのユニーク件数と、統合名寄IDのユニーク件数の差も確認すること。"
   ]
  },
  {
   "cell_type": "code",
   "execution_count": null,
   "metadata": {},
   "outputs": [],
   "source": [
    "%%sql\n"
   ]
  },
  {
   "cell_type": "markdown",
   "metadata": {},
   "source": [
    "---\n",
    "> S-089: 売上実績がある顧客を、予測モデル構築のため学習用データとテスト用データに分割したい。それぞれ8:2の割合でランダムにデータを分割せよ。"
   ]
  },
  {
   "cell_type": "code",
   "execution_count": null,
   "metadata": {},
   "outputs": [],
   "source": [
    "%%sql\n"
   ]
  },
  {
   "cell_type": "markdown",
   "metadata": {},
   "source": [
    "---\n",
    "> S-090: レシート明細データ（receipt）は2017年1月1日〜2019年10月31日までのデータを有している。売上金額（amount）を月次で集計し、学習用に12ヶ月、テスト用に6ヶ月の時系列モデル構築用データを3セット作成せよ。"
   ]
  },
  {
   "cell_type": "code",
   "execution_count": null,
   "metadata": {},
   "outputs": [],
   "source": [
    "%%sql\n"
   ]
  },
  {
   "cell_type": "markdown",
   "metadata": {},
   "source": [
    "---\n",
    "> S-091: 顧客データ（customer）の各顧客に対し、売上実績がある顧客数と売上実績がない顧客数が1:1となるようにアンダーサンプリングで抽出せよ。"
   ]
  },
  {
   "cell_type": "code",
   "execution_count": null,
   "metadata": {},
   "outputs": [],
   "source": [
    "%%sql\n"
   ]
  },
  {
   "cell_type": "markdown",
   "metadata": {},
   "source": [
    "---\n",
    "> S-092: 顧客データ（customer）の性別について、第三正規形へと正規化せよ。"
   ]
  },
  {
   "cell_type": "code",
   "execution_count": null,
   "metadata": {},
   "outputs": [],
   "source": [
    "%%sql\n"
   ]
  },
  {
   "cell_type": "markdown",
   "metadata": {},
   "source": [
    "---\n",
    "> S-093: 商品データ（product）では各カテゴリのコード値だけを保有し、カテゴリ名は保有していない。カテゴリデータ（category）と組み合わせて非正規化し、カテゴリ名を保有した新たな商品データを作成せよ。"
   ]
  },
  {
   "cell_type": "code",
   "execution_count": null,
   "metadata": {},
   "outputs": [],
   "source": [
    "%%sql\n"
   ]
  },
  {
   "cell_type": "markdown",
   "metadata": {},
   "source": [
    "---\n",
    "> S-094: 093で作成したカテゴリ名付き商品データを以下の仕様でファイル出力せよ。\n",
    "> \n",
    "> |ファイル形式|ヘッダ有無|文字エンコーディング|\n",
    "> |:--:|:--:|:--:|\n",
    "> |CSV（カンマ区切り）|有り|UTF-8|\n",
    "> \n",
    "> ファイル出力先のパスは以下のようにすること（COPYコマンドの権限は付与済み）。\n",
    "> \n",
    "> |出力先|\n",
    "> |:--:|\n",
    "> |/tmp/data|\n",
    "> \n",
    "> ※\"/tmp/data\"を指定することでJupyterの\"/work/data\"と共有されるようになっている。"
   ]
  },
  {
   "cell_type": "code",
   "execution_count": null,
   "metadata": {},
   "outputs": [],
   "source": [
    "%%sql\n"
   ]
  },
  {
   "cell_type": "markdown",
   "metadata": {},
   "source": [
    "---\n",
    "> S-095: 093で作成したカテゴリ名付き商品データを以下の仕様でファイル出力せよ。\n",
    "> \n",
    "> |ファイル形式|ヘッダ有無|文字エンコーディング|\n",
    "> |:--:|:--:|:--:|\n",
    "> |CSV（カンマ区切り）|有り|CP932|\n",
    "> \n",
    "> PostgreSQLではShift_JISを指定することでCP932相当となる。ファイル出力先のパスは以下のようにすること（COPYコマンドの権限は付与済み）。\n",
    "> \n",
    "> |出力先|\n",
    "> |:--:|\n",
    "> |/tmp/data|\n",
    "> \n",
    "> ※\"/tmp/data\"を指定することでJupyterの\"/work/data\"と共有されるようになっている。"
   ]
  },
  {
   "cell_type": "code",
   "execution_count": null,
   "metadata": {},
   "outputs": [],
   "source": [
    "%%sql\n"
   ]
  },
  {
   "cell_type": "markdown",
   "metadata": {},
   "source": [
    "---\n",
    "> S-096: 093で作成したカテゴリ名付き商品データを以下の仕様でファイル出力せよ。\n",
    "> \n",
    "> |ファイル形式|ヘッダ有無|文字エンコーディング|\n",
    "> |:--:|:--:|:--:|\n",
    "> |CSV（カンマ区切り）|無し|UTF-8|\n",
    "> \n",
    "> ファイル出力先のパスは以下のようにすること（COPYコマンドの権限は付与済み）。\n",
    "> \n",
    "> |出力先|\n",
    "> |:--:|\n",
    "> |/tmp/data|\n",
    "> \n",
    "> ※\"/tmp/data\"を指定することでJupyterの\"/work/data\"と共有されるようになっている。"
   ]
  },
  {
   "cell_type": "code",
   "execution_count": null,
   "metadata": {},
   "outputs": [],
   "source": [
    "%%sql\n"
   ]
  },
  {
   "cell_type": "markdown",
   "metadata": {},
   "source": [
    "---\n",
    "> S-097: 094で作成した以下形式のファイルを読み込み、データを3件を表示させて正しく取り込まれていることを確認せよ。\n",
    "> \n",
    "> |ファイル形式|ヘッダ有無|文字エンコーディング|\n",
    "> |:--:|:--:|:--:|\n",
    "> |CSV（カンマ区切り）|有り|UTF-8|"
   ]
  },
  {
   "cell_type": "code",
   "execution_count": null,
   "metadata": {},
   "outputs": [],
   "source": [
    "%%sql\n"
   ]
  },
  {
   "cell_type": "markdown",
   "metadata": {},
   "source": [
    "---\n",
    "> S-098: 096で作成した以下形式のファイルを読み込み、データを3件を表示させて正しく取り込まれていることを確認せよ。\n",
    "> \n",
    "> |ファイル形式|ヘッダ有無|文字エンコーディング|\n",
    "> |:--:|:--:|:--:|\n",
    "> |CSV（カンマ区切り）|ヘッダ無し|UTF-8|"
   ]
  },
  {
   "cell_type": "code",
   "execution_count": null,
   "metadata": {},
   "outputs": [],
   "source": [
    "%%sql\n"
   ]
  },
  {
   "cell_type": "markdown",
   "metadata": {},
   "source": [
    "---\n",
    "> S-099: 093で作成したカテゴリ名付き商品データを以下の仕様でファイル出力せよ。\n",
    "> \n",
    "> |ファイル形式|ヘッダ有無|文字エンコーディング|\n",
    "> |:--:|:--:|:--:|\n",
    "> |TSV（タブ区切り）|有り|UTF-8|\n",
    "> \n",
    "> ファイル出力先のパスは以下のようにすること（COPYコマンドの権限は付与済み）。\n",
    "> \n",
    "> |出力先|\n",
    "> |:--:|\n",
    "> |/tmp/data|\n",
    "> \n",
    "> ※\"/tmp/data\"を指定することでJupyterの\"/work/data\"と共有されるようになっている。\n"
   ]
  },
  {
   "cell_type": "code",
   "execution_count": null,
   "metadata": {},
   "outputs": [],
   "source": [
    "%%sql\n"
   ]
  },
  {
   "cell_type": "markdown",
   "metadata": {},
   "source": [
    "---\n",
    "> S-100: 099で作成した以下形式のファイルを読み込み、データを3件を表示させて正しく取り込まれていることを確認せよ。\n",
    "> \n",
    "> |ファイル形式|ヘッダ有無|文字エンコーディング|\n",
    "> |:--:|:--:|:--:|\n",
    "> |TSV（タブ区切り）|有り|UTF-8|"
   ]
  },
  {
   "cell_type": "code",
   "execution_count": null,
   "metadata": {},
   "outputs": [],
   "source": [
    "%%sql\n"
   ]
  },
  {
   "cell_type": "markdown",
   "metadata": {},
   "source": [
    "# これで１００本終わりです。おつかれさまでした！"
   ]
  }
 ],
 "metadata": {
  "kernelspec": {
   "display_name": "Python 3 (ipykernel)",
   "language": "python",
   "name": "python3"
  },
  "language_info": {
   "codemirror_mode": {
    "name": "ipython",
    "version": 3
   },
   "file_extension": ".py",
   "mimetype": "text/x-python",
   "name": "python",
   "nbconvert_exporter": "python",
   "pygments_lexer": "ipython3",
   "version": "3.11.9"
  }
 },
 "nbformat": 4,
 "nbformat_minor": 4
}
